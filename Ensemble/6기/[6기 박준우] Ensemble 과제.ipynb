{
 "cells": [
  {
   "cell_type": "code",
   "execution_count": 1,
   "metadata": {},
   "outputs": [],
   "source": [
    "import numpy as np\n",
    "from sklearn.metrics import accuracy_score\n",
    "from sklearn import preprocessing\n",
    "from sklearn.metrics import accuracy_score, precision_score, recall_score\n",
    "from sklearn.model_selection import train_test_split\n",
    "import pandas as pd\n",
    "import warnings\n",
    "warnings.filterwarnings('ignore')"
   ]
  },
  {
   "cell_type": "code",
   "execution_count": 2,
   "metadata": {},
   "outputs": [],
   "source": [
    "# Prepare dataset\n",
    "data = np.loadtxt('data.csv', delimiter=',', dtype=float)\n",
    "labels = data[:, 0]\n",
    "features = preprocessing.minmax_scale(data[:, 1:])\n",
    "X_train, X_test, y_train, y_test = train_test_split(features, labels.ravel(), test_size=0.3)"
   ]
  },
  {
   "cell_type": "markdown",
   "metadata": {},
   "source": [
    "### 의사결정나무\n",
    "* random_state = 2022 으로 설정\n",
    "* 변수명은 dt_clf 로 설정"
   ]
  },
  {
   "cell_type": "code",
   "execution_count": 3,
   "metadata": {},
   "outputs": [],
   "source": [
    "from sklearn.tree import DecisionTreeClassifier"
   ]
  },
  {
   "cell_type": "code",
   "execution_count": 4,
   "metadata": {},
   "outputs": [],
   "source": [
    "# 빈 부분 코드 작성\n",
    "# decision tree\n",
    "dt_clf = DecisionTreeClassifier(random_state=2022)"
   ]
  },
  {
   "cell_type": "code",
   "execution_count": 5,
   "metadata": {},
   "outputs": [
    {
     "data": {
      "text/plain": [
       "DecisionTreeClassifier(random_state=2022)"
      ]
     },
     "execution_count": 5,
     "metadata": {},
     "output_type": "execute_result"
    }
   ],
   "source": [
    "# 개별 분류기에 train set 피팅\n",
    "dt_clf.fit(X_train, y_train)"
   ]
  },
  {
   "cell_type": "code",
   "execution_count": 7,
   "metadata": {},
   "outputs": [],
   "source": [
    "# test셋으로 prediction\n",
    "dt_pred = dt_clf.predict(X_test)"
   ]
  },
  {
   "cell_type": "code",
   "execution_count": 8,
   "metadata": {},
   "outputs": [
    {
     "name": "stdout",
     "output_type": "stream",
     "text": [
      "0.900990099009901\n"
     ]
    }
   ],
   "source": [
    "# 성능 확인\n",
    "# accuracy_score 계산\n",
    "print(accuracy_score(y_test, dt_pred))"
   ]
  },
  {
   "cell_type": "markdown",
   "metadata": {},
   "source": [
    "### 랜덤 포레스트\n",
    "* random_state = 2022\n",
    "* 변수명 rf_clf 로"
   ]
  },
  {
   "cell_type": "code",
   "execution_count": 10,
   "metadata": {},
   "outputs": [],
   "source": [
    "from sklearn.ensemble import RandomForestClassifier"
   ]
  },
  {
   "cell_type": "code",
   "execution_count": 11,
   "metadata": {},
   "outputs": [],
   "source": [
    "# random forest\n",
    "rf_clf = RandomForestClassifier(random_state=2022)"
   ]
  },
  {
   "cell_type": "code",
   "execution_count": 13,
   "metadata": {},
   "outputs": [
    {
     "data": {
      "text/plain": [
       "RandomForestClassifier(random_state=2022)"
      ]
     },
     "execution_count": 13,
     "metadata": {},
     "output_type": "execute_result"
    }
   ],
   "source": [
    "# 개별 분류기에 train set 피팅\n",
    "rf_clf.fit(X_train, y_train)"
   ]
  },
  {
   "cell_type": "code",
   "execution_count": 15,
   "metadata": {},
   "outputs": [],
   "source": [
    "# test셋으로 prediction\n",
    "rf_pred = rf_clf.predict(X_test)"
   ]
  },
  {
   "cell_type": "code",
   "execution_count": 16,
   "metadata": {},
   "outputs": [
    {
     "name": "stdout",
     "output_type": "stream",
     "text": [
      "0.9603960396039604\n"
     ]
    }
   ],
   "source": [
    "# 성능 확인\n",
    "# accuracy_score 계산\n",
    "print(accuracy_score(y_test, rf_pred))"
   ]
  },
  {
   "cell_type": "markdown",
   "metadata": {},
   "source": [
    "### Gradient Boost\n",
    "* random_state = 2022\n",
    "* 변수명 gb_clf 로"
   ]
  },
  {
   "cell_type": "code",
   "execution_count": 18,
   "metadata": {},
   "outputs": [],
   "source": [
    "from sklearn.ensemble import GradientBoostingClassifier"
   ]
  },
  {
   "cell_type": "code",
   "execution_count": 19,
   "metadata": {},
   "outputs": [],
   "source": [
    "# gradient boost\n",
    "gb_clf = GradientBoostingClassifier(random_state=2022)"
   ]
  },
  {
   "cell_type": "code",
   "execution_count": 20,
   "metadata": {},
   "outputs": [
    {
     "data": {
      "text/plain": [
       "GradientBoostingClassifier(random_state=2022)"
      ]
     },
     "execution_count": 20,
     "metadata": {},
     "output_type": "execute_result"
    }
   ],
   "source": [
    "# 개별 분류기에 train set 피팅\n",
    "gb_clf.fit(X_train, y_train)"
   ]
  },
  {
   "cell_type": "code",
   "execution_count": 21,
   "metadata": {},
   "outputs": [],
   "source": [
    "# test셋으로 prediction\n",
    "gb_pred = gb_clf.predict(X_test)"
   ]
  },
  {
   "cell_type": "code",
   "execution_count": 22,
   "metadata": {},
   "outputs": [
    {
     "name": "stdout",
     "output_type": "stream",
     "text": [
      "0.9702970297029703\n"
     ]
    }
   ],
   "source": [
    "# 성능 확인\n",
    "# accuracy_score 계산\n",
    "print(accuracy_score(y_test, gb_pred))"
   ]
  },
  {
   "cell_type": "markdown",
   "metadata": {},
   "source": [
    "### 보고서 과제\n",
    "1. voting, bagging, random forest, boosting, adaboost, gradient boost 의 특징 및 장단점을 스스로 정리해보기\n",
    "2. Boosting의 advanced model 인 XGBoost, LightGBM, CatBoost에 대해 찾아보고 정리해보기"
   ]
  },
  {
   "cell_type": "code",
   "execution_count": null,
   "metadata": {},
   "outputs": [],
   "source": [
    "'''\n",
    "1.\n",
    "    1) voting\n",
    "        - 여러 개의 분류기가 투표를 통해 최종 예측 결과를 결정하지만, 같은 데이터셋에 대해 \n",
    "        분류기의 종류가 다르다.\n",
    "    2) bagging\n",
    "        - 여러 개의 분류기가 투표를 통해 최종 예측 결과를 결정하지만, 서로 다른 데이터셋으로 샘플링하며 \n",
    "        같은 종류의 분류기를 사용한다. 장점으로 과대적합에 강하지만, 단점으로 특정 영역에서 정확도가 낮다.\n",
    "    3) random forest\n",
    "        - 대표적인 bagging 방식 알고리즘이다. 결정 트리를 여러개 만들어 예측을 수행한다. 특히 변수의 특성을\n",
    "        임의추출하여 트리를 만들어 트리끼리의 독립성을 높이고, 변수 중요도를 계산할 수 있다.\n",
    "    4) boosting\n",
    "        - bagging 처럼 데이터셋에서 샘플링하여 여러 번 학습을 진행하는 것은 같지만, bagging은 여러 분류기가\n",
    "        동시에 병렬적으로 진행되는 것에 반해 boosting은 잘못 분류한 데이터에 가중치를 부여해\n",
    "        순차적으로 학습이 진행된다. 장점으로 높은 정확도를 보여주고, 단점으로는 이상치에 취약하다.\n",
    "    5) adaboost\n",
    "        - 여러 결정 트리를 만들어가는 과정에서 오분류된 데이터에 가중치를 더 부여해서 분류해가는 알고리즘이다.\n",
    "        Random forest와는 달리 특정 분류기가 다른 분류기보다 더 중요한가를 고려하여 선택한다. \n",
    "        \n",
    "    6) gradient boost\n",
    "        - 예측치와 데이터간의 차이인 잔차를 예측해나가는 방식으로 오분류를 줄여나가는 알고리즘이다.\n",
    "        \n",
    "2.\n",
    "    1) XGBoost\n",
    "        - gradient boost 알고리즘을 병렬 학습이 지원되도록 구현하도록 하는 알고리즘이다. 기존 boosting 모델\n",
    "        보다 수행시간이 빠르며, 규제화 및 early stopping이 가능하며 인기 있게 사용되는 알고리즘이다.\n",
    "    2) LightGBM\n",
    "        - 이 역시 gradient boost 알고리즘을 사용하지만, 다른 트리 기반 알고리즘들은 level 기반으로 확장되는데\n",
    "        반해, LightGBM은 leat 기반으로 확장이 되어 속도가 빠르다는 장점이 있다. 반면 이 특징으로 인해\n",
    "        데이터의 수가 적을 경우 오버피팅이 일어나기 쉬운 단점이 있다.\n",
    "        이 역시 인기 있게 사용되는 알고리즘이다.\n",
    "    3) CatBoost\n",
    "        - gradient boost 알고리즘의 단점인 오버피팅을 해결하면서 학습속도를 개선한 모델이다.\n",
    "        또한 hyperparameter에 민감한 문제 역시 해결하는데 초점을 맞추었다. \n",
    "        학습을 진행하는 과정에서 데이터셋을 나누어 학습을 진행하는데, 만약 데이터가\n",
    "        x1, x2, x3, x4, x5 이렇게 존재할 때 x1, x2로 학습한 후 x3에 대한 잔차를 만든다. 그 후 x4를 예측한다.\n",
    "        그 다음으로 x1, x2, x3로 학습한 후 x4에 대한 잔차를 만들고, x5를 예측한다. 이처럼 시계열 데이터가\n",
    "        아닌 경우에도 임의의 시계열처럼 생각하여 부스팅을 진행한다. 유의할 점은 이를 수행하기 위해 \n",
    "        랜덤으로 permutation 해주는 과정도 포함되어 있다는 것이다.\n",
    "        \n",
    "'''"
   ]
  }
 ],
 "metadata": {
  "hide_input": false,
  "kernelspec": {
   "display_name": "Python 3 (ipykernel)",
   "language": "python",
   "name": "python3"
  },
  "language_info": {
   "codemirror_mode": {
    "name": "ipython",
    "version": 3
   },
   "file_extension": ".py",
   "mimetype": "text/x-python",
   "name": "python",
   "nbconvert_exporter": "python",
   "pygments_lexer": "ipython3",
   "version": "3.8.5"
  },
  "nbTranslate": {
   "displayLangs": [
    "*"
   ],
   "hotkey": "alt-t",
   "langInMainMenu": true,
   "sourceLang": "en",
   "targetLang": "fr",
   "useGoogleTranslate": true
  },
  "toc": {
   "base_numbering": 1,
   "nav_menu": {},
   "number_sections": false,
   "sideBar": true,
   "skip_h1_title": false,
   "title_cell": "Table of Contents",
   "title_sidebar": "Contents",
   "toc_cell": false,
   "toc_position": {},
   "toc_section_display": true,
   "toc_window_display": false
  }
 },
 "nbformat": 4,
 "nbformat_minor": 4
}
