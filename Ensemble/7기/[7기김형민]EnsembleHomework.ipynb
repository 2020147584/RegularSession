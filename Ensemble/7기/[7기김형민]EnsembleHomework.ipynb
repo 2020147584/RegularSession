{
  "nbformat": 4,
  "nbformat_minor": 0,
  "metadata": {
    "colab": {
      "name": "[7기김형민]EnsembleHomework",
      "provenance": []
    },
    "kernelspec": {
      "name": "python3",
      "display_name": "Python 3"
    },
    "language_info": {
      "name": "python"
    }
  },
  "cells": [
    {
      "cell_type": "code",
      "execution_count": null,
      "metadata": {
        "colab": {
          "base_uri": "https://localhost:8080/"
        },
        "id": "ItQvNWnKnql0",
        "outputId": "3a7fdcea-bb7f-41d0-c763-3726bdc1fb6f"
      },
      "outputs": [
        {
          "output_type": "stream",
          "name": "stdout",
          "text": [
            "Mounted at /content/drive\n"
          ]
        }
      ],
      "source": [
        "from google.colab import drive\n",
        "drive.mount('/content/drive',force_remount=True)"
      ]
    },
    {
      "cell_type": "code",
      "source": [
        "import numpy as np\n",
        "from sklearn.metrics import accuracy_score\n",
        "from sklearn import preprocessing\n",
        "from sklearn.metrics import accuracy_score, precision_score, recall_score\n",
        "from sklearn.model_selection import train_test_split\n",
        "import pandas as pd\n",
        "import warnings\n",
        "warnings.filterwarnings('ignore')"
      ],
      "metadata": {
        "id": "PdOg9b1joRKC"
      },
      "execution_count": null,
      "outputs": []
    },
    {
      "cell_type": "code",
      "source": [
        "data = np.loadtxt('/content/drive/MyDrive/Regular Session Homework/Ensemble/data.csv', delimiter=',', dtype=float)\n",
        "labels = data[:, 0]\n",
        "features = preprocessing.minmax_scale(data[:, 1:])\n",
        "x_train, x_test, y_train, y_test = train_test_split(features, labels.ravel(), test_size=0.3, random_state=2022)"
      ],
      "metadata": {
        "id": "kIztTIPxocuI"
      },
      "execution_count": null,
      "outputs": []
    },
    {
      "cell_type": "code",
      "source": [
        "from sklearn.tree import DecisionTreeClassifier\n",
        "import numpy as np\n",
        "import pandas as pd\n",
        "import matplotlib.pyplot as plt\n",
        "import seaborn as sns\n",
        "from sklearn import tree\n",
        "from sklearn.tree import export_graphviz\n",
        "!pip install pydot\n",
        "\n",
        "import pydot\n",
        "from IPython.core.display import Image "
      ],
      "metadata": {
        "colab": {
          "base_uri": "https://localhost:8080/"
        },
        "id": "bJceo9CDt5w9",
        "outputId": "e0d6de3c-784d-4b6d-e656-8ec99744a5a3"
      },
      "execution_count": null,
      "outputs": [
        {
          "output_type": "stream",
          "name": "stdout",
          "text": [
            "Requirement already satisfied: pydot in /usr/local/lib/python3.7/dist-packages (1.3.0)\n",
            "Requirement already satisfied: pyparsing>=2.1.4 in /usr/local/lib/python3.7/dist-packages (from pydot) (3.0.7)\n"
          ]
        }
      ]
    },
    {
      "cell_type": "code",
      "source": [
        "clf = tree.DecisionTreeClassifier()\n",
        "dt_clf = clf.fit(x_train, y_train)"
      ],
      "metadata": {
        "id": "hJfsokr5uEYD"
      },
      "execution_count": null,
      "outputs": []
    },
    {
      "cell_type": "code",
      "source": [
        "from sklearn.metrics import confusion_matrix\n",
        "from sklearn import metrics\n",
        "dt_pred = dt_clf.predict(x_test)\n",
        "confusion_matrix(y_test, dt_pred)\n",
        "print(confusion_matrix(y_test, dt_pred))\n",
        "print(\"Accuracy:\", metrics.accuracy_score(y_test,dt_pred))"
      ],
      "metadata": {
        "colab": {
          "base_uri": "https://localhost:8080/"
        },
        "id": "NleavHkOvErJ",
        "outputId": "b299fe8f-43bd-439c-9f4c-36fc03343cd9"
      },
      "execution_count": null,
      "outputs": [
        {
          "output_type": "stream",
          "name": "stdout",
          "text": [
            "[[44  6]\n",
            " [ 3 48]]\n",
            "Accuracy: 0.9108910891089109\n"
          ]
        }
      ]
    },
    {
      "cell_type": "code",
      "source": [
        "from sklearn.ensemble import RandomForestClassifier\n",
        "clf2 = RandomForestClassifier()\n",
        "rf_clf = clf2.fit(x_train, y_train)\n",
        "rf_pred = rf_clf.predict(x_test)\n",
        "confusion_matrix(y_test, rf_pred)\n",
        "print(confusion_matrix(y_test, rf_pred))\n",
        "print(\"Accuracy:\", metrics.accuracy_score(y_test,rf_pred))"
      ],
      "metadata": {
        "colab": {
          "base_uri": "https://localhost:8080/"
        },
        "id": "R5Ze7sb6wDnE",
        "outputId": "95dd3e58-1681-445c-aa2b-4d8fa14ee609"
      },
      "execution_count": null,
      "outputs": [
        {
          "output_type": "stream",
          "name": "stdout",
          "text": [
            "[[48  2]\n",
            " [ 4 47]]\n",
            "Accuracy: 0.9405940594059405\n"
          ]
        }
      ]
    },
    {
      "cell_type": "code",
      "source": [
        "from sklearn.ensemble import GradientBoostingClassifier\n",
        "clf3 = GradientBoostingClassifier()\n",
        "gb_clf = clf3.fit(x_train, y_train)\n",
        "gb_pred = gb_clf.predict(x_test)\n",
        "confusion_matrix(y_test, gb_pred)\n",
        "print(confusion_matrix(y_test, gb_pred))\n",
        "print(\"Accuracy:\", metrics.accuracy_score(y_test,gb_pred))"
      ],
      "metadata": {
        "colab": {
          "base_uri": "https://localhost:8080/"
        },
        "id": "4f3jjkA60u0a",
        "outputId": "d78ad504-a357-49ea-8fe5-c97a9854e445"
      },
      "execution_count": null,
      "outputs": [
        {
          "output_type": "stream",
          "name": "stdout",
          "text": [
            "[[49  1]\n",
            " [ 3 48]]\n",
            "Accuracy: 0.9603960396039604\n"
          ]
        }
      ]
    }
  ]
}