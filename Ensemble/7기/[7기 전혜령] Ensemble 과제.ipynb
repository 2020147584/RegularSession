{
  "cells": [
    {
      "cell_type": "code",
      "execution_count": 1,
      "metadata": {
        "id": "9w4YAO9OtTr1"
      },
      "outputs": [],
      "source": [
        "import numpy as np\n",
        "from sklearn.metrics import accuracy_score\n",
        "from sklearn import preprocessing\n",
        "from sklearn.metrics import accuracy_score, precision_score, recall_score\n",
        "from sklearn.model_selection import train_test_split\n",
        "import pandas as pd\n",
        "import warnings\n",
        "warnings.filterwarnings('ignore')"
      ]
    },
    {
      "cell_type": "code",
      "source": [
        "from google.colab import drive\n",
        "drive.mount('/content/drive')"
      ],
      "metadata": {
        "colab": {
          "base_uri": "https://localhost:8080/"
        },
        "id": "gSlF10X8uCX8",
        "outputId": "21f4a679-6542-43ee-e0ae-1a1789c4b556"
      },
      "execution_count": 2,
      "outputs": [
        {
          "output_type": "stream",
          "name": "stdout",
          "text": [
            "Mounted at /content/drive\n"
          ]
        }
      ]
    },
    {
      "cell_type": "code",
      "source": [
        "import os\n",
        "os.getcwd()"
      ],
      "metadata": {
        "colab": {
          "base_uri": "https://localhost:8080/",
          "height": 36
        },
        "id": "Kte_2eHEuK3g",
        "outputId": "42ac1395-a4a0-4342-bd34-75ce417a463c"
      },
      "execution_count": 3,
      "outputs": [
        {
          "output_type": "execute_result",
          "data": {
            "application/vnd.google.colaboratory.intrinsic+json": {
              "type": "string"
            },
            "text/plain": [
              "'/content'"
            ]
          },
          "metadata": {},
          "execution_count": 3
        }
      ]
    },
    {
      "cell_type": "code",
      "source": [
        "path = '/content/drive/MyDrive/DSL session/[DSL] Ensemble'  \n",
        "os.chdir(path)"
      ],
      "metadata": {
        "id": "nEqa4D9QuLb8"
      },
      "execution_count": 4,
      "outputs": []
    },
    {
      "cell_type": "code",
      "source": [
        "os.getcwd()"
      ],
      "metadata": {
        "colab": {
          "base_uri": "https://localhost:8080/",
          "height": 36
        },
        "id": "Ojk_1yKquVG3",
        "outputId": "26496127-a8d8-417b-888c-a91d39ea86b0"
      },
      "execution_count": 5,
      "outputs": [
        {
          "output_type": "execute_result",
          "data": {
            "application/vnd.google.colaboratory.intrinsic+json": {
              "type": "string"
            },
            "text/plain": [
              "'/content/drive/MyDrive/DSL session/[DSL] Ensemble'"
            ]
          },
          "metadata": {},
          "execution_count": 5
        }
      ]
    },
    {
      "cell_type": "code",
      "execution_count": 6,
      "metadata": {
        "id": "vynsxwXztTr5"
      },
      "outputs": [],
      "source": [
        "# Prepare dataset\n",
        "data = np.loadtxt('data.csv', delimiter=',', dtype=float)\n",
        "labels = data[:, 0]\n",
        "features = preprocessing.minmax_scale(data[:, 1:])\n",
        "X_train, X_test, y_train, y_test = train_test_split(features, labels.ravel(), test_size=0.3)"
      ]
    },
    {
      "cell_type": "markdown",
      "metadata": {
        "id": "66U19tpztTr5"
      },
      "source": [
        "### 의사결정나무\n",
        "* random_state = 2022 으로 설정\n",
        "* 변수명은 dt_clf 로 설정"
      ]
    },
    {
      "cell_type": "code",
      "execution_count": 7,
      "metadata": {
        "id": "XcBq6xuztTr7"
      },
      "outputs": [],
      "source": [
        "from sklearn.tree import DecisionTreeClassifier"
      ]
    },
    {
      "cell_type": "code",
      "execution_count": 34,
      "metadata": {
        "id": "sJxJH8tWtTr8"
      },
      "outputs": [],
      "source": [
        "# 빈 부분 코드 작성\n",
        "# decision tree\n",
        "dt_clf = DecisionTreeClassifier(random_state=2022)"
      ]
    },
    {
      "cell_type": "code",
      "execution_count": 35,
      "metadata": {
        "colab": {
          "base_uri": "https://localhost:8080/"
        },
        "id": "tOVEbILYtTr9",
        "outputId": "e62a8735-e326-4afd-fc05-523303ee24ba"
      },
      "outputs": [
        {
          "output_type": "execute_result",
          "data": {
            "text/plain": [
              "DecisionTreeClassifier(random_state=2022)"
            ]
          },
          "metadata": {},
          "execution_count": 35
        }
      ],
      "source": [
        "# 개별 분류기에 train set 피팅\n",
        "dt_clf.fit(X_train,y_train)"
      ]
    },
    {
      "cell_type": "code",
      "execution_count": 36,
      "metadata": {
        "id": "PZcfPhL8tTr9"
      },
      "outputs": [],
      "source": [
        "# test셋으로 prediction\n",
        "dt_pred = dt_clf.predict(X_test)"
      ]
    },
    {
      "cell_type": "code",
      "execution_count": 38,
      "metadata": {
        "colab": {
          "base_uri": "https://localhost:8080/"
        },
        "id": "zAFLMue_tTr-",
        "outputId": "b006245e-99b5-4572-845c-e0fa5fffbba0"
      },
      "outputs": [
        {
          "output_type": "stream",
          "name": "stdout",
          "text": [
            "의사결정나무 정확도: 0.8317\n"
          ]
        }
      ],
      "source": [
        "# 성능 확인\n",
        "# accuracy_score 계산\n",
        "accuracy = accuracy_score(y_test , dt_pred)\n",
        "print('의사결정나무 정확도: {0:.4f}'.format(accuracy))"
      ]
    },
    {
      "cell_type": "markdown",
      "metadata": {
        "id": "UJqBjmTitTr-"
      },
      "source": [
        "### 랜덤 포레스트\n",
        "* random_state = 2022\n",
        "* 변수명 rf_clf 로"
      ]
    },
    {
      "cell_type": "code",
      "execution_count": 19,
      "metadata": {
        "id": "SXzVCivUtTr_"
      },
      "outputs": [],
      "source": [
        "from sklearn.ensemble import RandomForestClassifier"
      ]
    },
    {
      "cell_type": "code",
      "execution_count": 20,
      "metadata": {
        "id": "lmhKuIhPtTr_"
      },
      "outputs": [],
      "source": [
        "# random forest\n",
        "rf_clf = RandomForestClassifier(random_state=2022)"
      ]
    },
    {
      "cell_type": "code",
      "execution_count": 21,
      "metadata": {
        "colab": {
          "base_uri": "https://localhost:8080/"
        },
        "id": "TU9rX3pAtTsA",
        "outputId": "bafed035-f29f-4d32-fbbb-77887b785d8f"
      },
      "outputs": [
        {
          "output_type": "execute_result",
          "data": {
            "text/plain": [
              "RandomForestClassifier(random_state=2022)"
            ]
          },
          "metadata": {},
          "execution_count": 21
        }
      ],
      "source": [
        "# 개별 분류기에 train set 피팅\n",
        "rf_clf.fit(X_train , y_train)"
      ]
    },
    {
      "cell_type": "code",
      "execution_count": 22,
      "metadata": {
        "id": "w70Hx_f4tTsA"
      },
      "outputs": [],
      "source": [
        "# test셋으로 prediction\n",
        "rf_pred = rf_clf.predict(X_test)"
      ]
    },
    {
      "cell_type": "code",
      "execution_count": 24,
      "metadata": {
        "colab": {
          "base_uri": "https://localhost:8080/"
        },
        "id": "cwkWv4iOtTsB",
        "outputId": "dceea6e2-b8ca-44c4-9e24-8aec72284857"
      },
      "outputs": [
        {
          "output_type": "stream",
          "name": "stdout",
          "text": [
            "랜덤 포레스트 정확도: 0.9604\n"
          ]
        }
      ],
      "source": [
        "# 성능 확인\n",
        "# accuracy_score 계산\n",
        "accuracy = accuracy_score(y_test , rf_pred)\n",
        "print('랜덤 포레스트 정확도: {0:.4f}'.format(accuracy))"
      ]
    },
    {
      "cell_type": "markdown",
      "metadata": {
        "id": "SqtRcfI4tTsB"
      },
      "source": [
        "### Gradient Boost\n",
        "* random_state = 2022\n",
        "* 변수명 gb_clf 로"
      ]
    },
    {
      "cell_type": "code",
      "execution_count": 29,
      "metadata": {
        "id": "_IbKiUuGtTsB"
      },
      "outputs": [],
      "source": [
        "from sklearn.ensemble import GradientBoostingClassifier"
      ]
    },
    {
      "cell_type": "code",
      "execution_count": 30,
      "metadata": {
        "id": "67wz81b2tTsC"
      },
      "outputs": [],
      "source": [
        "# gradient boost\n",
        "gb_clf = GradientBoostingClassifier(random_state=2022)"
      ]
    },
    {
      "cell_type": "code",
      "execution_count": 31,
      "metadata": {
        "colab": {
          "base_uri": "https://localhost:8080/"
        },
        "id": "JdyptQqFtTsC",
        "outputId": "d01c5e84-1a98-49d1-fb34-ef22d565ad73"
      },
      "outputs": [
        {
          "output_type": "execute_result",
          "data": {
            "text/plain": [
              "GradientBoostingClassifier(random_state=2022)"
            ]
          },
          "metadata": {},
          "execution_count": 31
        }
      ],
      "source": [
        "# 개별 분류기에 train set 피팅\n",
        "gb_clf.fit(X_train , y_train)"
      ]
    },
    {
      "cell_type": "code",
      "execution_count": 32,
      "metadata": {
        "id": "Dv8hpdAKtTsC"
      },
      "outputs": [],
      "source": [
        "# test셋으로 prediction\n",
        "gb_pred = gb_clf.predict(X_test)"
      ]
    },
    {
      "cell_type": "code",
      "execution_count": 33,
      "metadata": {
        "colab": {
          "base_uri": "https://localhost:8080/"
        },
        "id": "dli8XQP8tTsC",
        "outputId": "b890e968-6d9f-4002-803b-7dc111b79fef"
      },
      "outputs": [
        {
          "output_type": "stream",
          "name": "stdout",
          "text": [
            "GBM 정확도: 0.9604\n"
          ]
        }
      ],
      "source": [
        "# 성능 확인\n",
        "# accuracy_score 계산\n",
        "gb_accuracy = accuracy_score(y_test, gb_pred)\n",
        "print('GBM 정확도: {0:.4f}'.format(gb_accuracy))"
      ]
    },
    {
      "cell_type": "markdown",
      "metadata": {
        "id": "7v1osjIjtTsD"
      },
      "source": [
        "### 보고서 과제\n",
        "1. voting, bagging, random forest, boosting, adaboost, gradient boost 의 특징 및 장단점을 스스로 정리해보기\n",
        "2. Boosting의 advanced model 인 XGBoost, LightGBM, CatBoost에 대해 찾아보고 정리해보기"
      ]
    },
    {
      "cell_type": "markdown",
      "source": [
        "## 앙상블(Ensemble)\n",
        ": 주어진 자료로부터 여러 개의 예측모형들을 만든 후 예측모형들을 조합하여 하나의 최종 예측 모형을 만드는 방법  \n",
        "  \n",
        "![이미지](https://discuss.pytorch.org/uploads/default/original/2X/4/4f894bb9c9b381c65a9e851ff8afeb5d48ffa58a.png)    \n",
        "\n",
        "### 1) Bagging\n",
        "- Breimen(1994)에 의해 제안\n",
        "- 주어진 자료에서 여러개의 bootstrap* 자료를 생성 후 각 bootstrap 자료에 예측모형을 만든 후 결합하여 최종 예측모형을 만드는 방법  \n",
        "(* bootstrap = 주어진 자료에서 동일한 크기의 표본을 랜덤 복원추출로 뽑은 자료)\n",
        "- Voting은 여러 개의 모형으로부터 산출된 결과를 다수결에 의해 최종 결과를 선정하는 과정\n",
        "- Bagging에서는 가지치기를 하지 않고 최대로 성장한 의사결정나무들을 활용\n",
        "- 훈련자료의 모집단의 분포를 모르기 때문에 실제 문제에서는 평균 예측 모형을 구할 수 없음  \n",
        "  -> Bagging은 이러한 문제를 해결하기 위해 훈련자료를 모집단으로 생각하고 평균예측모형을 구하여 분산을 줄이고 예측력을 향상시킬 수 있음  \n",
        "\n",
        "### 2) Boosting\n",
        "- 예측력이 약한 모형들을 결합하여 강한 예측모형을 만드는 방법\n",
        "- Adaboost (Freund & Schapire에 의해 제안) 는 이진분류 문제에서 랜덤 분류기보다 조금 더 좋은 분류기 n개에 각각 가중치를 설정하고 n개의 분류기를 결합하여 최종 분류기를 만드는 방법 (단, 가중치의 합은 1)  \n",
        "- GBM(Gradient Boost Machine)도 AdaBoost와 유사하게 동작하지만 경사 하강법(Gradient descent)을 사용하여 가중치 업데이트를 한다는 차이점이 있음\n",
        "\n",
        "### 3) Random forest\n",
        "- Breimen(2001)에 의해 개발\n",
        "- Bagging과 Boosting보다 더 많은 무작위성을 주어 약한 학습기들 생성한 후 이를 선형 결합하여 최종 학습기를 만드는 방법\n",
        "- 랜덤한 forest에는 많은 트리들이 생성\n",
        "- 수천 개의 변수를 통해 변수 제거 없이 실행되므로 좋은 정확도를 보임\n",
        "- 예측력이 높다는 장점 있지만, 이론적 설명이나 최종 결과에 대한 해석이 어렵다는 단점 존재"
      ],
      "metadata": {
        "id": "o9xKMw520JNI"
      }
    },
    {
      "cell_type": "markdown",
      "source": [
        "## Advanaced Boosting Algorithm\n",
        "### 1) XGBoost\n",
        "- 여러개의 의사결정 나무를 조합해서 사용하는 Ensemble 알고리즘\n",
        "- 병렬 처리를 지원 -> 실행 속도 개선\n",
        "- 'depth-first' 방식의 가지치기\n",
        "- Lasso(L1)와 Ridge(L2) 규제를 통해서 모델에 penalty를 부여하여 Overfitting 방지\n",
        "- \"Distributed weighted Quatile sketch\" 알고리즘을 사용하여 최적이 분기점을 효율적으로 찾아냄\n",
        "\n",
        "### 2) LightGBM\n",
        "- GOSS(Gradient-based One-Side Sampling)는 Information gain을 계산할 때 기울기가 작은 개체에 승수 상수를 적용하여 데이터를 증폭시킴\n",
        " -> 이렇게 함으로써 데이터 분포를 많이 변경하지 않아도 훈련이 덜 된 개체에 초점을 보다 잘 맞출 수 있음\n",
        "- leaf-wise(리프 중심 트리 분할): tree의 균형을 고려하지 않고 최대 손실 값(max data loss)를 가지는 leaf node를 지속적으로 분할하면서 tree의 깊이가 깊어지고 비대칭적인 tree가 생성\n",
        " -> 예측 오류 손실을 최소화\n",
        "- 작은 dataset을 사용할 경우 과적합 가능성이 큼\n",
        "\n",
        "\n",
        "### 3) CatBoost\n",
        "- CatBoost의 약자는 Categorical Boosting로, Catergorical feature를 처리하는데 중점을 둔 알고리즘\n",
        "- ordering principle을 적용한 Orderd Target Statistics(TS)*를 제안, 각 단계마다 다른 무작위 순열을 활용  \n",
        " ( *Ts 추정치를 observed history에서만 구하는 방식)\n",
        "- 그 외 oblivious decision Tree와 feature combination과 같은 방법론도 사용  \n",
        "> - Olivious descision Tree(망각 결정 트리)는 트리를 분할할 때 동일한 분할 기준이 전체 트리 레벨에서 적용되는 것으로 이는 균형적인 트리를 만들 수 있고 overfitting을 막을 수 있음  \n",
        "> - Feature combination은 말그대로 범주형 변수의 조합으로 새로운 변수조합을 만드는 것. Greedy 방식으로 이러한 조합을 만들어 트리를 분할할때 이전에 사용된 데이터에서 조합을 찾아내고 TS로 변환하는 방식\n",
        "- 데이터 대부분이 수치형일 경우 위와같은 알고리즘이 큰 효과를 내기가 어려움.  또한 lightgbm에 비해 학습 속도가 느림"
      ],
      "metadata": {
        "id": "7rM6RDpc6ps9"
      }
    },
    {
      "cell_type": "markdown",
      "source": [
        "###Reference  \n",
        "[데이터 에듀] 데이터분석 전문가 제 4권  \n",
        "https://statinknu.tistory.com/33  \n",
        "https://mac-user-guide.tistory.com/79 \n"
      ],
      "metadata": {
        "id": "NmjX61OE7y1e"
      }
    }
  ],
  "metadata": {
    "hide_input": false,
    "kernelspec": {
      "display_name": "Python 3",
      "language": "python",
      "name": "python3"
    },
    "language_info": {
      "codemirror_mode": {
        "name": "ipython",
        "version": 3
      },
      "file_extension": ".py",
      "mimetype": "text/x-python",
      "name": "python",
      "nbconvert_exporter": "python",
      "pygments_lexer": "ipython3",
      "version": "3.8.5"
    },
    "nbTranslate": {
      "displayLangs": [
        "*"
      ],
      "hotkey": "alt-t",
      "langInMainMenu": true,
      "sourceLang": "en",
      "targetLang": "fr",
      "useGoogleTranslate": true
    },
    "toc": {
      "base_numbering": 1,
      "nav_menu": {},
      "number_sections": false,
      "sideBar": true,
      "skip_h1_title": false,
      "title_cell": "Table of Contents",
      "title_sidebar": "Contents",
      "toc_cell": false,
      "toc_position": {},
      "toc_section_display": true,
      "toc_window_display": false
    },
    "colab": {
      "name": "Ensemble 과제.ipynb",
      "provenance": [],
      "collapsed_sections": []
    }
  },
  "nbformat": 4,
  "nbformat_minor": 0
}