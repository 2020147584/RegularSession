{
 "cells": [
  {
   "cell_type": "code",
   "execution_count": 11,
   "metadata": {
    "id": "NuogZdJAewSq"
   },
   "outputs": [],
   "source": [
    "import numpy as np\n",
    "import pandas as pd\n",
    "import matplotlib.pyplot as plt\n",
    "import seaborn as sns\n",
    "plt.style.use('seaborn-white')"
   ]
  },
  {
   "cell_type": "markdown",
   "metadata": {
    "id": "u5RQzjdjj6I2"
   },
   "source": [
    "#### 코랩 사용시"
   ]
  },
  {
   "cell_type": "code",
   "execution_count": null,
   "metadata": {
    "id": "7J7wP7X6nQtv"
   },
   "outputs": [],
   "source": [
    "# from google.colab import drive\n",
    "# drive.mount('/content/drive')"
   ]
  },
  {
   "cell_type": "code",
   "execution_count": null,
   "metadata": {},
   "outputs": [],
   "source": []
  },
  {
   "cell_type": "code",
   "execution_count": 3,
   "metadata": {
    "id": "OA4UW3j4kePR"
   },
   "outputs": [],
   "source": [
    "import os\n",
    "os.chdir('/Users/justdoit/Desktop/DSL/2022-1/220203 Supervised Learning')"
   ]
  },
  {
   "cell_type": "markdown",
   "metadata": {
    "id": "NtVt7I7qWH8s"
   },
   "source": [
    "코랩 사용시 본인 구글 드라이브 경로는  \n",
    "/content/drive/MyDrive/...  \n",
    "입니다."
   ]
  },
  {
   "cell_type": "code",
   "execution_count": 4,
   "metadata": {
    "id": "0qXX7Ab0kHuX"
   },
   "outputs": [
    {
     "data": {
      "text/plain": [
       "'/Users/justdoit/Desktop/DSL/2022-1/220203 Supervised Learning'"
      ]
     },
     "execution_count": 4,
     "metadata": {},
     "output_type": "execute_result"
    }
   ],
   "source": [
    "os.getcwd()"
   ]
  },
  {
   "cell_type": "markdown",
   "metadata": {
    "id": "JfNxu2eTDyl6"
   },
   "source": [
    "## 아파트 전월세 가격 회귀 모델"
   ]
  },
  {
   "cell_type": "markdown",
   "metadata": {
    "id": "K2sLE1gZOTc2"
   },
   "source": [
    "2020년 전국의 아파트 전월세 거래 데이터셋을 활용합니다.  \n",
    "해당 데이터셋에서 전세 거래와 월세 거래를 구분한 후,  \n",
    "보증금 혹은 월세에 가장 큰 영향을 미치는 feature를 찾아  \n",
    "선형회귀 모델을 세우려고 합니다."
   ]
  },
  {
   "cell_type": "markdown",
   "metadata": {
    "id": "P0Jb-FG2O2zn"
   },
   "source": [
    "1) Apartment_train.csv, Apartment_test.csv 파일을  \n",
    "apart_train, apart_test 라는 변수에 DataFrame 형태로 불러와주세요."
   ]
  },
  {
   "cell_type": "code",
   "execution_count": 5,
   "metadata": {
    "id": "0vta5cNXDyUu"
   },
   "outputs": [],
   "source": [
    "apart_train = pd.read_csv('Apartment_train.csv')\n",
    "apart_test = pd.read_csv('Apartment_test.csv')"
   ]
  },
  {
   "cell_type": "markdown",
   "metadata": {
    "id": "mF3jD24WPEXe"
   },
   "source": [
    "2) apart 데이터셋에서 월세와 전세를 구분하여  \n",
    "다음과 같은 4개의 변수에 할당하려고 합니다.  \n",
    "\n",
    "- train set에서 월세_train, 전세_train  \n",
    " test set에서 월세_test, 전세_test  \n",
    "\n",
    "이에 해당하는 코드를 작성해주세요.\n"
   ]
  },
  {
   "cell_type": "code",
   "execution_count": 6,
   "metadata": {},
   "outputs": [
    {
     "data": {
      "text/html": [
       "<div>\n",
       "<style scoped>\n",
       "    .dataframe tbody tr th:only-of-type {\n",
       "        vertical-align: middle;\n",
       "    }\n",
       "\n",
       "    .dataframe tbody tr th {\n",
       "        vertical-align: top;\n",
       "    }\n",
       "\n",
       "    .dataframe thead th {\n",
       "        text-align: right;\n",
       "    }\n",
       "</style>\n",
       "<table border=\"1\" class=\"dataframe\">\n",
       "  <thead>\n",
       "    <tr style=\"text-align: right;\">\n",
       "      <th></th>\n",
       "      <th>시군구</th>\n",
       "      <th>단지명</th>\n",
       "      <th>전월세구분</th>\n",
       "      <th>전용면적(㎡)</th>\n",
       "      <th>보증금(만원)</th>\n",
       "      <th>월세(만원)</th>\n",
       "      <th>층</th>\n",
       "      <th>건축년도</th>\n",
       "    </tr>\n",
       "  </thead>\n",
       "  <tbody>\n",
       "    <tr>\n",
       "      <th>0</th>\n",
       "      <td>대구광역시</td>\n",
       "      <td>트윈팰리스</td>\n",
       "      <td>전세</td>\n",
       "      <td>84.1500</td>\n",
       "      <td>32000</td>\n",
       "      <td>0</td>\n",
       "      <td>13</td>\n",
       "      <td>2006</td>\n",
       "    </tr>\n",
       "    <tr>\n",
       "      <th>1</th>\n",
       "      <td>부산광역시</td>\n",
       "      <td>삼익비치</td>\n",
       "      <td>전세</td>\n",
       "      <td>73.9200</td>\n",
       "      <td>12000</td>\n",
       "      <td>0</td>\n",
       "      <td>8</td>\n",
       "      <td>1979</td>\n",
       "    </tr>\n",
       "    <tr>\n",
       "      <th>2</th>\n",
       "      <td>대구광역시</td>\n",
       "      <td>동대구반도유보라</td>\n",
       "      <td>월세</td>\n",
       "      <td>39.7596</td>\n",
       "      <td>1000</td>\n",
       "      <td>54</td>\n",
       "      <td>11</td>\n",
       "      <td>2018</td>\n",
       "    </tr>\n",
       "    <tr>\n",
       "      <th>3</th>\n",
       "      <td>대전광역시</td>\n",
       "      <td>주공1단지아파트</td>\n",
       "      <td>월세</td>\n",
       "      <td>26.3700</td>\n",
       "      <td>579</td>\n",
       "      <td>8</td>\n",
       "      <td>4</td>\n",
       "      <td>1993</td>\n",
       "    </tr>\n",
       "    <tr>\n",
       "      <th>4</th>\n",
       "      <td>광주광역시</td>\n",
       "      <td>선운지구진아리채</td>\n",
       "      <td>전세</td>\n",
       "      <td>78.0887</td>\n",
       "      <td>27000</td>\n",
       "      <td>0</td>\n",
       "      <td>1</td>\n",
       "      <td>2014</td>\n",
       "    </tr>\n",
       "    <tr>\n",
       "      <th>...</th>\n",
       "      <td>...</td>\n",
       "      <td>...</td>\n",
       "      <td>...</td>\n",
       "      <td>...</td>\n",
       "      <td>...</td>\n",
       "      <td>...</td>\n",
       "      <td>...</td>\n",
       "      <td>...</td>\n",
       "    </tr>\n",
       "    <tr>\n",
       "      <th>13995</th>\n",
       "      <td>부산광역시</td>\n",
       "      <td>해운대비치베르빌</td>\n",
       "      <td>전세</td>\n",
       "      <td>123.7550</td>\n",
       "      <td>28000</td>\n",
       "      <td>0</td>\n",
       "      <td>33</td>\n",
       "      <td>2005</td>\n",
       "    </tr>\n",
       "    <tr>\n",
       "      <th>13996</th>\n",
       "      <td>대구광역시</td>\n",
       "      <td>센트로팰리스</td>\n",
       "      <td>월세</td>\n",
       "      <td>80.7360</td>\n",
       "      <td>2000</td>\n",
       "      <td>130</td>\n",
       "      <td>7</td>\n",
       "      <td>2007</td>\n",
       "    </tr>\n",
       "    <tr>\n",
       "      <th>13997</th>\n",
       "      <td>전라북도</td>\n",
       "      <td>동신</td>\n",
       "      <td>전세</td>\n",
       "      <td>76.3500</td>\n",
       "      <td>6000</td>\n",
       "      <td>0</td>\n",
       "      <td>9</td>\n",
       "      <td>1991</td>\n",
       "    </tr>\n",
       "    <tr>\n",
       "      <th>13998</th>\n",
       "      <td>서울특별시</td>\n",
       "      <td>이스턴잠실</td>\n",
       "      <td>전세</td>\n",
       "      <td>29.5700</td>\n",
       "      <td>31000</td>\n",
       "      <td>0</td>\n",
       "      <td>4</td>\n",
       "      <td>2020</td>\n",
       "    </tr>\n",
       "    <tr>\n",
       "      <th>13999</th>\n",
       "      <td>충청남도</td>\n",
       "      <td>두정역효성해링턴플레이스</td>\n",
       "      <td>전세</td>\n",
       "      <td>59.8600</td>\n",
       "      <td>18000</td>\n",
       "      <td>0</td>\n",
       "      <td>13</td>\n",
       "      <td>2020</td>\n",
       "    </tr>\n",
       "  </tbody>\n",
       "</table>\n",
       "<p>14000 rows × 8 columns</p>\n",
       "</div>"
      ],
      "text/plain": [
       "         시군구           단지명 전월세구분   전용면적(㎡)  보증금(만원)  월세(만원)   층  건축년도\n",
       "0      대구광역시         트윈팰리스    전세   84.1500    32000       0  13  2006\n",
       "1      부산광역시          삼익비치    전세   73.9200    12000       0   8  1979\n",
       "2      대구광역시      동대구반도유보라    월세   39.7596     1000      54  11  2018\n",
       "3      대전광역시      주공1단지아파트    월세   26.3700      579       8   4  1993\n",
       "4      광주광역시      선운지구진아리채    전세   78.0887    27000       0   1  2014\n",
       "...      ...           ...   ...       ...      ...     ...  ..   ...\n",
       "13995  부산광역시      해운대비치베르빌    전세  123.7550    28000       0  33  2005\n",
       "13996  대구광역시        센트로팰리스    월세   80.7360     2000     130   7  2007\n",
       "13997   전라북도            동신    전세   76.3500     6000       0   9  1991\n",
       "13998  서울특별시         이스턴잠실    전세   29.5700    31000       0   4  2020\n",
       "13999   충청남도  두정역효성해링턴플레이스    전세   59.8600    18000       0  13  2020\n",
       "\n",
       "[14000 rows x 8 columns]"
      ]
     },
     "execution_count": 6,
     "metadata": {},
     "output_type": "execute_result"
    }
   ],
   "source": [
    "apart_train"
   ]
  },
  {
   "cell_type": "code",
   "execution_count": 7,
   "metadata": {},
   "outputs": [
    {
     "data": {
      "text/html": [
       "<div>\n",
       "<style scoped>\n",
       "    .dataframe tbody tr th:only-of-type {\n",
       "        vertical-align: middle;\n",
       "    }\n",
       "\n",
       "    .dataframe tbody tr th {\n",
       "        vertical-align: top;\n",
       "    }\n",
       "\n",
       "    .dataframe thead th {\n",
       "        text-align: right;\n",
       "    }\n",
       "</style>\n",
       "<table border=\"1\" class=\"dataframe\">\n",
       "  <thead>\n",
       "    <tr style=\"text-align: right;\">\n",
       "      <th></th>\n",
       "      <th>시군구</th>\n",
       "      <th>단지명</th>\n",
       "      <th>전월세구분</th>\n",
       "      <th>전용면적(㎡)</th>\n",
       "      <th>보증금(만원)</th>\n",
       "      <th>월세(만원)</th>\n",
       "      <th>층</th>\n",
       "      <th>건축년도</th>\n",
       "    </tr>\n",
       "  </thead>\n",
       "  <tbody>\n",
       "    <tr>\n",
       "      <th>0</th>\n",
       "      <td>경기도</td>\n",
       "      <td>한빛마을6단지(휴먼시아)(1023)</td>\n",
       "      <td>월세</td>\n",
       "      <td>45.8400</td>\n",
       "      <td>2806</td>\n",
       "      <td>19</td>\n",
       "      <td>15</td>\n",
       "      <td>2011</td>\n",
       "    </tr>\n",
       "    <tr>\n",
       "      <th>1</th>\n",
       "      <td>경기도</td>\n",
       "      <td>중앙하이츠1</td>\n",
       "      <td>전세</td>\n",
       "      <td>84.7900</td>\n",
       "      <td>31500</td>\n",
       "      <td>0</td>\n",
       "      <td>10</td>\n",
       "      <td>1993</td>\n",
       "    </tr>\n",
       "    <tr>\n",
       "      <th>2</th>\n",
       "      <td>대구광역시</td>\n",
       "      <td>달성화성파크드림</td>\n",
       "      <td>전세</td>\n",
       "      <td>59.9687</td>\n",
       "      <td>8000</td>\n",
       "      <td>0</td>\n",
       "      <td>9</td>\n",
       "      <td>2011</td>\n",
       "    </tr>\n",
       "    <tr>\n",
       "      <th>3</th>\n",
       "      <td>광주광역시</td>\n",
       "      <td>휴먼시아2</td>\n",
       "      <td>월세</td>\n",
       "      <td>46.5300</td>\n",
       "      <td>4526</td>\n",
       "      <td>7</td>\n",
       "      <td>4</td>\n",
       "      <td>2008</td>\n",
       "    </tr>\n",
       "    <tr>\n",
       "      <th>4</th>\n",
       "      <td>부산광역시</td>\n",
       "      <td>태진팰리스</td>\n",
       "      <td>전세</td>\n",
       "      <td>52.0100</td>\n",
       "      <td>18000</td>\n",
       "      <td>0</td>\n",
       "      <td>5</td>\n",
       "      <td>2018</td>\n",
       "    </tr>\n",
       "    <tr>\n",
       "      <th>...</th>\n",
       "      <td>...</td>\n",
       "      <td>...</td>\n",
       "      <td>...</td>\n",
       "      <td>...</td>\n",
       "      <td>...</td>\n",
       "      <td>...</td>\n",
       "      <td>...</td>\n",
       "      <td>...</td>\n",
       "    </tr>\n",
       "    <tr>\n",
       "      <th>2995</th>\n",
       "      <td>세종특별자치시</td>\n",
       "      <td>첫마을7단지(래미안)</td>\n",
       "      <td>전세</td>\n",
       "      <td>101.4500</td>\n",
       "      <td>30000</td>\n",
       "      <td>0</td>\n",
       "      <td>22</td>\n",
       "      <td>2012</td>\n",
       "    </tr>\n",
       "    <tr>\n",
       "      <th>2996</th>\n",
       "      <td>광주광역시</td>\n",
       "      <td>e편한세상</td>\n",
       "      <td>전세</td>\n",
       "      <td>113.7384</td>\n",
       "      <td>37000</td>\n",
       "      <td>0</td>\n",
       "      <td>15</td>\n",
       "      <td>2010</td>\n",
       "    </tr>\n",
       "    <tr>\n",
       "      <th>2997</th>\n",
       "      <td>대전광역시</td>\n",
       "      <td>은어송마을3단지(가오아이파크)</td>\n",
       "      <td>전세</td>\n",
       "      <td>84.9326</td>\n",
       "      <td>25000</td>\n",
       "      <td>0</td>\n",
       "      <td>10</td>\n",
       "      <td>2006</td>\n",
       "    </tr>\n",
       "    <tr>\n",
       "      <th>2998</th>\n",
       "      <td>강원도</td>\n",
       "      <td>원주기업도시유보라아이비파크1단지(1-2블록)</td>\n",
       "      <td>전세</td>\n",
       "      <td>59.9833</td>\n",
       "      <td>10000</td>\n",
       "      <td>0</td>\n",
       "      <td>10</td>\n",
       "      <td>2019</td>\n",
       "    </tr>\n",
       "    <tr>\n",
       "      <th>2999</th>\n",
       "      <td>대전광역시</td>\n",
       "      <td>한빛</td>\n",
       "      <td>월세</td>\n",
       "      <td>71.9500</td>\n",
       "      <td>5000</td>\n",
       "      <td>50</td>\n",
       "      <td>7</td>\n",
       "      <td>1992</td>\n",
       "    </tr>\n",
       "  </tbody>\n",
       "</table>\n",
       "<p>3000 rows × 8 columns</p>\n",
       "</div>"
      ],
      "text/plain": [
       "          시군구                       단지명 전월세구분   전용면적(㎡)  보증금(만원)  월세(만원)   층  \\\n",
       "0         경기도       한빛마을6단지(휴먼시아)(1023)    월세   45.8400     2806      19  15   \n",
       "1         경기도                    중앙하이츠1    전세   84.7900    31500       0  10   \n",
       "2       대구광역시                  달성화성파크드림    전세   59.9687     8000       0   9   \n",
       "3       광주광역시                     휴먼시아2    월세   46.5300     4526       7   4   \n",
       "4       부산광역시                     태진팰리스    전세   52.0100    18000       0   5   \n",
       "...       ...                       ...   ...       ...      ...     ...  ..   \n",
       "2995  세종특별자치시               첫마을7단지(래미안)    전세  101.4500    30000       0  22   \n",
       "2996    광주광역시                     e편한세상    전세  113.7384    37000       0  15   \n",
       "2997    대전광역시          은어송마을3단지(가오아이파크)    전세   84.9326    25000       0  10   \n",
       "2998      강원도  원주기업도시유보라아이비파크1단지(1-2블록)    전세   59.9833    10000       0  10   \n",
       "2999    대전광역시                        한빛    월세   71.9500     5000      50   7   \n",
       "\n",
       "      건축년도  \n",
       "0     2011  \n",
       "1     1993  \n",
       "2     2011  \n",
       "3     2008  \n",
       "4     2018  \n",
       "...    ...  \n",
       "2995  2012  \n",
       "2996  2010  \n",
       "2997  2006  \n",
       "2998  2019  \n",
       "2999  1992  \n",
       "\n",
       "[3000 rows x 8 columns]"
      ]
     },
     "execution_count": 7,
     "metadata": {},
     "output_type": "execute_result"
    }
   ],
   "source": [
    "apart_test"
   ]
  },
  {
   "cell_type": "code",
   "execution_count": 8,
   "metadata": {
    "id": "LkQHbdehLZrW"
   },
   "outputs": [],
   "source": [
    "월세_train = apart_train[apart_train['전월세구분']=='월세']\n",
    "전세_train = apart_train[apart_train['전월세구분']=='전세']\n",
    "\n",
    "월세_test = apart_test[apart_test['전월세구분']=='월세']\n",
    "전세_test = apart_test[apart_test['전월세구분']=='전세']"
   ]
  },
  {
   "cell_type": "markdown",
   "metadata": {
    "id": "FtOBVORnPUCt"
   },
   "source": [
    "3) 이후 작업부터는 따로 언급이 없을 경우  \n",
    "위에서 생성한 4개의 DataFrame 중  \n",
    "train set만 이용하여 작업을 수행합니다.  "
   ]
  },
  {
   "cell_type": "markdown",
   "metadata": {
    "id": "hSbTtbcTdgUi"
   },
   "source": [
    "'월세'의 경우 월세 가격에,  \n",
    "'전세'의 경우 보증금 가격에 \n",
    "영향을 가장 많이 미치는 feature를 찾고자 합니다.  \n",
    "\n",
    "다양한 방법을 동원해서,  \n",
    "해당하는 feature를 '1개만' 찾아주세요.  \n",
    "\n",
    "아마도 '월세'와 '전세' 두 경우에서 모두 같은 feature가 나올 것입니다.  \n",
    "\n",
    "(hint: 상관계수행렬이나 산점도 이용)"
   ]
  },
  {
   "cell_type": "code",
   "execution_count": 14,
   "metadata": {
    "id": "6Kky7CrTHPmq"
   },
   "outputs": [
    {
     "data": {
      "image/png": "[encoded data removed]",
      "text/plain": [
       "<Figure size 432x288 with 2 Axes>"
      ]
     },
     "metadata": {},
     "output_type": "display_data"
    }
   ],
   "source": [
    "plt.rcParams['font.family'] = 'AppleGothic'\n",
    "sns.heatmap(월세_train.corr(),annot=True)\n",
    "plt.show()\n",
    "\n",
    "#"
   ]
  },
  {
   "cell_type": "code",
   "execution_count": 15,
   "metadata": {
    "id": "wuD0nXzEDySK"
   },
   "outputs": [
    {
     "data": {
      "image/png": "[encoded data removed]",
      "text/plain": [
       "<Figure size 432x288 with 2 Axes>"
      ]
     },
     "metadata": {},
     "output_type": "display_data"
    }
   ],
   "source": [
    "plt.rcParams['font.family'] = 'AppleGothic'\n",
    "sns.heatmap(전세_train.corr(),annot=True)\n",
    "plt.show()\n",
    "\n",
    "#"
   ]
  },
  {
   "cell_type": "markdown",
   "metadata": {
    "id": "MGtI6_-TQHNB"
   },
   "source": [
    "4) 위에서 찾은 feature를 이용해(이하 X라 칭함)  \n",
    "'월세'의 경우 월세 가격(이하 y1),  \n",
    "'전세'의 경우 보증금 가격(이하 y2)  \n",
    "을 예측하는 모델을 세울 것입니다."
   ]
  },
  {
   "cell_type": "markdown",
   "metadata": {
    "id": "shDlOqwsT9co"
   },
   "source": [
    "첫번째, 월세 가격을 예측하는 모델을 구축합니다.  \n",
    "**파이프라인을 사용하지 않고** 작업합니다.  \n",
    "수행해야할 작업은 다음과 같습니다.  \n",
    "- 데이터를 scaling 합니다.  \n",
    " StandardScaler를 사용합니다.(변수명은 scaler)  \n",
    "- X와 y1의 관계를 나타내는 선형회귀 모델을 구축합니다.  \n",
    "LinearRegression Estimator(변수명은 lin_reg_1)를 사용합니다."
   ]
  },
  {
   "cell_type": "code",
   "execution_count": 17,
   "metadata": {
    "id": "nCd88UXEQFdZ"
   },
   "outputs": [],
   "source": [
    "# 관련 모듈 import\n",
    "from sklearn.preprocessing import StandardScaler\n",
    "from sklearn.linear_model import LinearRegression"
   ]
  },
  {
   "cell_type": "code",
   "execution_count": 20,
   "metadata": {
    "id": "jjf3SeOKUpQs"
   },
   "outputs": [],
   "source": [
    "# input 데이터는 X_train, target 데이터는 y1_train 변수에 할당\n",
    "X_train = 월세_train.iloc[:,3]\n",
    "y1_train = 월세_train.iloc[:,-3]"
   ]
  },
  {
   "cell_type": "code",
   "execution_count": 26,
   "metadata": {},
   "outputs": [
    {
     "data": {
      "text/plain": [
       "pandas.core.series.Series"
      ]
     },
     "execution_count": 26,
     "metadata": {},
     "output_type": "execute_result"
    }
   ],
   "source": [
    "type(X_train)"
   ]
  },
  {
   "cell_type": "code",
   "execution_count": 27,
   "metadata": {
    "id": "MmT3eeapUIt4"
   },
   "outputs": [
    {
     "name": "stderr",
     "output_type": "stream",
     "text": [
      "/var/folders/_0/yhfzsvrs2h5gv6whjmhg6fn40000gn/T/ipykernel_1825/4213597530.py:6: FutureWarning: Support for multi-dimensional indexing (e.g. `obj[:, None]`) is deprecated and will be removed in a future version.  Convert to a numpy array before indexing instead.\n",
      "  X_train = X_train[:,np.newaxis]\n"
     ]
    }
   ],
   "source": [
    "# 데이터 scaling 하기\n",
    "# X 데이터만 scailing 하며,\n",
    "# 기존 X_train 변수에 덮어씌웁니다.\n",
    "\n",
    "scaler = StandardScaler()\n",
    "X_train = X_train[:,np.newaxis]\n",
    "\n",
    "X_train = scaler.fit_transform(X_train)"
   ]
  },
  {
   "cell_type": "code",
   "execution_count": 30,
   "metadata": {
    "id": "y7hwaxnZUIwY"
   },
   "outputs": [
    {
     "data": {
      "text/plain": [
       "LinearRegression()"
      ]
     },
     "execution_count": 30,
     "metadata": {},
     "output_type": "execute_result"
    }
   ],
   "source": [
    "# 선형회귀 모델 생성 후 fitting 시킵니다.\n",
    "lin_reg_1 = LinearRegression()\n",
    "lin_reg_1.fit(X_train, y1_train)"
   ]
  },
  {
   "cell_type": "code",
   "execution_count": 31,
   "metadata": {
    "id": "ThKWK_QdUIyo"
   },
   "outputs": [
    {
     "name": "stderr",
     "output_type": "stream",
     "text": [
      "/Users/justdoit/opt/anaconda3/lib/python3.9/site-packages/matplotlib/backends/backend_agg.py:240: RuntimeWarning: Glyph 8722 missing from current font.\n",
      "  font.set_text(s, 0.0, flags=flags)\n",
      "/Users/justdoit/opt/anaconda3/lib/python3.9/site-packages/matplotlib/backends/backend_agg.py:203: RuntimeWarning: Glyph 8722 missing from current font.\n",
      "  font.set_text(s, 0, flags=flags)\n"
     ]
    },
    {
     "data": {
      "image/png": "[encoded data removed]",
      "text/plain": [
       "<Figure size 432x288 with 1 Axes>"
      ]
     },
     "metadata": {},
     "output_type": "display_data"
    }
   ],
   "source": [
    "# 시각화. 체크용입니다.\n",
    "plt.scatter(X_train[:, 0], y1_train)\n",
    "plt.plot(X_train[:, 0], \n",
    "         lin_reg_1.predict(X_train), \n",
    "         c='r');"
   ]
  },
  {
   "cell_type": "markdown",
   "metadata": {
    "id": "ZT7-oGfGem7V"
   },
   "source": [
    "![image.png](data:image/png;base64,iVBORw0KGgoAAAANSUhEUgAAAXcAAAD4CAYAAAAXUaZHAAAgAElEQVR4nO3df3zU1Z3v8ddkEiD8kASMGIYfCUjx1qIiaaFL2+VHFcG25Fpb69Ytdd0H9492u9Uubbzro6v32gUf7K7ax+71Pry6e7G1ir8aaVGpV8B2baEmDT/EShVIgAEhQoJKooTke/8430lmJvPjzGR+fvN+Ph7zmJkz35k5M5N8vud7zud7DoiIiIiIiIiIiIiIiIiIiIiIDBe+fFcAYOLEiU5NTU2+qyEiUlSam5vfBapiPVaa47rEVFNTQ1NTU76rISJSVHw+X1u8x0pyWREREckNBXcREQ9ScBcR8SAFdxERD1JwFxHxINtsmduAvwYcYC9wC1ANPAFMBJqBvwTOASOBR4F5wCngRqA1o7WWvLuzcS+P7zxCr+Pg9/m4af5U7qmfk+9qiYjLpuUeAL4D1AGfAPzA14B7gfuAS4AO4FZ3+1vd+5e4j9+b2SpLvt3ZuJef7jhMr+MA0Os4/HTHYe5s3JvnmolIiG23TClQ7l6PBo4DS4Cn3cc3APXu7ZXufdzHl1IgJ0tJZjy+80hK5SKSezbBPQj8E3AYE9TPYLphOoHz7jZHMS183OvQf/l5d/uJMV53NdAENLW3t6dTd8mTUIvdtlxEcs8muFdiWuO1wGRgDHBtBt77IUxXT11VVcyzZ6VA+X2xD8TilYtI7tkE988Dh4B2oAd4FlgIVDAwIDsF08LHvZ7q3i4FxmMGVsUjbpo/NaVyEck9m+B+GFiA6Wv3YfrQ3wC2ATe426wCnnNvb3Lv4z6+FZNlIx5xT/0cbl4wrb+l7vf5uHnBNGXLiBQQ2+PouzEpjeeBFkxaZACTCjnBLbsZ+AgYBfwEmAucxmTWHEz04vPmzXM0cZiISGp8Pl8zpnt78GM5rktMCu4iIqlLFNx1hqqIiAcpuIuIeJCCu4iIBym4i4h4kIK7iIgHKbiLiHiQgruIiAcpuIuIeJCCu4iIBym4i4h4kIK7iIgHKbiLiHiQgruIiAcpuIuIeJCCu4iIBym4i4h4kE1wnw3sCru8B3wXswLTS8Bb7nWlu70P+DHwNrAHuCqzVRYRkWRsgvt+4Er3Mg/oAn4ONAAvA7Pc6wZ3++Vu2SxgNfBgZqssIiLJpNotsxQ4ALQBK4ENbvkGoN69vRJ4FLMo9g6gAqgeck1FRMRaqsH9a8Dj7u1JwHH39jvufTALZx8Je85RtyzaaqAJaGpvb0+xGiIikkgqwX0E8CXgqRiPOe4lFQ9hFnatq6qqSvGpIiKSSCrBfTnwB+CEe/8EA90t1cBJ93YQmBr2vClumYiI5Egqwf0mBrpkADYBq9zbq4Dnwsq/gcmaWQCcYaD7RkREcqDUcrsxwNXAfwsrWwc8CdyKGWD9qlv+PLACkwrZBdySkZqKiIg12+B+FpgYVXYKkz0TzQG+NZRKiYjI0OgMVRERD1JwFxHxIAV3EREPUnAXEfEgBXcREQ9ScBcR8SAFdxERD1JwFxHxIAV3EREPUnAXEfEgBXcREQ9ScBcR8SAFdxERD1JwFxHxIAV3EREPUnAXEfEg2+BeATwNvAn8Efg0MAF4CXjLva50t/UBP8asxLQHuCqD9RWRJBpbgixct5Xahs0sXLeVxhYtYTwc2Qb3B4AXgUuBKzABvgF4GZjlXje42y53y2YBq4EHM1hfEUmgsSXIHc/uJdjZjQMEO7u549m9CvDDkE1wHw98DnjEvX8O6ARWAhvcsg1AvXt7JfAoZrm9HZhWf3WG6isiCazfsp/unt6Isu6eXtZv2Z+nGkm+2AT3WqAd+A+gBXgYs2D2JOC4u8077n2AAHAk7PlH3bJoq4EmoKm9vT3liovIYMc6u1MqF++yCe6lmH7zB4G5mMWyG6K2cdxLKh4C6oC6qqqqFJ8qIrFMrihPqVy8yya4H3UvO937T2OC/QkGuluqgZPu7SAwNez5U9wyEcmyNctmU17mjygrL/OzZtnsPNVI8sUmuL+D6WYJ/XUsBd4ANgGr3LJVwHPu7U3ANzBZMwuAMwx034hIFtXPDbD2+jkEKsrxAYGKctZeP4f6ubF6RsXLSi23+xvgMWAEcBC4BbNjeBK4FWgDvupu+zywApMK2eVuKyI5Uj83oGAu1sF9F6Z/PNrSGGUO8K20ayQiIkOmM1RFRDxIwV1ExIMU3EVEPEjBXUTEgxTcRUQ8SMFdRMSDFNxFRDxIwV1ExIMU3EVEPEjBXUTEgxTcRUQ8SMFdRMSDFNxFRDxIwV1ExIMU3EVEPMg2uLcCezHzuje5ZROAl4C33OtKt9wH/BizWMcezJJ8IiKSQ6m03BcDVzKwaEcD8DIwy70OLZq93C2bBazGLKwtIiI5NJRumZXABvf2BqA+rPxRzIpMO4AKBhbSFhGRHLAN7g7wK6AZ0xoHmMTAwtfvuPcBApgFtUOOumXRVmO6eJra29tTqLKIiCRju4bqZ4AgcBGmf/3NqMcd95KKh9wLVVVVqT5XREQSsG25B93rk8DPgU8BJxjobql2HwttOzXsuVPCni8iIjlgE9zHAOPCbl8DvA5sAla55auA59zbm4BvYLJmFgBnGOi+ERGRHLDplpmEaa2Htv8Z8CLwGvAkcCvQBnzV3eZ5YAUmFbILuCWD9RUREQs2wf0gcEWM8lPA0hjlDvCtoVRKRESGRmeoioh4kIK7iIgHKbiLiHiQgruIiAcpuIuIeJCCu4iIBym4i4h4kIK7iIgHKbiLiHiQgruIiAcpuIuIeJCCu4iIBym4i4h4kIK7iIgHKbiLiHiQgruIiAelEtz9QAvwS/d+LbATs+LSRmCEWz7Svf+2+3hNRmoqIiLWUgnufwv8Mez+vcB9wCVAB2a5PdzrDrf8Pnc7ERHJIdvgPgW4DnjYve8DlgBPu/c3APXu7ZXufdzHl7rbi4hIjtgG9/uB7wN97v2JQCdw3r1/FAi4twPAEff2eeCMu3201UAT0NTe3p5arUVEJCGb4P4F4CTQnOH3fgioA+qqqqoy/NIiIsNbqcU2C4EvASuAUcAFwANAhfv885hum6C7fRCYimnNlwLjgVMZrbWIiCRk03K/AxO8a4CvAVuBrwPbgBvcbVYBz7m3N7n3cR/fCjgZqq+IiFgYSp77D4DbMSmPE4FH3PJH3Ptvu483DKWCIiKSOptumXDb3QvAQeBTMbb5EPjKUColIiJDozNURUQ8SMFdRMSDFNxFRDwo1T53kYLX2BJk/Zb9HOvsZnJFOWuWzaZ+biD5E0U8RMFdPKWxJcgdz+6lu6cXgGBnN3c8uxdAAV6GFXXLiKes37K/P7CHdPf0sn7L/jzVSCQ/FNzFU451dqdULuJVCu7iKZMrylMqF/EqBXfxlDXLZlNe5o8oKy/zs2bZ7DzVSCQ/NKAqnhIaNFW2jAx3Cu7iOfVzAwrmMuwpuIukQDn0UiwU3EUsKYdeiomCu6RlOLZgE+XQe/2zS/FRcJeUDdcWrHLopZgoFVJSNlzPAlUOvRQTm+A+Cvg9sBvYB9ztltcCOzErLm0ERrjlI937b7uP12SwvlIACrkF29gSZOG6rdQ2bGbhuq00tgSTP8mScuilmNgE94+AJcAVwJXAtcAC4F7gPuASoAO41d3+Vvf+Je7j92a2ypJvhdqCDXUXBTu7cRjoLspUgK+fG2Dt9XMIVJTjAwIV5ay9fo6nu6KkeNn0uTvAB+7tMvfiYAL+X7jlG4C7gAeBle5tgKeBfwV8aJFsz1izbHZEnzsURgs2FwOeyqGXYmHb5+4HdgEngZeAA0AncN59/CgQ+osPAEfc2+eBM5gFs6OtBpqApvb29pQrLvlTqC3YQu4uEsk122yZXkyXTAXwc+DSDLz3Q+6FqqoqteqLTCG2YCdXlBOMEcjz3V0kkg+pZst0AtuAT2MCfWjnMAUIdWwGganu7VJgPHBqaNUUSa6YBjyzOfArAnbBvQoTyAHKgauBP2KC/A1u+SrgOff2Jvc+7uNbUX+75EChdhdFy/bArwiYgc5kLscMmPoxO4Mngf8BzACeACYALcDNmMyaUcBPgLnAaeBrwMFEbzBv3jynqakpvU8wDN3ZuJfHdx6h13Hw+3zcNH8q99TPyXe1xNLCdVtjdh8FKsp5tWFJHmokxcrn8zUDdbEes+lz34MJ1NEOAp+KUf4h8BXr2klK7mzcy093HO6/3+s4/fcV4IuDBn4lF3SGapF5fOeRlMql8BTqeQLiLQruRabXiT18Ea9cCk8xDfxK8dLEYUXG7/PFDOR+n83wiRQCrRYluaDgXmRumj81os89vDxctqfkHY5T/mZSIZ4nIN6ibpkiUzd9wqAfrcQtD8l2qp1S+UQKn4J7kVm/ZT99UWV9bnn4Ntmckne4TvkrUkwU3IuMTRpdtlPtlMonUvgU3IuMTRpdtlPtlMonUvgU3IuMTRpdtlPtlMonUviULVNkbNLosp1qp1Q+kcJXEMnRmltGRCR1Q51bRmQQ5bmLFDYFd0lZKM89lA4ZynMHFOBFCoSCu6QsF2uV5oOORiSXsv33pmwZSZkX89xjnXV728Zd3Nm4N99VEw/KxVneNi33qcCjwCTMikoPAQ9gFunYCNQArcBXgQ7MIO0DwAqgC/gm8IeM1dgDhrrHzncLs9DXKk3n+4l1NOIAj+04TN30CXGfn+/fQopTLo5+bVru54HvAR8HFgDfcm83AC8Ds9zrBnf75W7ZLGA18GBGauoRQ91jF8K8LjUTYwfxeOW5lO73E++ow4G40yoUwm8hxSkXR782wf04Ay3v9zHrpwaAlZjl93Cv693bKzEtfQfYgVl/tTpD9S16Q52XpRDmddlxsCOl8lxK9/tJdNQR7x+uEH4LKU65OMs71T73GsySezsx3TTH3fJ33PtgAn/4skBH3bJoq4EmoKm9vT3FahSvoe6xC6G/u5AXDEn3+1mzbHbckz7i/cPF6pqyeS+RXJzlnUpwHws8A3wXeC/qMce9pOIhTPJ9XVVVVYpPLV5D3WMXwrwu8RYGKYQFQ9L9furnBvj6gmmDAny8f7hEA62FMvYghat+boC1188hUFGOD7M4+trr52R0vMY2FbIME9gfA551y05guluOu9cn3fIgZhA2ZIpbJpg9dniOOKS2x16zbDa3P7mLvrBdaYmPlPb4Qx0EtF0wJBvi1T1UHq81vfjSqoTPB7PAeN30CVbfTaI1a9NtfWlwdnjJ9oItNsHdBzyC6Wv/l7DyTcAqYJ17/VxY+beBJ4D5wBkGum+GvaHOy9LUdjoisAP0Oabc5jUycQLSofYPUirPlHh1b2o7zTPNwUH93+E2vmaCcfh2sT677T9cprugdGKYZJrNcfRngN8Ae6F/nYj/jul3fxKYBrRhUiFPu6/5r8C1mFTIWzB963Fpbhl7M+94Pu4aqgfWrkj6/IXrtsZs3QYqynm1YYlVHWoaNsd9rHXddVavkY54dY+3rqztdql89pB4v0O6r5eJ30WKjOPAqVNw4YVpv8RQ55b5T+LvBJbGKHMw6ZKSBUMdzIw32Bfs7Ka2YXNBdwfEq7vtZ4+3XToDoPG6piD+QGsihTBQLlngOPD66/D88+by618P3ubll2FJ5nfgmn6gyJT4GNQtEyq3Ee8EJCAiVxsy3x0w1D7lRHW3Ea/lns4A6D31c3im+SjdPdGLHpqWUGNLMCOfTYOzRcBx4I03BgL49u32z/3852HhwqxUS9MPFJmRpbF/snjl0WKlYEXLRq52Jk74iVV32/ycMr+Pm+ZPzWj62drrL4/5/olOfALzXSxct5Xahs0sXLeVxpagFkApdKEA/s//DEuXgs83cCkpgU98Ar7//diBfdYs+M534MUXoavLvFbo8tJLMHJkVqqs4F5kPozRUkxUHi06BSueRN0BlaPLYpaX+IgIWOEyccJPrPQxmw6ZytFlrL/hCu6pn5PR9LP6uYG47x/v+4u3kwOynhonSTgOvPkm3HcfXH314AB+2WXwd38HW7cOfu7MmfDtb5uW+9mzkQH8T3+CBx6AZcugPHdHYuqWKTKZOHwPzwiJN5CX6PXidXGHuotide1kqk85Opsl1YHITKefBVL8PRLt5F5tWNJft1AX1m0bdxX0OEhReuutgS6UX/3K/nm1tbB8OaxYAYsWwZgx2atjBii4F5k1y2az5qnd9IR1vJeV+NI+fE8n776zuyfp60ZPgpRsp2TTHx++zfjyMnw+6OjqwUfkGXSZ7M5IVK/GliBd584Pek6i97fZyRVaWmRR5t8fODAQwF980f5506cPBPDFi2Hs2OzVMcsU3ItQdAeMXYdMbKnm3afSRx4esBLtRGyCWfQ24TsYB/oDfCCDwSdRvYBBnwegoryMu750Wdz3tznyKqT58gttRxPh4EF44QUTwF94If4hZbSpUwcC+JIlMG5cduuZJwruRebuX+yjNypdprfP4e5f7BtS37HtCVDfe3K39euGB6xEO5GF67YmDWaxAl44h4GxgNs27mL9lv2DWtmZmAY4fJwgVn3GjCxN+Lo2R0qFlBaZ9x1Na2t/AO974QVKeuP/DUQIBAYC+NKlcMEF2a1nAVJwLzIdXbG7ROKVZ0qoBWebUx6rayLeTsQmmNkEto6unv7vIVEr27b1mU6QTVZPmyOlQkqLzMmO5vDhyBZ4T+y/5ejsj5NjJ9C99Gqm/+VXTErh+PGZq5MHKLiLlWQt5xAfpNwvGy+Ylfh8/fni6eS4J2pl27Q+471nxegyRo8oTTsAJztSGur8Q5mUsR3N0aORAfyjj+yeN2kSLF/Oneemsanq47w3KrIPPFBRzqtf1hm8sQzr4B59qL740iq2vdleXANHWRBv4NLGobDpB2y7QmINEoM5o3TN07v7t4nVx51Moh1CsLObheu2xq3fmmWzWfP0bnp6I+t1pruH6y6vHjSfTaYC8FDnH8qklHY0x45FBvBuy51xVdVAF8rVV8OECYM2eaxhc8y0U53BG9+wDe6xBorCTycvqIGjMD5f7HGjoc62Gz6rYnj2iU1mTLzXS6krJE79e3rNeELLD6/hqabDvHrgdFr1iScU/ENrpn53467+M1kDFeUxv+w+B55tPsra6y9PKcMnlSCd7RkDbUXvaOaUdHGX/whX/eMjJoh3ddm90MSJAwH8mmvM/RQUUldVsRi2wd2mmyHXGQrJAkFjSzBuQoDjDExm5feZszHvqZ8DmLnHH995JOZjodcND8SZmO8w2WBk+Oc8+9H5Qa3jcKGjhmyv9BSqQWhcIVGrv6unj7s27eNMd0/CwB69g7tt4y6a2k5HfP8F58QJkz7ophLWf/BB/zJribxXPo4zi5Yy9es3mACewXUaCqmrqlgM2+A+1JWPMi1ZSzf0eCKhoNTrOBFHIeG3wx8LBRjb/vRUJJqgLPpz2iqElZ7ChY5q4h2VpLvodk6cPAlbtgzkgr8Xvf5OHOPH97fAn598Od/bfnxQwF378TnUZ3gBnkLqqioWwza42w7Q5eqwL1nKWToBONGCEo/vPNIf3LOxA4v3/fp9vrR2JAvXbR10slIhiXWUl2zR7awHpnffjQzgnZ12z7vgAhPAly83p8xffHHMzX5kkcKaSYXSVVUshm1wtxmgy+VhX7KUs3QCcKKWbuixVE5KSkWs77fM70vY/ZJIsLMbf4lvUI5/IYnemSVqQNj+nkn77E+dMqfQhwL4acsxibFjBwL4tddCdepr2BdSPr4MNmyDe6zDvHxmyyQbMEonFTC0pmm8xT0aW4KseWp3wtawD5P619nVw+gRfs6es2t1R3+/FaPL+ODDwafqh4wuK6EryeRnvX0OY0b4+bCnr+C6aELCp/pds2w2t23cFfP7tTkiDHXFjXivky8c+gOLDjXzuf/ZBF2WXSijR0cG8EBm/5Y1yFnYbIL7vwNfwKyR+gm3bAKwEagBWjGrMHVgYsEDwArMKkzfBP6Q2SrbsclSKKTDvMWXVvHYjsNx50hJJxUwtKZprEUlSnwO3924K+lrVIwu47rLq9n2ZnvKO5foCcripVOWl/npsTzzsOtcL/fdeGXC9VLzKbxLon5ugKa20wl/136dnaYFHkolPHmSekg+kDlqVGQAn5r9dWxDNMhZ2GyC+//FLJv3aFhZA/AyZv3UBvfyA2A5MMu9zAcedK9zqqDnw4ihsSXIM83BiADgA748LzAoUMRb/QcGFqOIlRETypYJLfZhOUMwHV09Cd/TVqJAPKVyFG+dPGv1OuVlJWnluycSbwGUdER/zvBFt98/8S5fPLmP1Wf3M/3hV+Cdd6xe8yN/Ka/MqGP7jHm8UjuP4PiLsrqcoS0NchY2m+D+a0wLPdxKYJF7ewOwHRPcV2J2Ag6wA6gAqsnxAtl5nw8jRfGyKra92R5RFn0/Wrw1VO+pn9Mf6ONNkZttidY5tQ3sAN3n+6znh7JRXubny/MCg1rX6Rp/rhuefXagBX7smF0LvLR0oAW+fDkLnzgY93fyD/WkhgwqpKNfiZRun/skBgL2O+59gAAQnqJx1C2LFdxXuxfa2xMHrVTlaqBnqFOhhp84FEv0NLDJgnKisy1jvWYuZaqPPFOBPdY0CbYBfsxHXSxs282ig80sOtjE5PffjdzgvtjP6/WVsONjn2Rs/Re5YvVNMGNG3Pc41rkv7mOFOt4ghSUTA6oO6WWoPeReqKqqyuhfay4GetLp+gnfGYQGGKNPuY9VX5sc91AdktVlqOuQpqOxJVhQaYyhaYHv2rSP77pnpVaOLuPPZk7oPwN29Llu/qxtD4sONrHoYBNT3kuhARLWAm98vzxmv/TaMyMTtuYT/U6BNP+Oi3JedklbusH9BAPdLdWYwVaAIBA+ojPFLcupdAd6UlkwItY/XqKun+idQbK5WsLrm06Oe7y6rFk222ogNROSHZnkQ3mZn8WXVrHmqd2UftjNksN7WHSwmcUHm5h65oT167xSexXbZ8xj24w6WieY7zi0A6scXYZzGs48vJ+SGN1RNl2E8ebbKfOntzBLsY1DgXZGQ5VucN8ErMIMqK4Cngsr/zbwBGYg9Qw57m+H9AZ6bBeMiPUPFy5eIEslQEcvOJFuV8rg1X320G07kjpEjS3BmJNuZUu8I4NxfR/x58E3+OSbO/l8azOB0+bP8R6L1/x1zVxecQP4wQmBmBP4+Nw3Dn//8B13vC4U26mB79q0r/9M2MrRZfzDF+MvBJJIsY1DFePOqNDYBPfHMYOnF2L60P8BE9SfBG4F2jCpkADPY9Ig38akQt6S4fpaS3Wgx+aP/65N+xIG9pDwXOcQ2wDtA+v5vZMJ79a5feOuIa3YlKq7f7EvZ4G9dkwJ3+xpxffiFj779u+p7bBvT/zn9CvcFvgnOTBxitUMbNE733QGqTMxNXAqiu2Eo2LbGRUim+B+U5zypTHKHOBb6VcnfxLNhVLTsJkRfh/nLIPV+i37aWo7HTFZl+0JQA5w+5O7IlrZ/jSTI9Ysm82djXszksqYqkwvHjLy/Dk+deR1Fh9o4s8PNTPztH1v32+nXU7LZQu49K9uZOmXF7Pw3m1D6io61tnd/xunk/+frIswG90RxXbCUbHtjAqR585QTfcfI1nr2Daww+Dpg3sdh7Pneq3zqfscIrpP0m0A/9u2t1JKM8y3Eed7+OTRfSw+8BqLDjZzyemj1s/dMfUTbJ9Rx7aZdey/cHrMFnj57nOsnXksbn+2LYfBv3Eyfp+PPsexWqM2G90RxXbCUbHtjAqRJ4J7vIG7YGc3a54yiz0k+8dIdzGIVOR6WpR8BPZQl1RZSewTpcp6e6g7+gaLDzSx6GAzHztlHyB3TrmMX8+cx9YZdfyxqjYigCfKow8JHda/2mBW7onuzw6diRtapOTsucRTEdsqL/Oz9vo5VsE5W90RxXbCUbHtjApR0Qf3Oxv3JsxP7ulzuGtT8sWjw//4Cym7o9is37IfX08P81r3sMgN4Je+22b9/NcCH2f7jHlsn1nHGxfV4viiV86MrddxrCYmC/22Nv3Z4UeBqYT4MSP8lPlLEs71Hk82uyOK6YSjYtsZFaKiDu6NLUGrE09sVhMqxLS9Qlbae56rjr3ptsCb+C/trRGPr0zw3ObJl5pBzJmfZN+kGdYBPCmLCJzK2Z3hwfDKu39lvSpVxegR/UcHqVJ3xIBi2hkVoqIN7o0tQb73ZOIZDcPVNGwGIltVZSkMkg5HPqeP6vffZcnbr3HT7i1cdvKg9XNbqmezbaaZD2XvxZdkLoAnYNOH3us41DZsjjkL6OJLq9i853j/YHBFeRl3fekyAN770H6AOLQ2a6yVtJK1RNUdIZlSEJNUzJs3z2lqarLePnrQSdLnc/q4+P1T1HQco7bjGNM7jlPbcYya08eY3nmckb3xg9qu6llsn1HH9hl17Ln4EvpK/NxfwDM2pqPEZ1r76Qy+hve1x/qbjdcXr5N3xJbP52sG6mI9VpQt92wsC+dlPqePSe+fNkG74xjT3UBe03GM6Z3vMOr8uf5tP/KX0VZRTeuEyWybWUdr5WQ6R43lxLiJ7Kr+GH0l/oTvFQpC8eYxz7YxKcw5b6PPgb4053JJtpJWvIFSdUdIJhRlcFeuawyOw6QPTvW3ums6j1PT3wJ/h/LzH/VvGgrgbZXVvFI7j9YJk2l1A/rxcRcOuQulfm4g41Mc2GTDlJf5+dF/nRNxjkG+JVtJS3/Lki1FGdzzMflVQXAcLvpgoAVe0+EGcPd2ZAAv5XBFNa2V1fymdi6tlZP7L8fHTUzaAh+qQJLfyCZYh297YO0Kahs2JzwaCHVx1M8NRMxlD/mb6jjZSlrDcaBUcqMog3suJ7/KOceh6mxHWAvcXNd2mD7w0T0DAfxcSSmHKy6mtbKaV6dfQeuEQH8L/Ni4C7MewONpbAnSdS7+knpgVona+Psj1oOgC9dtTRjYK8rLIuYAiu6zzsV5DNGSraSlgVLJpqIcUIWB7Jei5DhUne2kpiMY0QIPDWiO6fmwf9NzJaUccQN4a95IMK0AAAceSURBVOVkDlVOpq2ymkOVkzl2QVXeAng89994ZdIgWjm6jJYfXmM9mZnNdMFlfh/rb7gCIO7AJQxeM/eXu49bpziG3LxgWv+0A6EjkIDFGrwaKJVMSzSgWrTBfeYdzxdEn2pcjsOFXZ0maLuZJ+Et8LHnBg7Re0r8HK642AxkVk7m0ITJtFVUc2hCgGMXVNFbYAE8kWTdMdEZIpnsLgnNcx7r9QIV5RG559Fz6zsOEScdxcv4iX4dkXzyXLYMFMhqNI7D7Hfb3AUdmvn04YEFNd4fUc64qAB+ZPwk2iqr+f3Uy9wWuGmJB8dfVFQBPJFEgTp6NsVk26cq0eDk4OmPI+fWLyvxUTG6rH9SsMWXVvFMczDiCMCHWchcpBgUbXBP1kLMGMdh1ruHzZJqh5pY2LbH6mlPz/k8rZWhFvhkghdcxHl/0X7d1uINlMZq8WZ6habJCVru4QOXsdISe/qc/pOXgp3dPNMc5Kpp4/ntgdP99XOAZ5qD1E2foO4UKXhFG20yOkDmOMw8dbS/Bf7ZNvvB2raKi9nmrky/Y9ocPiwbNfT6FLFex6G8zG81cLh+y/60AntZiQ98RMwjE/4eyQYubRoF3T297DjYMah+mlNcikXRBveUJ/pyHGo7jrHoYBOLDzTxudYW6/c6Mn4S29zpZHdMnUP3iOEdwBMJhPVZZ2qx7oUzJ9B6qjvi9SDxpFKJHrNNw0x3FaVUaJBVsiVbwf1a4AHADzyMWbkp40I5zZf98MX+sxKndxwza2IeaGLRoWbr1zp6QVX/fOC/m3Y5XSOUf5yOUHDKxBz6Ph98ff60QTnrIfHeI9n7p5JfH2vbTOWmayk5yaZsBHc/8G/A1Zhl+V7DrK36RsbfqbMTLr+cfUeOWG0eHFdl1sScWcdvp13O2ZGjM16l4S6VoBSva20oa4XasBmvKS/z8+V5gUGDqpnMTddScpJN2Qjun8KsoRqaQvAJzAywmQ/uv/sdRAX242Mn9s8H/ur0K/lAAbxg5WvO7lg7lbISH2NHldLZFTkHe930CVmrn6YkkGzKRnAPAOER9ygwP8Z2q90L7e3t6b3T8uVw/jz4TRphUZ/YVARslwlMRT4myUplp5LN+mlKAsmm7E+yHd9DmOT7uqqqIeQO+wfyw29eMC3uZvffeGX671EkUjkjbdK4EbSuuy7ud7Zw5gQCFeX4MN0Y9994Jf/y1SupKC/LSF3zrX5ugFcblnBo3XW82rAkL90ga5bNprws8vwGTUkgmZKNlnsQmBp2f4pblnWhgbfQjIB+n4+b5k+NGJALZdf4fJBoXC20M/jBM3v46Hzk6fGxTsYBmP+jlzjx/sD0uZPGjWDn31+dMCPizsa9Cet7Z+NefrbzcNIW8wUj/ey5+1og+apSsy4aw0u3LwLsvrNw9XMDfP3//I5XD5we9FiinasMpqXkJJuyMf1AKfAnYCkmqL8G/AWwL94T0pl+YLgqlNS5ZDslEcm+fMwtswK4H5M58+/AjxJtrOAuIpK6fMwt87x7ERGRPMjngKqIiGSJgruIiAcpuIuIeJCCu4iIBxXESkxAO9CW4de8EHg3w69ZqPRZvUmf1Xsy/TmnA8NuBZnhlFupz+pN+qzek7PPqW4ZEREPUnAXEfEgb6zKHJ/9ah3FT5/Vm/RZvWe4fE4REREREREREfGe9cCbwB7g50BFfquTcdcC+zHLGjbkuS7ZNBXYhlmqcR/wt/mtTk74gRbgl/muSJZVAE9j/k//CHw6v9XJqtswf7+vA48Do/JbneJ2DQMzX97rXrzCDxwAZgAjgN3Ax/Nao+ypBq5yb4/DrBfg1c8acjvwM7wf3DcAf+3eHoH3GmAhAeAQEFpD8Ungm9l8Q6+nQv4KOO/e3oFZFcorwhciP8fAQuRedBz4g3v7fUwLz8vLFU0BrgMezndFsmw88DngEff+OaAzf9XJulJMcC8FRgPHsvlmXg/u4f4KeCHflcigWAuReznghdQAc4Gd+a5IFt0PfB/oS7ZhkavFTD3yH5guqIeBMXmtUfYEgX8CDmMaK2cwjc+s8UJw/3+YPqzoS3gr9u8xLfjHcl47yaSxwDPAd4H38lyXbPkCcJLhkQtdiuluexCzwz6Ld8eOKjExqRaYjNmJ3ZzXGnnAN4HfYQ6DvOTTwJaw+3e4F68qw3ze2/NdkSxbizkKawXeAbqAn+a1RtlzMeZzhnwW2JynumTbVxjofgL4BvC/8lQXT7gWk2HhxVnTSjH97bUMDKheltcaZY8PeBTTXTGcLML7A6q/AWa7t+/CZLh50XxMpsxozN/zBuBv8lqjIvc2pl96l3v53/mtTsatwGSOHMB0PXnVZwAHk9Ia+i1X5LVGuTEcgvuVmJkS9wCNmO4Lr7obk/L5OvATYGR+qyMiIiIiIiIiIiIiIiIiIiIiIiIiIiIikjv/HzdzW4dh5zYtAAAAAElFTkSuQmCC)"
   ]
  },
  {
   "cell_type": "markdown",
   "metadata": {
    "id": "T-6Xv53GXm4K"
   },
   "source": [
    "테스트셋, 즉 '월세_test'와  \n",
    "이미 fitting된 모델을 이용해 predict를 수행합니다.  \n",
    "y1_hat 이라는 변수에 '월세_test'를 predict한 값을 할당합니다."
   ]
  },
  {
   "cell_type": "code",
   "execution_count": 34,
   "metadata": {},
   "outputs": [
    {
     "data": {
      "text/html": [
       "<div>\n",
       "<style scoped>\n",
       "    .dataframe tbody tr th:only-of-type {\n",
       "        vertical-align: middle;\n",
       "    }\n",
       "\n",
       "    .dataframe tbody tr th {\n",
       "        vertical-align: top;\n",
       "    }\n",
       "\n",
       "    .dataframe thead th {\n",
       "        text-align: right;\n",
       "    }\n",
       "</style>\n",
       "<table border=\"1\" class=\"dataframe\">\n",
       "  <thead>\n",
       "    <tr style=\"text-align: right;\">\n",
       "      <th></th>\n",
       "      <th>시군구</th>\n",
       "      <th>단지명</th>\n",
       "      <th>전월세구분</th>\n",
       "      <th>전용면적(㎡)</th>\n",
       "      <th>보증금(만원)</th>\n",
       "      <th>월세(만원)</th>\n",
       "      <th>층</th>\n",
       "      <th>건축년도</th>\n",
       "    </tr>\n",
       "  </thead>\n",
       "  <tbody>\n",
       "    <tr>\n",
       "      <th>0</th>\n",
       "      <td>경기도</td>\n",
       "      <td>한빛마을6단지(휴먼시아)(1023)</td>\n",
       "      <td>월세</td>\n",
       "      <td>45.8400</td>\n",
       "      <td>2806</td>\n",
       "      <td>19</td>\n",
       "      <td>15</td>\n",
       "      <td>2011</td>\n",
       "    </tr>\n",
       "    <tr>\n",
       "      <th>3</th>\n",
       "      <td>광주광역시</td>\n",
       "      <td>휴먼시아2</td>\n",
       "      <td>월세</td>\n",
       "      <td>46.5300</td>\n",
       "      <td>4526</td>\n",
       "      <td>7</td>\n",
       "      <td>4</td>\n",
       "      <td>2008</td>\n",
       "    </tr>\n",
       "    <tr>\n",
       "      <th>5</th>\n",
       "      <td>강원도</td>\n",
       "      <td>원주흥업엘에이치천년나무2</td>\n",
       "      <td>월세</td>\n",
       "      <td>46.7200</td>\n",
       "      <td>4051</td>\n",
       "      <td>12</td>\n",
       "      <td>4</td>\n",
       "      <td>2016</td>\n",
       "    </tr>\n",
       "    <tr>\n",
       "      <th>8</th>\n",
       "      <td>전라북도</td>\n",
       "      <td>감나무골대우대창</td>\n",
       "      <td>월세</td>\n",
       "      <td>84.5900</td>\n",
       "      <td>2000</td>\n",
       "      <td>50</td>\n",
       "      <td>3</td>\n",
       "      <td>1999</td>\n",
       "    </tr>\n",
       "    <tr>\n",
       "      <th>9</th>\n",
       "      <td>강원도</td>\n",
       "      <td>푸른숨엘에이치3단지</td>\n",
       "      <td>월세</td>\n",
       "      <td>74.9500</td>\n",
       "      <td>9870</td>\n",
       "      <td>19</td>\n",
       "      <td>16</td>\n",
       "      <td>2015</td>\n",
       "    </tr>\n",
       "    <tr>\n",
       "      <th>...</th>\n",
       "      <td>...</td>\n",
       "      <td>...</td>\n",
       "      <td>...</td>\n",
       "      <td>...</td>\n",
       "      <td>...</td>\n",
       "      <td>...</td>\n",
       "      <td>...</td>\n",
       "      <td>...</td>\n",
       "    </tr>\n",
       "    <tr>\n",
       "      <th>2984</th>\n",
       "      <td>충청북도</td>\n",
       "      <td>우미린스테이</td>\n",
       "      <td>월세</td>\n",
       "      <td>70.5634</td>\n",
       "      <td>10240</td>\n",
       "      <td>12</td>\n",
       "      <td>4</td>\n",
       "      <td>2018</td>\n",
       "    </tr>\n",
       "    <tr>\n",
       "      <th>2985</th>\n",
       "      <td>대구광역시</td>\n",
       "      <td>삼덕청아람</td>\n",
       "      <td>월세</td>\n",
       "      <td>59.9890</td>\n",
       "      <td>2000</td>\n",
       "      <td>90</td>\n",
       "      <td>12</td>\n",
       "      <td>2013</td>\n",
       "    </tr>\n",
       "    <tr>\n",
       "      <th>2991</th>\n",
       "      <td>경상남도</td>\n",
       "      <td>성원1차</td>\n",
       "      <td>월세</td>\n",
       "      <td>79.8100</td>\n",
       "      <td>1000</td>\n",
       "      <td>60</td>\n",
       "      <td>6</td>\n",
       "      <td>1991</td>\n",
       "    </tr>\n",
       "    <tr>\n",
       "      <th>2992</th>\n",
       "      <td>전라북도</td>\n",
       "      <td>푸른솔</td>\n",
       "      <td>월세</td>\n",
       "      <td>49.9500</td>\n",
       "      <td>1500</td>\n",
       "      <td>25</td>\n",
       "      <td>9</td>\n",
       "      <td>1993</td>\n",
       "    </tr>\n",
       "    <tr>\n",
       "      <th>2999</th>\n",
       "      <td>대전광역시</td>\n",
       "      <td>한빛</td>\n",
       "      <td>월세</td>\n",
       "      <td>71.9500</td>\n",
       "      <td>5000</td>\n",
       "      <td>50</td>\n",
       "      <td>7</td>\n",
       "      <td>1992</td>\n",
       "    </tr>\n",
       "  </tbody>\n",
       "</table>\n",
       "<p>1022 rows × 8 columns</p>\n",
       "</div>"
      ],
      "text/plain": [
       "        시군구                  단지명 전월세구분  전용면적(㎡)  보증금(만원)  월세(만원)   층  건축년도\n",
       "0       경기도  한빛마을6단지(휴먼시아)(1023)    월세  45.8400     2806      19  15  2011\n",
       "3     광주광역시                휴먼시아2    월세  46.5300     4526       7   4  2008\n",
       "5       강원도        원주흥업엘에이치천년나무2    월세  46.7200     4051      12   4  2016\n",
       "8      전라북도             감나무골대우대창    월세  84.5900     2000      50   3  1999\n",
       "9       강원도           푸른숨엘에이치3단지    월세  74.9500     9870      19  16  2015\n",
       "...     ...                  ...   ...      ...      ...     ...  ..   ...\n",
       "2984   충청북도               우미린스테이    월세  70.5634    10240      12   4  2018\n",
       "2985  대구광역시                삼덕청아람    월세  59.9890     2000      90  12  2013\n",
       "2991   경상남도                 성원1차    월세  79.8100     1000      60   6  1991\n",
       "2992   전라북도                  푸른솔    월세  49.9500     1500      25   9  1993\n",
       "2999  대전광역시                   한빛    월세  71.9500     5000      50   7  1992\n",
       "\n",
       "[1022 rows x 8 columns]"
      ]
     },
     "execution_count": 34,
     "metadata": {},
     "output_type": "execute_result"
    }
   ],
   "source": [
    "월세_test"
   ]
  },
  {
   "cell_type": "code",
   "execution_count": 35,
   "metadata": {
    "id": "uEAfwHNuYBkL"
   },
   "outputs": [],
   "source": [
    "# input 데이터는 X_test, target 데이터는 y1_test 변수에 할당\n",
    "X_test = 월세_test.iloc[:,3]\n",
    "y1_test = 월세_test.iloc[:,-3]"
   ]
  },
  {
   "cell_type": "code",
   "execution_count": 37,
   "metadata": {
    "id": "YTwIN94ZYlhU"
   },
   "outputs": [
    {
     "name": "stderr",
     "output_type": "stream",
     "text": [
      "/var/folders/_0/yhfzsvrs2h5gv6whjmhg6fn40000gn/T/ipykernel_1825/406512616.py:2: FutureWarning: Support for multi-dimensional indexing (e.g. `obj[:, None]`) is deprecated and will be removed in a future version.  Convert to a numpy array before indexing instead.\n",
      "  X_test = X_test[:,np.newaxis]\n"
     ]
    }
   ],
   "source": [
    "# X_test 역시 정규화 해주어야 합니다. 주의할점?\n",
    "X_test = X_test[:,np.newaxis]\n",
    "X_test = scaler.transform(X_test)"
   ]
  },
  {
   "cell_type": "code",
   "execution_count": 38,
   "metadata": {
    "id": "DS0FLI7tXmv7"
   },
   "outputs": [],
   "source": [
    "# y1_hat에 predict값 할당\n",
    "# 시각화. 체크용입니다.\n",
    "y1_hat = lin_reg_1.predict(X_test)"
   ]
  },
  {
   "cell_type": "code",
   "execution_count": 40,
   "metadata": {
    "id": "hHQz6NrkXmtW"
   },
   "outputs": [
    {
     "name": "stderr",
     "output_type": "stream",
     "text": [
      "/Users/justdoit/opt/anaconda3/lib/python3.9/site-packages/matplotlib/backends/backend_agg.py:240: RuntimeWarning: Glyph 8722 missing from current font.\n",
      "  font.set_text(s, 0.0, flags=flags)\n",
      "/Users/justdoit/opt/anaconda3/lib/python3.9/site-packages/matplotlib/backends/backend_agg.py:203: RuntimeWarning: Glyph 8722 missing from current font.\n",
      "  font.set_text(s, 0, flags=flags)\n"
     ]
    },
    {
     "data": {
      "image/png": "[encoded data removed]",
      "text/plain": [
       "<Figure size 432x288 with 1 Axes>"
      ]
     },
     "metadata": {},
     "output_type": "display_data"
    }
   ],
   "source": [
    "# 시각화. 체크용입니다.\n",
    "plt.scatter(X_train[:, 0], y1_train, label='train')\n",
    "plt.scatter(X_test[:, 0], y1_test, label='test')\n",
    "\n",
    "plt.plot(X_train[:, 0], \n",
    "         lin_reg_1.predict(X_train), \n",
    "         c='r', label='train_hat')\n",
    "plt.plot(X_test[:, 0], \n",
    "         y1_hat, \n",
    "         c='g', label='test_hat')\n",
    "\n",
    "plt.legend();"
   ]
  },
  {
   "cell_type": "markdown",
   "metadata": {
    "id": "Yc-8F2reespP"
   },
   "source": [
    "![image.png](data:image/png;base64,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)"
   ]
  },
  {
   "cell_type": "markdown",
   "metadata": {
    "id": "qVEwjIEWT9RW"
   },
   "source": [
    "두번째, 전세 보증금 가격(y2) 예측 모델을 구축합니다.  \n",
    "**파이프라인을 사용하여** 만듭니다. \n",
    "파이프라인 이름은 p1으로 정하고,  \n",
    "수행해야할 작업은 다음과 같습니다.  \n",
    "- 데이터를 scaling 합니다.  \n",
    "StandardScaler를 사용합니다.(변수명은 scaler)  \n",
    "\n",
    "- 다항 특성을 만들 것입니다.  \n",
    "PolynomialFeatrues 변환기를 사용하며,  \n",
    "차수는 자유이고 bias는 없습니다.(변수명은 poly)  \n",
    "\n",
    "- X와 y2의 관계를 나타내는 Ridge 모델을 구축합니다.  \n",
    "Ridge Estimator를 사용하며, hyperparameter는 자유롭게 설정합니다.  \n",
    "(변수명은 rdg_reg_1)"
   ]
  },
  {
   "cell_type": "code",
   "execution_count": 44,
   "metadata": {
    "id": "cytewKZOWJHi"
   },
   "outputs": [],
   "source": [
    "# 관련 모듈 import\n",
    "from sklearn.preprocessing import StandardScaler, PolynomialFeatures\n",
    "from sklearn.linear_model import Ridge\n",
    "from sklearn.pipeline import Pipeline"
   ]
  },
  {
   "cell_type": "code",
   "execution_count": null,
   "metadata": {},
   "outputs": [],
   "source": [
    "('poly_feature', PolynomialFeatures(degree=2, include_bias=False)),\n",
    "                     ('scaler', StandardScaler()),\n",
    "                     ('model', LinearRegression())"
   ]
  },
  {
   "cell_type": "code",
   "execution_count": 55,
   "metadata": {
    "id": "J1vla4GOQFa2"
   },
   "outputs": [],
   "source": [
    "# 파이프라인 생성\n",
    "p1 = Pipeline([\n",
    "    ('poly',PolynomialFeatures(degree=2, include_bias=False)),\n",
    "    ('scaler',StandardScaler()),\n",
    "    ('rdg_reg_1',Ridge(alpha=0.1))\n",
    "               \n",
    "])"
   ]
  },
  {
   "cell_type": "code",
   "execution_count": 56,
   "metadata": {},
   "outputs": [
    {
     "data": {
      "text/html": [
       "<div>\n",
       "<style scoped>\n",
       "    .dataframe tbody tr th:only-of-type {\n",
       "        vertical-align: middle;\n",
       "    }\n",
       "\n",
       "    .dataframe tbody tr th {\n",
       "        vertical-align: top;\n",
       "    }\n",
       "\n",
       "    .dataframe thead th {\n",
       "        text-align: right;\n",
       "    }\n",
       "</style>\n",
       "<table border=\"1\" class=\"dataframe\">\n",
       "  <thead>\n",
       "    <tr style=\"text-align: right;\">\n",
       "      <th></th>\n",
       "      <th>시군구</th>\n",
       "      <th>단지명</th>\n",
       "      <th>전월세구분</th>\n",
       "      <th>전용면적(㎡)</th>\n",
       "      <th>보증금(만원)</th>\n",
       "      <th>월세(만원)</th>\n",
       "      <th>층</th>\n",
       "      <th>건축년도</th>\n",
       "    </tr>\n",
       "  </thead>\n",
       "  <tbody>\n",
       "    <tr>\n",
       "      <th>0</th>\n",
       "      <td>대구광역시</td>\n",
       "      <td>트윈팰리스</td>\n",
       "      <td>전세</td>\n",
       "      <td>84.1500</td>\n",
       "      <td>32000</td>\n",
       "      <td>0</td>\n",
       "      <td>13</td>\n",
       "      <td>2006</td>\n",
       "    </tr>\n",
       "    <tr>\n",
       "      <th>1</th>\n",
       "      <td>부산광역시</td>\n",
       "      <td>삼익비치</td>\n",
       "      <td>전세</td>\n",
       "      <td>73.9200</td>\n",
       "      <td>12000</td>\n",
       "      <td>0</td>\n",
       "      <td>8</td>\n",
       "      <td>1979</td>\n",
       "    </tr>\n",
       "    <tr>\n",
       "      <th>4</th>\n",
       "      <td>광주광역시</td>\n",
       "      <td>선운지구진아리채</td>\n",
       "      <td>전세</td>\n",
       "      <td>78.0887</td>\n",
       "      <td>27000</td>\n",
       "      <td>0</td>\n",
       "      <td>1</td>\n",
       "      <td>2014</td>\n",
       "    </tr>\n",
       "    <tr>\n",
       "      <th>8</th>\n",
       "      <td>대전광역시</td>\n",
       "      <td>엑스포</td>\n",
       "      <td>전세</td>\n",
       "      <td>116.3700</td>\n",
       "      <td>28000</td>\n",
       "      <td>0</td>\n",
       "      <td>15</td>\n",
       "      <td>1994</td>\n",
       "    </tr>\n",
       "    <tr>\n",
       "      <th>9</th>\n",
       "      <td>충청남도</td>\n",
       "      <td>신세계</td>\n",
       "      <td>전세</td>\n",
       "      <td>83.5650</td>\n",
       "      <td>2200</td>\n",
       "      <td>0</td>\n",
       "      <td>5</td>\n",
       "      <td>1993</td>\n",
       "    </tr>\n",
       "    <tr>\n",
       "      <th>...</th>\n",
       "      <td>...</td>\n",
       "      <td>...</td>\n",
       "      <td>...</td>\n",
       "      <td>...</td>\n",
       "      <td>...</td>\n",
       "      <td>...</td>\n",
       "      <td>...</td>\n",
       "      <td>...</td>\n",
       "    </tr>\n",
       "    <tr>\n",
       "      <th>13994</th>\n",
       "      <td>충청남도</td>\n",
       "      <td>신동아파밀리에</td>\n",
       "      <td>전세</td>\n",
       "      <td>109.2220</td>\n",
       "      <td>18000</td>\n",
       "      <td>0</td>\n",
       "      <td>15</td>\n",
       "      <td>2005</td>\n",
       "    </tr>\n",
       "    <tr>\n",
       "      <th>13995</th>\n",
       "      <td>부산광역시</td>\n",
       "      <td>해운대비치베르빌</td>\n",
       "      <td>전세</td>\n",
       "      <td>123.7550</td>\n",
       "      <td>28000</td>\n",
       "      <td>0</td>\n",
       "      <td>33</td>\n",
       "      <td>2005</td>\n",
       "    </tr>\n",
       "    <tr>\n",
       "      <th>13997</th>\n",
       "      <td>전라북도</td>\n",
       "      <td>동신</td>\n",
       "      <td>전세</td>\n",
       "      <td>76.3500</td>\n",
       "      <td>6000</td>\n",
       "      <td>0</td>\n",
       "      <td>9</td>\n",
       "      <td>1991</td>\n",
       "    </tr>\n",
       "    <tr>\n",
       "      <th>13998</th>\n",
       "      <td>서울특별시</td>\n",
       "      <td>이스턴잠실</td>\n",
       "      <td>전세</td>\n",
       "      <td>29.5700</td>\n",
       "      <td>31000</td>\n",
       "      <td>0</td>\n",
       "      <td>4</td>\n",
       "      <td>2020</td>\n",
       "    </tr>\n",
       "    <tr>\n",
       "      <th>13999</th>\n",
       "      <td>충청남도</td>\n",
       "      <td>두정역효성해링턴플레이스</td>\n",
       "      <td>전세</td>\n",
       "      <td>59.8600</td>\n",
       "      <td>18000</td>\n",
       "      <td>0</td>\n",
       "      <td>13</td>\n",
       "      <td>2020</td>\n",
       "    </tr>\n",
       "  </tbody>\n",
       "</table>\n",
       "<p>9068 rows × 8 columns</p>\n",
       "</div>"
      ],
      "text/plain": [
       "         시군구           단지명 전월세구분   전용면적(㎡)  보증금(만원)  월세(만원)   층  건축년도\n",
       "0      대구광역시         트윈팰리스    전세   84.1500    32000       0  13  2006\n",
       "1      부산광역시          삼익비치    전세   73.9200    12000       0   8  1979\n",
       "4      광주광역시      선운지구진아리채    전세   78.0887    27000       0   1  2014\n",
       "8      대전광역시           엑스포    전세  116.3700    28000       0  15  1994\n",
       "9       충청남도           신세계    전세   83.5650     2200       0   5  1993\n",
       "...      ...           ...   ...       ...      ...     ...  ..   ...\n",
       "13994   충청남도       신동아파밀리에    전세  109.2220    18000       0  15  2005\n",
       "13995  부산광역시      해운대비치베르빌    전세  123.7550    28000       0  33  2005\n",
       "13997   전라북도            동신    전세   76.3500     6000       0   9  1991\n",
       "13998  서울특별시         이스턴잠실    전세   29.5700    31000       0   4  2020\n",
       "13999   충청남도  두정역효성해링턴플레이스    전세   59.8600    18000       0  13  2020\n",
       "\n",
       "[9068 rows x 8 columns]"
      ]
     },
     "execution_count": 56,
     "metadata": {},
     "output_type": "execute_result"
    }
   ],
   "source": [
    "전세_train"
   ]
  },
  {
   "cell_type": "code",
   "execution_count": 57,
   "metadata": {
    "id": "7DWiRugNQFYn"
   },
   "outputs": [],
   "source": [
    "# input 데이터는 X_train, target 데이터는 y2_train 변수에 할당\n",
    "X_train = 전세_train.iloc[:,3]\n",
    "y2_train = 전세_train.iloc[:,-4]"
   ]
  },
  {
   "cell_type": "code",
   "execution_count": 58,
   "metadata": {
    "id": "OBOuI8GoQFWD"
   },
   "outputs": [
    {
     "name": "stderr",
     "output_type": "stream",
     "text": [
      "/var/folders/_0/yhfzsvrs2h5gv6whjmhg6fn40000gn/T/ipykernel_1825/2292679997.py:2: FutureWarning: Support for multi-dimensional indexing (e.g. `obj[:, None]`) is deprecated and will be removed in a future version.  Convert to a numpy array before indexing instead.\n",
      "  X_train = X_train[:,np.newaxis]\n"
     ]
    },
    {
     "data": {
      "text/plain": [
       "Pipeline(steps=[('poly', PolynomialFeatures(include_bias=False)),\n",
       "                ('scaler', StandardScaler()), ('rdg_reg_1', Ridge(alpha=0.1))])"
      ]
     },
     "execution_count": 58,
     "metadata": {},
     "output_type": "execute_result"
    }
   ],
   "source": [
    "# 파이프라인 fitting\n",
    "X_train = X_train[:,np.newaxis]\n",
    "\n",
    "p1.fit(X_train, y2_train)"
   ]
  },
  {
   "cell_type": "code",
   "execution_count": 59,
   "metadata": {
    "id": "8SzLbLEPQFT1"
   },
   "outputs": [
    {
     "data": {
      "image/png": "[encoded data removed]",
      "text/plain": [
       "<Figure size 432x288 with 1 Axes>"
      ]
     },
     "metadata": {},
     "output_type": "display_data"
    }
   ],
   "source": [
    "# 시각화. 체크용입니다.\n",
    "# degree=5, alpha=0.5 적용하였을 경우\n",
    "plt.scatter(X_train[:, 0], y2_train)\n",
    "plt.plot(np.sort(X_train[:, 0]), \n",
    "         np.sort(p1.predict(X_train)), \n",
    "         c='r', label='ridge')\n",
    "plt.legend();"
   ]
  },
  {
   "cell_type": "markdown",
   "metadata": {
    "id": "Tbl-1dnDe6TE"
   },
   "source": [
    "![image.png](data:image/png;base64,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)"
   ]
  },
  {
   "cell_type": "markdown",
   "metadata": {
    "id": "Nzg7wvXj2fb0"
   },
   "source": [
    "수고하셨습니다."
   ]
  }
 ],
 "metadata": {
  "colab": {
   "authorship_tag": "ABX9TyOgug4KEXAF4mJb0CKcc9BQ",
   "collapsed_sections": [],
   "mount_file_id": "1Y2yJV5xqiiXMIdvOZmbHCI4AoGjowvm5",
   "name": "220203_Supervised_Learning_과제.ipynb",
   "provenance": []
  },
  "kernelspec": {
   "display_name": "Python 3 (ipykernel)",
   "language": "python",
   "name": "python3"
  },
  "language_info": {
   "codemirror_mode": {
    "name": "ipython",
    "version": 3
   },
   "file_extension": ".py",
   "mimetype": "text/x-python",
   "name": "python",
   "nbconvert_exporter": "python",
   "pygments_lexer": "ipython3",
   "version": "3.9.7"
  }
 },
 "nbformat": 4,
 "nbformat_minor": 1
}
