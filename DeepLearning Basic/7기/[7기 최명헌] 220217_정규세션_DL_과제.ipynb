{
 "cells": [
  {
   "cell_type": "markdown",
   "metadata": {
    "id": "YNw4Brv7aHMm"
   },
   "source": [
    "두 과제 모두 진행하셔야 합니다."
   ]
  },
  {
   "cell_type": "markdown",
   "metadata": {
    "id": "fAJ6MgoJ-hke"
   },
   "source": [
    "# 과제 1."
   ]
  },
  {
   "cell_type": "markdown",
   "metadata": {
    "id": "gfuf4FX_-nvg"
   },
   "source": [
    "딥러닝 이론 세션에서 배운 다음 용어중 5개를 골라  \n",
    "이에 대하여 간단하게 용어 정리를 해주세요.  \n",
    "\n",
    "- 활성화 함수 (Activation function) : 선형으로는 해결되지 않는 문제를 비선형으로써 해결하기 위해 도입된 함수.\n",
    "- 손실 함수 (Loss function) : 학습된 모델로써 구한 predict값과 원래의 target값과의 오차를 설명하는 함수.\n",
    "- 경사 하강법 (Gradient descent) : optimal loss를 찾기 위한 방법으로 weight에 따른 loss의 변화량(경사, gradient)을 구하여 가장 낮은 loss를 찾는 방법. 눈을 가린 사람이 산에서 내려갈 때 조금씩 발을 내딛으며 조금씩 더 낮은 곳으로 가는 것으로 비유할 수 있다.\n",
    "- 학습률 (Learning rate) : 산에서 발을 내딛으며 낮은 곳으로 갈 때, 얼마나 큰 보폭으로 한 걸음씩 내딛을 것인가. 경사하강법에서 gradient를 얼마나 반영할 것인가를 의미함. 학습률이 크면 발산할 수 있고, 작으면 optimal loss로 수렴하는데 오래 걸리거나, local optimal에 정체할 수 있음.\n",
    "- 에포크 (Epoch) : 전체 dataset 모두 사용하여 학습을 한 번 하면 epoch 1번.\n",
    "- 오차역전파 (Backpropagation) : output layer에서 여러 층의 hidden layer를 거꾸로 거쳐가며 gradient descent를 하며 parameter update한다.\n",
    "- Local gradient : 기존의 수식을 통해 구할 수 있는 gradient\n",
    "- Global gradient : 뒤에서 앞으로 넘어오는 gradient\n",
    "- Gradient vanishing : 여러 층의 layer를 넘어오며 back propagation을 진행할 때 너무 많은 층을 거치며 gradient가 소실되는 현상\n",
    "- Optimizer : 최적의 성능, 최소의 cost로 훌륭한 결과를 찾기 위한 성능을 개선하기 위한 것"
   ]
  },
  {
   "cell_type": "markdown",
   "metadata": {
    "id": "hARKtiqc-oEn"
   },
   "source": [
    "# 과제 2. Fashion MNIST 분류 딥러닝 구축"
   ]
  },
  {
   "cell_type": "markdown",
   "metadata": {
    "id": "xNdvBv5VHl-l"
   },
   "source": [
    "## Fashion MNIST 소개 및 개요\n"
   ]
  },
  {
   "cell_type": "markdown",
   "metadata": {
    "id": "rJnBqZzFJYa2"
   },
   "source": [
    "Fashon MNIST 데이터셋은 옷, 신발 등의 의류 이미지를  \n",
    "0~9 의 클래스로 분류한 데이터입니다.  \n",
    "하단 코드는 데이터에 대해 살펴보는 코드인데,  \n",
    "데이터가 어떤 식으로 구성되어있는지 참고만 하시면 됩니다."
   ]
  },
  {
   "cell_type": "code",
   "execution_count": 1,
   "metadata": {
    "id": "5Ynk8bS-57fa"
   },
   "outputs": [],
   "source": [
    "# torchvision은 이미지 처리 등 비전 태스크를 위한 torch 모듈입니다.\n",
    "from torchvision import datasets, transforms, utils\n",
    "from torch.utils.data import DataLoader\n",
    "\n",
    "import matplotlib.pyplot as plt\n",
    "import numpy as np"
   ]
  },
  {
   "cell_type": "code",
   "execution_count": 2,
   "metadata": {
    "id": "sbjHI6kP57cy"
   },
   "outputs": [],
   "source": [
    "# 이미지를 텐서로 변경\n",
    "transform = transforms.Compose([\n",
    "    transforms.ToTensor()\n",
    "])"
   ]
  },
  {
   "cell_type": "code",
   "execution_count": 3,
   "metadata": {
    "colab": {
     "base_uri": "https://localhost:8080/",
     "height": 442,
     "referenced_widgets": [
      "0eadb5e0fe62437eae9d9a215bb5f63c",
      "36c50b9098c1443f8ece84ccb28f2b2e",
      "2bb284c069e74c95b7b23f86b7cf7d3e",
      "bb146fd8af3845048325cd57919b6901",
      "c4d6fb7198b446588f46c04bb9532840",
      "6396176bdee44c8e9a73dcbec951f5ca",
      "3f65368e574a4f8d8aa3bd3fc5dd1d4b",
      "3a3c7145c4354b6da66305c1a7815e7a",
      "ce7c698379f64f2f8dd2dac2c6398003",
      "4b5fe1fb848b453ca311f55a84f6e408",
      "0caa6ff92e354ccbae11bda92f0a4b7c",
      "5fe5438ad699415ca17b1b79f1fe34ae",
      "f4cf3f0d4321428bae97395922ed6e22",
      "adb9cdb99c754b7593cfe5eacaddb09a",
      "cbad32fc634b4948b66ff71132dc6bc1",
      "460f45a4c7b540e69227d263abe5aa81",
      "7f96d9717a56403892368277f1670eb3",
      "3b555028dce242a2b608c95a7153d3c4",
      "9fee29b9efc54f859aeec9209523665b",
      "0a910892231845fab6a511655168b9eb",
      "1dfb13cf97434826b21f22b79c8d90a5",
      "f3775f0aa1884dc38fae4b63e9acf572",
      "4dad14099984406d812ee924a0c4312f",
      "a19cc2c2abb34f1787de0bc54d40694a",
      "6b7916d9fdb54ff787a517613f865b68",
      "c3e70c23c089498f962cca49e5bce03a",
      "f6224c93d49e48fba732c4e1d06cf1de",
      "23ba4818a45b4dc19c0a9a28df23d010",
      "abe2c54ee8594a57a4d3d61daa821cd0",
      "55a7e89d37834be88dddac6a44206c20",
      "eb2e6fedd1ce4609bde90566022f2bc4",
      "9ab12aa7c80f458794cafa9a3d562d19",
      "1fc769f342054de5a33c992944fb0734",
      "98d91cf1e05f41419047a6e47c2caef5",
      "ec32ea3b9a604597a3b21629a8a49406",
      "aabb82dae6ca4af7873f672ee732196e",
      "df34be55638d400d81196641a4ed5bf7",
      "10c88b02aef248878b347d72510c0609",
      "75ee328deee646c383f08f7ee6665df3",
      "008f8425429e4afb83b68dbe517ad3f6",
      "defd559128b34e7785b9d1c09a87a326",
      "155fa571b90b492597d952d413d994e0",
      "ed83e4d86c7f444891e41dd45977666a",
      "bedb8a195dc94bb7bcd5dbfb961df3be"
     ]
    },
    "executionInfo": {
     "elapsed": 6248,
     "status": "ok",
     "timestamp": 1644941023219,
     "user": {
      "displayName": "J Park",
      "photoUrl": "https://lh3.googleusercontent.com/a/default-user=s64",
      "userId": "17117196518152876426"
     },
     "user_tz": -540
    },
    "id": "qsjsuOgN5U5i",
    "outputId": "906281b6-8174-4c2e-e6c2-37b5a8a90c47"
   },
   "outputs": [
    {
     "name": "stdout",
     "output_type": "stream",
     "text": [
      "Downloading http://fashion-mnist.s3-website.eu-central-1.amazonaws.com/train-images-idx3-ubyte.gz\n",
      "Downloading http://fashion-mnist.s3-website.eu-central-1.amazonaws.com/train-images-idx3-ubyte.gz to ./.data/FashionMNIST\\raw\\train-images-idx3-ubyte.gz\n"
     ]
    },
    {
     "data": {
      "application/vnd.jupyter.widget-view+json": {
       "model_id": "253d64e7c5824df089ad09775fa61e67",
       "version_major": 2,
       "version_minor": 0
      },
      "text/plain": [
       "  0%|          | 0/26421880 [00:00<?, ?it/s]"
      ]
     },
     "metadata": {},
     "output_type": "display_data"
    },
    {
     "name": "stdout",
     "output_type": "stream",
     "text": [
      "Extracting ./.data/FashionMNIST\\raw\\train-images-idx3-ubyte.gz to ./.data/FashionMNIST\\raw\n",
      "\n",
      "Downloading http://fashion-mnist.s3-website.eu-central-1.amazonaws.com/train-labels-idx1-ubyte.gz\n",
      "Downloading http://fashion-mnist.s3-website.eu-central-1.amazonaws.com/train-labels-idx1-ubyte.gz to ./.data/FashionMNIST\\raw\\train-labels-idx1-ubyte.gz\n"
     ]
    },
    {
     "data": {
      "application/vnd.jupyter.widget-view+json": {
       "model_id": "c54a627930f4463f862fb069d41f073d",
       "version_major": 2,
       "version_minor": 0
      },
      "text/plain": [
       "  0%|          | 0/29515 [00:00<?, ?it/s]"
      ]
     },
     "metadata": {},
     "output_type": "display_data"
    },
    {
     "name": "stdout",
     "output_type": "stream",
     "text": [
      "Extracting ./.data/FashionMNIST\\raw\\train-labels-idx1-ubyte.gz to ./.data/FashionMNIST\\raw\n",
      "\n",
      "Downloading http://fashion-mnist.s3-website.eu-central-1.amazonaws.com/t10k-images-idx3-ubyte.gz\n",
      "Downloading http://fashion-mnist.s3-website.eu-central-1.amazonaws.com/t10k-images-idx3-ubyte.gz to ./.data/FashionMNIST\\raw\\t10k-images-idx3-ubyte.gz\n"
     ]
    },
    {
     "data": {
      "application/vnd.jupyter.widget-view+json": {
       "model_id": "93d51450cbc34d0ba578b8b8d8052c7f",
       "version_major": 2,
       "version_minor": 0
      },
      "text/plain": [
       "  0%|          | 0/4422102 [00:00<?, ?it/s]"
      ]
     },
     "metadata": {},
     "output_type": "display_data"
    },
    {
     "name": "stdout",
     "output_type": "stream",
     "text": [
      "Extracting ./.data/FashionMNIST\\raw\\t10k-images-idx3-ubyte.gz to ./.data/FashionMNIST\\raw\n",
      "\n",
      "Downloading http://fashion-mnist.s3-website.eu-central-1.amazonaws.com/t10k-labels-idx1-ubyte.gz\n",
      "Downloading http://fashion-mnist.s3-website.eu-central-1.amazonaws.com/t10k-labels-idx1-ubyte.gz to ./.data/FashionMNIST\\raw\\t10k-labels-idx1-ubyte.gz\n"
     ]
    },
    {
     "data": {
      "application/vnd.jupyter.widget-view+json": {
       "model_id": "ac64cc17fdef4b6cb91863d4be409ae1",
       "version_major": 2,
       "version_minor": 0
      },
      "text/plain": [
       "  0%|          | 0/5148 [00:00<?, ?it/s]"
      ]
     },
     "metadata": {},
     "output_type": "display_data"
    },
    {
     "name": "stdout",
     "output_type": "stream",
     "text": [
      "Extracting ./.data/FashionMNIST\\raw\\t10k-labels-idx1-ubyte.gz to ./.data/FashionMNIST\\raw\n",
      "\n"
     ]
    }
   ],
   "source": [
    "# 데이터셋 자동 다운로드\n",
    "trainset = datasets.FashionMNIST(\n",
    "    root      = './.data/', \n",
    "    train     = True,\n",
    "    download  = True,\n",
    "    transform = transform\n",
    ")\n",
    "testset = datasets.FashionMNIST(\n",
    "    root      = './.data/', \n",
    "    train     = False,\n",
    "    download  = True,\n",
    "    transform = transform\n",
    ")"
   ]
  },
  {
   "cell_type": "code",
   "execution_count": 23,
   "metadata": {
    "id": "x9irAVU96uie"
   },
   "outputs": [],
   "source": [
    "# 여기 있는 DataLoader는 단순히 EDA를 위해 생성한 것입니다.\n",
    "batch_size = 16\n",
    "\n",
    "train_loader = DataLoader(\n",
    "    dataset     = trainset,\n",
    "    batch_size  = batch_size\n",
    ")\n",
    "test_loader = DataLoader(\n",
    "    dataset     = testset,\n",
    "    batch_size  = batch_size\n",
    ")"
   ]
  },
  {
   "cell_type": "code",
   "execution_count": 24,
   "metadata": {
    "id": "xz6xrwhA6ugY"
   },
   "outputs": [],
   "source": [
    "# 반복문에서 사용할 수 있도록 iter()함수 적용\n",
    "dataiter = iter(train_loader)\n",
    "# next()함수로 다음 배치 1개 갖고오기\n",
    "images, labels = next(dataiter)"
   ]
  },
  {
   "cell_type": "code",
   "execution_count": 25,
   "metadata": {
    "colab": {
     "base_uri": "https://localhost:8080/",
     "height": 190
    },
    "executionInfo": {
     "elapsed": 583,
     "status": "ok",
     "timestamp": 1644941089760,
     "user": {
      "displayName": "J Park",
      "photoUrl": "https://lh3.googleusercontent.com/a/default-user=s64",
      "userId": "17117196518152876426"
     },
     "user_tz": -540
    },
    "id": "db7xlYcS6ud7",
    "outputId": "de1fd381-7691-4e9e-d400-ddf9787e3dd6"
   },
   "outputs": [
    {
     "data": {
      "image/png": "[encoded data removed]",
      "text/plain": [
       "<Figure size 720x504 with 1 Axes>"
      ]
     },
     "metadata": {
      "needs_background": "light"
     },
     "output_type": "display_data"
    }
   ],
   "source": [
    "# 데이터 체크\n",
    "# utils.make_grid : 여러 이미지를 하나로 묶어보기 위함\n",
    "img = utils.make_grid(images, padding=0)\n",
    "npimg = img.numpy()\n",
    "plt.figure(figsize=(10, 7))\n",
    "plt.imshow(np.transpose(npimg, (1,2,0)))\n",
    "plt.show()"
   ]
  },
  {
   "cell_type": "code",
   "execution_count": 26,
   "metadata": {
    "colab": {
     "base_uri": "https://localhost:8080/"
    },
    "executionInfo": {
     "elapsed": 343,
     "status": "ok",
     "timestamp": 1644941124687,
     "user": {
      "displayName": "J Park",
      "photoUrl": "https://lh3.googleusercontent.com/a/default-user=s64",
      "userId": "17117196518152876426"
     },
     "user_tz": -540
    },
    "id": "puIAsraY6ubu",
    "outputId": "a7d67a03-b4d0-43e4-e6e7-dfc68accf89e"
   },
   "outputs": [
    {
     "name": "stdout",
     "output_type": "stream",
     "text": [
      "tensor([9, 0, 0, 3, 0, 2, 7, 2, 5, 5, 0, 9, 5, 5, 7, 9])\n"
     ]
    }
   ],
   "source": [
    "print(labels)"
   ]
  },
  {
   "cell_type": "code",
   "execution_count": 27,
   "metadata": {
    "colab": {
     "base_uri": "https://localhost:8080/"
    },
    "executionInfo": {
     "elapsed": 238,
     "status": "ok",
     "timestamp": 1644941166945,
     "user": {
      "displayName": "J Park",
      "photoUrl": "https://lh3.googleusercontent.com/a/default-user=s64",
      "userId": "17117196518152876426"
     },
     "user_tz": -540
    },
    "id": "OjLFHnQg6uZY",
    "outputId": "d207b56c-2cca-4336-c21f-98842a8e5faf"
   },
   "outputs": [
    {
     "name": "stdout",
     "output_type": "stream",
     "text": [
      "Ankle boot\n",
      "T-shirt/top\n",
      "T-shirt/top\n",
      "Dress\n",
      "T-shirt/top\n",
      "Pullover\n",
      "Sneaker\n",
      "Pullover\n",
      "Sandal\n",
      "Sandal\n",
      "T-shirt/top\n",
      "Ankle boot\n",
      "Sandal\n",
      "Sandal\n",
      "Sneaker\n",
      "Ankle boot\n"
     ]
    }
   ],
   "source": [
    "CLASSES = {\n",
    "    0: 'T-shirt/top',\n",
    "    1: 'Trouser',\n",
    "    2: 'Pullover',\n",
    "    3: 'Dress',\n",
    "    4: 'Coat',\n",
    "    5: 'Sandal',\n",
    "    6: 'Shirt',\n",
    "    7: 'Sneaker',\n",
    "    8: 'Bag',\n",
    "    9: 'Ankle boot'\n",
    "}\n",
    "\n",
    "\n",
    "for label in labels:\n",
    "    index = label.item()\n",
    "    print(CLASSES[index])"
   ]
  },
  {
   "cell_type": "code",
   "execution_count": 28,
   "metadata": {
    "colab": {
     "base_uri": "https://localhost:8080/",
     "height": 298
    },
    "executionInfo": {
     "elapsed": 742,
     "status": "ok",
     "timestamp": 1644941193786,
     "user": {
      "displayName": "J Park",
      "photoUrl": "https://lh3.googleusercontent.com/a/default-user=s64",
      "userId": "17117196518152876426"
     },
     "user_tz": -540
    },
    "id": "nwT3VkPL6uXC",
    "outputId": "a0aae4d3-f81d-43c4-a9e7-d37aac1873f4"
   },
   "outputs": [
    {
     "name": "stdout",
     "output_type": "stream",
     "text": [
      "(28, 28)\n"
     ]
    },
    {
     "data": {
      "image/png": "[encoded data removed]",
      "text/plain": [
       "<Figure size 432x288 with 1 Axes>"
      ]
     },
     "metadata": {
      "needs_background": "light"
     },
     "output_type": "display_data"
    }
   ],
   "source": [
    "idx = 1\n",
    "\n",
    "item_img = images[idx]\n",
    "item_npimg = item_img.squeeze().numpy()\n",
    "plt.title(CLASSES[labels[idx].item()])\n",
    "print(item_npimg.shape)\n",
    "plt.imshow(item_npimg, cmap='gray')\n",
    "plt.show()"
   ]
  },
  {
   "cell_type": "markdown",
   "metadata": {
    "id": "XQBI8QB_JO9K"
   },
   "source": [
    "## 과제 진행 부분"
   ]
  },
  {
   "cell_type": "markdown",
   "metadata": {
    "id": "upCkjTTSIu2Z"
   },
   "source": [
    "여기서부터는 위의 Fashion MNIST 데이터셋을 활용해  \n",
    "이들을 분류하는 신경망 모델을 구축합니다.  \n",
    "\n",
    "주석 란에  \n",
    "`########## 과제 내용 ############`  \n",
    "해당 주석이 있는 부분에만 코드를 작성하시면 됩니다.  \n"
   ]
  },
  {
   "cell_type": "markdown",
   "metadata": {
    "id": "9aC-ijhLMiYV"
   },
   "source": [
    "### 기본 모듈 임포트"
   ]
  },
  {
   "cell_type": "code",
   "execution_count": 29,
   "metadata": {
    "id": "fohyrWnyLGOt"
   },
   "outputs": [],
   "source": [
    "from torchvision import transforms, datasets"
   ]
  },
  {
   "cell_type": "code",
   "execution_count": 31,
   "metadata": {
    "id": "EBtBQ6S483Re"
   },
   "outputs": [],
   "source": [
    "############# 모듈 임포트 ##############\n",
    "# 기본 텐서 연산을 위한 모듈과,\n",
    "# 신경망 구축, 옵티마이저 관련 모듈을 불러옵니다. (총 3개)\n",
    "import torch\n",
    "import torch.nn as nn\n",
    "import torch.optim as optim"
   ]
  },
  {
   "cell_type": "markdown",
   "metadata": {
    "id": "yyYaSUIHMmCZ"
   },
   "source": [
    "### 데이터셋과 DataLoader 생성"
   ]
  },
  {
   "cell_type": "markdown",
   "metadata": {
    "id": "NjPmP1Nb83Ri"
   },
   "source": [
    "입력 `x` 는 `[배치크기, 색, 높이, 넓이]`로 이루어져 있습니다.  \n",
    "Fashion MNIST에서 이미지의 크기는 28 x 28, 색은 흑백으로 1 가지 입니다.  \n",
    "그러므로 입력 x의 총 특성값 갯수는 28 x 28 x 1, 즉 784개 입니다. "
   ]
  },
  {
   "cell_type": "code",
   "execution_count": 81,
   "metadata": {
    "id": "qO063PKiK_yW"
   },
   "outputs": [],
   "source": [
    "# 이미지를 텐서로 변경\n",
    "transform = transforms.Compose([\n",
    "    transforms.ToTensor()\n",
    "])"
   ]
  },
  {
   "cell_type": "code",
   "execution_count": 82,
   "metadata": {
    "id": "CFY2gfUnLAsy"
   },
   "outputs": [],
   "source": [
    "trainset = datasets.FashionMNIST(\n",
    "    root      = './.data/', \n",
    "    train     = True,\n",
    "    download  = True,\n",
    "    transform = transform\n",
    ")\n",
    "testset = datasets.FashionMNIST(\n",
    "    root      = './.data/', \n",
    "    train     = False,\n",
    "    download  = True,\n",
    "    transform = transform\n",
    ")"
   ]
  },
  {
   "cell_type": "code",
   "execution_count": 83,
   "metadata": {
    "id": "wIFL0fjMLBn8"
   },
   "outputs": [],
   "source": [
    "############# 모듈 임포트 ##############\n",
    "# DataLoader 클래스를 사용하기 위한 모듈을 임포트하세요.\n",
    "from torch.utils.data import DataLoader"
   ]
  },
  {
   "cell_type": "code",
   "execution_count": 84,
   "metadata": {
    "id": "4HhTbraHLPEy"
   },
   "outputs": [],
   "source": [
    "BATCH_SIZE = 512"
   ]
  },
  {
   "cell_type": "code",
   "execution_count": 85,
   "metadata": {
    "id": "Y728nQLLLKSY"
   },
   "outputs": [],
   "source": [
    "######## DataLoader 생성 ##########\n",
    "# train set과 test set 각각에 대하여 DataLoader를 생성합니다.\n",
    "# shuffle=True 매개변수를 넣어 데이터를 섞어주세요.\n",
    "train_loader = DataLoader(trainset, batch_size = BATCH_SIZE, shuffle = True)\n",
    "\n",
    "test_loader = DataLoader(testset, batch_size = BATCH_SIZE, shuffle = True)"
   ]
  },
  {
   "cell_type": "markdown",
   "metadata": {
    "id": "4aiWT_ITMsZx"
   },
   "source": [
    "### 신경망 모델 구축"
   ]
  },
  {
   "cell_type": "markdown",
   "metadata": {
    "id": "PAsrSnv_Ko7H"
   },
   "source": [
    "신경망 클래스 이름은 Net으로 하여 3개의 레이어를 가진 모델을 만드세요.  \n",
    "노드의 개수와 활성화 함수는 자유입니다.  \n",
    "출력층 노드의 개수는 10개입니다.  \n",
    "또한, 출력층에 Softmax 함수를 적용할 필요가 없습니다.\n",
    "\n",
    "(hint. forward시 첫 번째 레이어를 통과하기 전에 784차원의 텐서로 차원을 변환 해야합니다.)"
   ]
  },
  {
   "cell_type": "code",
   "execution_count": 155,
   "metadata": {
    "id": "2X7NAiB_83Ri"
   },
   "outputs": [],
   "source": [
    "############### Net 신경망 생성 ##############\n",
    "class Net(nn.Module):\n",
    "    def __init__(self, activation = None):\n",
    "        super(Net, self).__init__()\n",
    "        \n",
    "        self.layer1 = nn.Linear(784, 64)\n",
    "        self.layer2 = nn.Linear(64, 32)\n",
    "        self.layer3 = nn.Linear(32, 10)\n",
    "        if activation == None:\n",
    "            self.activation = nn.ReLU()\n",
    "        elif activation == 'LeakyReLU':\n",
    "            self.activation = nn.LeakyReLU()\n",
    "        elif activation == 'Sigmoid':\n",
    "            self.activation = nn.Sigmoid()\n",
    "            \n",
    "    def forward(self, x):\n",
    "        out = self.activation(self.layer1(x.view(-1, 784)))\n",
    "        out = self.activation(self.layer2(out))\n",
    "        out = self.layer3(out)\n",
    "        \n",
    "        return out"
   ]
  },
  {
   "cell_type": "code",
   "execution_count": 156,
   "metadata": {
    "id": "0FhhkLIQM4ev"
   },
   "outputs": [],
   "source": [
    "model1 = Net()\n",
    "model2 = Net('LeakyReLU')\n",
    "model3 = Net('Sigmoid')"
   ]
  },
  {
   "cell_type": "markdown",
   "metadata": {
    "id": "hU4t1BVa83Rj"
   },
   "source": [
    "### 학습하기"
   ]
  },
  {
   "cell_type": "code",
   "execution_count": 157,
   "metadata": {
    "id": "nNITUCK7LN2H"
   },
   "outputs": [],
   "source": [
    "EPOCHS = 30"
   ]
  },
  {
   "cell_type": "markdown",
   "metadata": {
    "id": "IVxIxkXdNRGH"
   },
   "source": [
    "모델 학습 과정의 함수를 작성합니다.  \n",
    "주석으로 지시하는 부분의 코드를 작성해주세요."
   ]
  },
  {
   "cell_type": "code",
   "execution_count": 159,
   "metadata": {
    "id": "pVzaPaXs83Rj"
   },
   "outputs": [],
   "source": [
    "def train(model, train_loader, optimizer):\n",
    "    model.train()\n",
    "\n",
    "    ######## 배치 당 loss 값을 담을 리스트 생성 #########\n",
    "    batch_losses = []\n",
    "\n",
    "    for data, target in train_loader:\n",
    "        ######### 옵티마이저의 기울기 초기화 ############\n",
    "        optimizer.zero_grad()\n",
    "\n",
    "        ######### 모델에서 예측값 산출 ############\n",
    "        output = model.forward(data)\n",
    "\n",
    "        ######### loss 계산 ############\n",
    "        # 정답 데이터와의 Cross Entropy Loss 계산\n",
    "        # 그리고 이 loss를 배치 당 loss로 보관합니다.\n",
    "        loss = criterion(output, target)\n",
    "        batch_losses.append(loss)\n",
    "\n",
    "        ######### 기울기 계산 ########\n",
    "        loss.backward()\n",
    "\n",
    "        ######## 가중치 갱신 ########\n",
    "        optimizer.step()\n",
    "    \n",
    "    ######## 배치 당 평균 loss 계산 ############\n",
    "    avg_loss = sum(batch_losses) / len(batch_losses)\n",
    "    \n",
    "    return avg_loss"
   ]
  },
  {
   "cell_type": "markdown",
   "metadata": {
    "id": "k3RxyrBaO4oC"
   },
   "source": [
    "모델을 테스트하는 과정의 함수도 생성합니다.  \n",
    "주석으로 지시하는 부분의 코드를 작성해주세요.  "
   ]
  },
  {
   "cell_type": "code",
   "execution_count": 160,
   "metadata": {
    "id": "DFYlPmpi83Rk"
   },
   "outputs": [],
   "source": [
    "def evaluate(model, test_loader):\n",
    "    # 모델을 평가 모드로 전환\n",
    "    model.eval()\n",
    "\n",
    "    ######## 배치 당 loss 값을 담을 리스트 생성 #########\n",
    "    batch_losses = []\n",
    "\n",
    "    # 실제 모델의 예측이 정답과 맞은 횟수 = correct\n",
    "    correct = 0\n",
    "\n",
    "    ####### 평가 과정에서는 기울기를 계산하지 않습니다. #########\n",
    "    ####### 해당하는 코드를 작성해주세요. ############\n",
    "    with torch.no_grad(): \n",
    "        for data, target in test_loader:\n",
    "            # 예측값 생성\n",
    "            output = model(data)\n",
    "\n",
    "            ######### loss 계산 ############\n",
    "            # 정답 데이터와의 Cross Entropy Loss 계산\n",
    "            # 그리고 이 loss를 배치 당 loss로 보관합니다.\n",
    "            loss = criterion(output, target)\n",
    "            batch_losses.append(loss)\n",
    "            \n",
    "            # Accuracy 계산\n",
    "            # 가장 큰 값을 가진 클래스가 모델의 예측입니다.\n",
    "            # 예측 클래스(pred)과 정답 클래스를 비교하여 일치할 경우 correct에 1을 더합니다.\n",
    "            pred = output.max(1, keepdim=True)[1]\n",
    "\n",
    "            # eq() 함수는 값이 일치하면 1을, 아니면 0을 출력.\n",
    "            correct += pred.eq(target.view_as(pred)).sum().item()\n",
    "\n",
    "    ######## 배치 당 평균 loss 계산 ############\n",
    "    avg_loss = sum(batch_losses) / len(batch_losses)\n",
    "\n",
    "    #정확도 계산\n",
    "    accuracy = 100. * correct / len(test_loader.dataset)\n",
    "\n",
    "    return avg_loss, accuracy"
   ]
  },
  {
   "cell_type": "markdown",
   "metadata": {
    "id": "BJu0rYqx83Rk"
   },
   "source": [
    "코드를 실행시켜 학습을 진행합니다.  \n",
    "다소 시간이 걸릴 수 있습니다."
   ]
  },
  {
   "cell_type": "code",
   "execution_count": 162,
   "metadata": {
    "id": "z4x17DMC83Rk"
   },
   "outputs": [
    {
     "name": "stdout",
     "output_type": "stream",
     "text": [
      "ReLU\n",
      "[1] Train Loss: 2.2500\tTest Loss: 2.1776\tAccuracy: 27.31%\n",
      "[2] Train Loss: 2.0525\tTest Loss: 1.8943\tAccuracy: 33.19%\n",
      "[3] Train Loss: 1.7035\tTest Loss: 1.5269\tAccuracy: 51.26%\n",
      "[4] Train Loss: 1.3857\tTest Loss: 1.2731\tAccuracy: 56.67%\n",
      "[5] Train Loss: 1.1823\tTest Loss: 1.1157\tAccuracy: 60.68%\n",
      "[6] Train Loss: 1.0538\tTest Loss: 1.0170\tAccuracy: 62.07%\n",
      "[7] Train Loss: 0.9672\tTest Loss: 0.9469\tAccuracy: 64.20%\n",
      "[8] Train Loss: 0.9044\tTest Loss: 0.8898\tAccuracy: 67.09%\n",
      "[9] Train Loss: 0.8546\tTest Loss: 0.8480\tAccuracy: 67.87%\n",
      "[10] Train Loss: 0.8129\tTest Loss: 0.8135\tAccuracy: 69.04%\n",
      "[11] Train Loss: 0.7793\tTest Loss: 0.7804\tAccuracy: 72.58%\n",
      "[12] Train Loss: 0.7502\tTest Loss: 0.7586\tAccuracy: 71.25%\n",
      "[13] Train Loss: 0.7265\tTest Loss: 0.7325\tAccuracy: 73.64%\n",
      "[14] Train Loss: 0.7038\tTest Loss: 0.7113\tAccuracy: 74.58%\n",
      "[15] Train Loss: 0.6852\tTest Loss: 0.6955\tAccuracy: 75.16%\n",
      "[16] Train Loss: 0.6676\tTest Loss: 0.6784\tAccuracy: 75.89%\n",
      "[17] Train Loss: 0.6510\tTest Loss: 0.6666\tAccuracy: 76.25%\n",
      "[18] Train Loss: 0.6376\tTest Loss: 0.6473\tAccuracy: 76.91%\n",
      "[19] Train Loss: 0.6255\tTest Loss: 0.6407\tAccuracy: 76.80%\n",
      "[20] Train Loss: 0.6127\tTest Loss: 0.6248\tAccuracy: 77.60%\n",
      "[21] Train Loss: 0.6022\tTest Loss: 0.6196\tAccuracy: 77.84%\n",
      "[22] Train Loss: 0.5911\tTest Loss: 0.6087\tAccuracy: 78.70%\n",
      "[23] Train Loss: 0.5808\tTest Loss: 0.6221\tAccuracy: 77.14%\n",
      "[24] Train Loss: 0.5728\tTest Loss: 0.5988\tAccuracy: 78.74%\n",
      "[25] Train Loss: 0.5640\tTest Loss: 0.5852\tAccuracy: 79.07%\n",
      "[26] Train Loss: 0.5552\tTest Loss: 0.5750\tAccuracy: 79.85%\n",
      "[27] Train Loss: 0.5489\tTest Loss: 0.5713\tAccuracy: 80.23%\n",
      "[28] Train Loss: 0.5414\tTest Loss: 0.5675\tAccuracy: 80.19%\n",
      "[29] Train Loss: 0.5383\tTest Loss: 0.5605\tAccuracy: 80.88%\n",
      "[30] Train Loss: 0.5313\tTest Loss: 0.5564\tAccuracy: 80.17%\n"
     ]
    }
   ],
   "source": [
    "print('ReLU')\n",
    "criterion = nn.CrossEntropyLoss()\n",
    "optimizer = optim.SGD(model1.parameters(), lr = 0.01)\n",
    "for epoch in range(1, EPOCHS + 1):\n",
    "    train_loss = train(model1, train_loader, optimizer)\n",
    "    test_loss, test_accuracy = evaluate(model1, test_loader)\n",
    "    \n",
    "    print('[{}] Train Loss: {:.4f}\\tTest Loss: {:.4f}\\tAccuracy: {:.2f}%'.format(\n",
    "          epoch, train_loss, test_loss, test_accuracy))"
   ]
  },
  {
   "cell_type": "code",
   "execution_count": 163,
   "metadata": {},
   "outputs": [
    {
     "name": "stdout",
     "output_type": "stream",
     "text": [
      "LeakyReLU\n",
      "[1] Train Loss: 2.2746\tTest Loss: 2.2350\tAccuracy: 19.38%\n",
      "[2] Train Loss: 2.1624\tTest Loss: 2.0634\tAccuracy: 39.72%\n",
      "[3] Train Loss: 1.9087\tTest Loss: 1.7374\tAccuracy: 43.95%\n",
      "[4] Train Loss: 1.5674\tTest Loss: 1.4179\tAccuracy: 55.15%\n",
      "[5] Train Loss: 1.2936\tTest Loss: 1.1952\tAccuracy: 61.41%\n",
      "[6] Train Loss: 1.1083\tTest Loss: 1.0526\tAccuracy: 62.35%\n",
      "[7] Train Loss: 0.9922\tTest Loss: 0.9599\tAccuracy: 64.19%\n",
      "[8] Train Loss: 0.9172\tTest Loss: 0.9027\tAccuracy: 66.18%\n",
      "[9] Train Loss: 0.8668\tTest Loss: 0.8617\tAccuracy: 67.60%\n",
      "[10] Train Loss: 0.8274\tTest Loss: 0.8262\tAccuracy: 68.65%\n",
      "[11] Train Loss: 0.7963\tTest Loss: 0.7978\tAccuracy: 69.49%\n",
      "[12] Train Loss: 0.7687\tTest Loss: 0.7746\tAccuracy: 69.65%\n",
      "[13] Train Loss: 0.7459\tTest Loss: 0.7546\tAccuracy: 71.45%\n",
      "[14] Train Loss: 0.7262\tTest Loss: 0.7350\tAccuracy: 72.77%\n",
      "[15] Train Loss: 0.7064\tTest Loss: 0.7177\tAccuracy: 73.92%\n",
      "[16] Train Loss: 0.6890\tTest Loss: 0.7009\tAccuracy: 74.54%\n",
      "[17] Train Loss: 0.6722\tTest Loss: 0.6878\tAccuracy: 75.08%\n",
      "[18] Train Loss: 0.6577\tTest Loss: 0.6761\tAccuracy: 75.47%\n",
      "[19] Train Loss: 0.6427\tTest Loss: 0.6667\tAccuracy: 76.06%\n",
      "[20] Train Loss: 0.6301\tTest Loss: 0.6453\tAccuracy: 77.02%\n",
      "[21] Train Loss: 0.6191\tTest Loss: 0.6409\tAccuracy: 76.94%\n",
      "[22] Train Loss: 0.6079\tTest Loss: 0.6315\tAccuracy: 77.02%\n",
      "[23] Train Loss: 0.5974\tTest Loss: 0.6208\tAccuracy: 77.79%\n",
      "[24] Train Loss: 0.5881\tTest Loss: 0.6137\tAccuracy: 77.94%\n",
      "[25] Train Loss: 0.5807\tTest Loss: 0.6020\tAccuracy: 78.18%\n",
      "[26] Train Loss: 0.5708\tTest Loss: 0.6002\tAccuracy: 78.24%\n",
      "[27] Train Loss: 0.5638\tTest Loss: 0.5869\tAccuracy: 78.82%\n",
      "[28] Train Loss: 0.5571\tTest Loss: 0.5890\tAccuracy: 78.67%\n",
      "[29] Train Loss: 0.5505\tTest Loss: 0.5752\tAccuracy: 79.45%\n",
      "[30] Train Loss: 0.5456\tTest Loss: 0.5664\tAccuracy: 79.51%\n"
     ]
    }
   ],
   "source": [
    "print('LeakyReLU')\n",
    "criterion = nn.CrossEntropyLoss()\n",
    "optimizer = optim.SGD(model2.parameters(), lr = 0.01)\n",
    "for epoch in range(1, EPOCHS + 1):\n",
    "    train_loss = train(model2, train_loader, optimizer)\n",
    "    test_loss, test_accuracy = evaluate(model2, test_loader)\n",
    "    \n",
    "    print('[{}] Train Loss: {:.4f}\\tTest Loss: {:.4f}\\tAccuracy: {:.2f}%'.format(\n",
    "          epoch, train_loss, test_loss, test_accuracy))"
   ]
  },
  {
   "cell_type": "code",
   "execution_count": 164,
   "metadata": {},
   "outputs": [
    {
     "name": "stdout",
     "output_type": "stream",
     "text": [
      "Sigmoid\n",
      "[1] Train Loss: 2.3269\tTest Loss: 2.3093\tAccuracy: 9.11%\n",
      "[2] Train Loss: 2.3046\tTest Loss: 2.3019\tAccuracy: 10.00%\n",
      "[3] Train Loss: 2.3007\tTest Loss: 2.2998\tAccuracy: 14.97%\n",
      "[4] Train Loss: 2.2990\tTest Loss: 2.2983\tAccuracy: 25.59%\n",
      "[5] Train Loss: 2.2975\tTest Loss: 2.2968\tAccuracy: 40.85%\n",
      "[6] Train Loss: 2.2960\tTest Loss: 2.2953\tAccuracy: 34.99%\n",
      "[7] Train Loss: 2.2945\tTest Loss: 2.2937\tAccuracy: 38.65%\n",
      "[8] Train Loss: 2.2928\tTest Loss: 2.2920\tAccuracy: 38.93%\n",
      "[9] Train Loss: 2.2910\tTest Loss: 2.2901\tAccuracy: 40.46%\n",
      "[10] Train Loss: 2.2891\tTest Loss: 2.2881\tAccuracy: 45.94%\n",
      "[11] Train Loss: 2.2870\tTest Loss: 2.2859\tAccuracy: 52.36%\n",
      "[12] Train Loss: 2.2846\tTest Loss: 2.2835\tAccuracy: 49.05%\n",
      "[13] Train Loss: 2.2820\tTest Loss: 2.2807\tAccuracy: 48.12%\n",
      "[14] Train Loss: 2.2791\tTest Loss: 2.2776\tAccuracy: 44.15%\n",
      "[15] Train Loss: 2.2758\tTest Loss: 2.2741\tAccuracy: 45.72%\n",
      "[16] Train Loss: 2.2720\tTest Loss: 2.2700\tAccuracy: 47.14%\n",
      "[17] Train Loss: 2.2675\tTest Loss: 2.2653\tAccuracy: 43.13%\n",
      "[18] Train Loss: 2.2624\tTest Loss: 2.2597\tAccuracy: 44.10%\n",
      "[19] Train Loss: 2.2564\tTest Loss: 2.2532\tAccuracy: 51.16%\n",
      "[20] Train Loss: 2.2493\tTest Loss: 2.2456\tAccuracy: 51.01%\n",
      "[21] Train Loss: 2.2408\tTest Loss: 2.2363\tAccuracy: 48.71%\n",
      "[22] Train Loss: 2.2306\tTest Loss: 2.2254\tAccuracy: 42.83%\n",
      "[23] Train Loss: 2.2185\tTest Loss: 2.2120\tAccuracy: 42.38%\n",
      "[24] Train Loss: 2.2039\tTest Loss: 2.1963\tAccuracy: 47.12%\n",
      "[25] Train Loss: 2.1863\tTest Loss: 2.1770\tAccuracy: 42.21%\n",
      "[26] Train Loss: 2.1652\tTest Loss: 2.1542\tAccuracy: 39.95%\n",
      "[27] Train Loss: 2.1405\tTest Loss: 2.1274\tAccuracy: 39.73%\n",
      "[28] Train Loss: 2.1117\tTest Loss: 2.0970\tAccuracy: 36.41%\n",
      "[29] Train Loss: 2.0790\tTest Loss: 2.0626\tAccuracy: 36.22%\n",
      "[30] Train Loss: 2.0431\tTest Loss: 2.0254\tAccuracy: 34.60%\n"
     ]
    }
   ],
   "source": [
    "print('Sigmoid')\n",
    "criterion = nn.CrossEntropyLoss()\n",
    "optimizer = optim.SGD(model3.parameters(), lr = 0.01)\n",
    "for epoch in range(1, EPOCHS + 1):\n",
    "    train_loss = train(model3, train_loader, optimizer)\n",
    "    test_loss, test_accuracy = evaluate(model3, test_loader)\n",
    "    \n",
    "    print('[{}] Train Loss: {:.4f}\\tTest Loss: {:.4f}\\tAccuracy: {:.2f}%'.format(\n",
    "          epoch, train_loss, test_loss, test_accuracy))"
   ]
  }
 ],
 "metadata": {
  "accelerator": "TPU",
  "colab": {
   "authorship_tag": "ABX9TyNF5giwMqsMPOFTx8uwAjqp",
   "collapsed_sections": [],
   "name": "220217_정규세션_DL_과제.ipynb",
   "provenance": []
  },
  "kernelspec": {
   "display_name": "Python 3",
   "language": "python",
   "name": "python3"
  },
  "language_info": {
   "codemirror_mode": {
    "name": "ipython",
    "version": 3
   },
   "file_extension": ".py",
   "mimetype": "text/x-python",
   "name": "python",
   "nbconvert_exporter": "python",
   "pygments_lexer": "ipython3",
   "version": "3.8.8"
  },
  "widgets": {
   "application/vnd.jupyter.widget-state+json": {
    "008f8425429e4afb83b68dbe517ad3f6": {
     "model_module": "@jupyter-widgets/base",
     "model_module_version": "1.2.0",
     "model_name": "LayoutModel",
     "state": {
      "_model_module": "@jupyter-widgets/base",
      "_model_module_version": "1.2.0",
      "_model_name": "LayoutModel",
      "_view_count": null,
      "_view_module": "@jupyter-widgets/base",
      "_view_module_version": "1.2.0",
      "_view_name": "LayoutView",
      "align_content": null,
      "align_items": null,
      "align_self": null,
      "border": null,
      "bottom": null,
      "display": null,
      "flex": null,
      "flex_flow": null,
      "grid_area": null,
      "grid_auto_columns": null,
      "grid_auto_flow": null,
      "grid_auto_rows": null,
      "grid_column": null,
      "grid_gap": null,
      "grid_row": null,
      "grid_template_areas": null,
      "grid_template_columns": null,
      "grid_template_rows": null,
      "height": null,
      "justify_content": null,
      "justify_items": null,
      "left": null,
      "margin": null,
      "max_height": null,
      "max_width": null,
      "min_height": null,
      "min_width": null,
      "object_fit": null,
      "object_position": null,
      "order": null,
      "overflow": null,
      "overflow_x": null,
      "overflow_y": null,
      "padding": null,
      "right": null,
      "top": null,
      "visibility": null,
      "width": null
     }
    },
    "0a910892231845fab6a511655168b9eb": {
     "model_module": "@jupyter-widgets/base",
     "model_module_version": "1.2.0",
     "model_name": "LayoutModel",
     "state": {
      "_model_module": "@jupyter-widgets/base",
      "_model_module_version": "1.2.0",
      "_model_name": "LayoutModel",
      "_view_count": null,
      "_view_module": "@jupyter-widgets/base",
      "_view_module_version": "1.2.0",
      "_view_name": "LayoutView",
      "align_content": null,
      "align_items": null,
      "align_self": null,
      "border": null,
      "bottom": null,
      "display": null,
      "flex": null,
      "flex_flow": null,
      "grid_area": null,
      "grid_auto_columns": null,
      "grid_auto_flow": null,
      "grid_auto_rows": null,
      "grid_column": null,
      "grid_gap": null,
      "grid_row": null,
      "grid_template_areas": null,
      "grid_template_columns": null,
      "grid_template_rows": null,
      "height": null,
      "justify_content": null,
      "justify_items": null,
      "left": null,
      "margin": null,
      "max_height": null,
      "max_width": null,
      "min_height": null,
      "min_width": null,
      "object_fit": null,
      "object_position": null,
      "order": null,
      "overflow": null,
      "overflow_x": null,
      "overflow_y": null,
      "padding": null,
      "right": null,
      "top": null,
      "visibility": null,
      "width": null
     }
    },
    "0caa6ff92e354ccbae11bda92f0a4b7c": {
     "model_module": "@jupyter-widgets/base",
     "model_module_version": "1.2.0",
     "model_name": "LayoutModel",
     "state": {
      "_model_module": "@jupyter-widgets/base",
      "_model_module_version": "1.2.0",
      "_model_name": "LayoutModel",
      "_view_count": null,
      "_view_module": "@jupyter-widgets/base",
      "_view_module_version": "1.2.0",
      "_view_name": "LayoutView",
      "align_content": null,
      "align_items": null,
      "align_self": null,
      "border": null,
      "bottom": null,
      "display": null,
      "flex": null,
      "flex_flow": null,
      "grid_area": null,
      "grid_auto_columns": null,
      "grid_auto_flow": null,
      "grid_auto_rows": null,
      "grid_column": null,
      "grid_gap": null,
      "grid_row": null,
      "grid_template_areas": null,
      "grid_template_columns": null,
      "grid_template_rows": null,
      "height": null,
      "justify_content": null,
      "justify_items": null,
      "left": null,
      "margin": null,
      "max_height": null,
      "max_width": null,
      "min_height": null,
      "min_width": null,
      "object_fit": null,
      "object_position": null,
      "order": null,
      "overflow": null,
      "overflow_x": null,
      "overflow_y": null,
      "padding": null,
      "right": null,
      "top": null,
      "visibility": null,
      "width": null
     }
    },
    "0eadb5e0fe62437eae9d9a215bb5f63c": {
     "model_module": "@jupyter-widgets/controls",
     "model_module_version": "1.5.0",
     "model_name": "HBoxModel",
     "state": {
      "_dom_classes": [],
      "_model_module": "@jupyter-widgets/controls",
      "_model_module_version": "1.5.0",
      "_model_name": "HBoxModel",
      "_view_count": null,
      "_view_module": "@jupyter-widgets/controls",
      "_view_module_version": "1.5.0",
      "_view_name": "HBoxView",
      "box_style": "",
      "children": [
       "IPY_MODEL_2bb284c069e74c95b7b23f86b7cf7d3e",
       "IPY_MODEL_bb146fd8af3845048325cd57919b6901",
       "IPY_MODEL_c4d6fb7198b446588f46c04bb9532840"
      ],
      "layout": "IPY_MODEL_36c50b9098c1443f8ece84ccb28f2b2e"
     }
    },
    "10c88b02aef248878b347d72510c0609": {
     "model_module": "@jupyter-widgets/controls",
     "model_module_version": "1.5.0",
     "model_name": "HTMLModel",
     "state": {
      "_dom_classes": [],
      "_model_module": "@jupyter-widgets/controls",
      "_model_module_version": "1.5.0",
      "_model_name": "HTMLModel",
      "_view_count": null,
      "_view_module": "@jupyter-widgets/controls",
      "_view_module_version": "1.5.0",
      "_view_name": "HTMLView",
      "description": "",
      "description_tooltip": null,
      "layout": "IPY_MODEL_bedb8a195dc94bb7bcd5dbfb961df3be",
      "placeholder": "​",
      "style": "IPY_MODEL_ed83e4d86c7f444891e41dd45977666a",
      "value": " 6144/? [00:00&lt;00:00, 6632.03it/s]"
     }
    },
    "155fa571b90b492597d952d413d994e0": {
     "model_module": "@jupyter-widgets/base",
     "model_module_version": "1.2.0",
     "model_name": "LayoutModel",
     "state": {
      "_model_module": "@jupyter-widgets/base",
      "_model_module_version": "1.2.0",
      "_model_name": "LayoutModel",
      "_view_count": null,
      "_view_module": "@jupyter-widgets/base",
      "_view_module_version": "1.2.0",
      "_view_name": "LayoutView",
      "align_content": null,
      "align_items": null,
      "align_self": null,
      "border": null,
      "bottom": null,
      "display": null,
      "flex": null,
      "flex_flow": null,
      "grid_area": null,
      "grid_auto_columns": null,
      "grid_auto_flow": null,
      "grid_auto_rows": null,
      "grid_column": null,
      "grid_gap": null,
      "grid_row": null,
      "grid_template_areas": null,
      "grid_template_columns": null,
      "grid_template_rows": null,
      "height": null,
      "justify_content": null,
      "justify_items": null,
      "left": null,
      "margin": null,
      "max_height": null,
      "max_width": null,
      "min_height": null,
      "min_width": null,
      "object_fit": null,
      "object_position": null,
      "order": null,
      "overflow": null,
      "overflow_x": null,
      "overflow_y": null,
      "padding": null,
      "right": null,
      "top": null,
      "visibility": null,
      "width": null
     }
    },
    "1dfb13cf97434826b21f22b79c8d90a5": {
     "model_module": "@jupyter-widgets/controls",
     "model_module_version": "1.5.0",
     "model_name": "DescriptionStyleModel",
     "state": {
      "_model_module": "@jupyter-widgets/controls",
      "_model_module_version": "1.5.0",
      "_model_name": "DescriptionStyleModel",
      "_view_count": null,
      "_view_module": "@jupyter-widgets/base",
      "_view_module_version": "1.2.0",
      "_view_name": "StyleView",
      "description_width": ""
     }
    },
    "1fc769f342054de5a33c992944fb0734": {
     "model_module": "@jupyter-widgets/base",
     "model_module_version": "1.2.0",
     "model_name": "LayoutModel",
     "state": {
      "_model_module": "@jupyter-widgets/base",
      "_model_module_version": "1.2.0",
      "_model_name": "LayoutModel",
      "_view_count": null,
      "_view_module": "@jupyter-widgets/base",
      "_view_module_version": "1.2.0",
      "_view_name": "LayoutView",
      "align_content": null,
      "align_items": null,
      "align_self": null,
      "border": null,
      "bottom": null,
      "display": null,
      "flex": null,
      "flex_flow": null,
      "grid_area": null,
      "grid_auto_columns": null,
      "grid_auto_flow": null,
      "grid_auto_rows": null,
      "grid_column": null,
      "grid_gap": null,
      "grid_row": null,
      "grid_template_areas": null,
      "grid_template_columns": null,
      "grid_template_rows": null,
      "height": null,
      "justify_content": null,
      "justify_items": null,
      "left": null,
      "margin": null,
      "max_height": null,
      "max_width": null,
      "min_height": null,
      "min_width": null,
      "object_fit": null,
      "object_position": null,
      "order": null,
      "overflow": null,
      "overflow_x": null,
      "overflow_y": null,
      "padding": null,
      "right": null,
      "top": null,
      "visibility": null,
      "width": null
     }
    },
    "23ba4818a45b4dc19c0a9a28df23d010": {
     "model_module": "@jupyter-widgets/controls",
     "model_module_version": "1.5.0",
     "model_name": "DescriptionStyleModel",
     "state": {
      "_model_module": "@jupyter-widgets/controls",
      "_model_module_version": "1.5.0",
      "_model_name": "DescriptionStyleModel",
      "_view_count": null,
      "_view_module": "@jupyter-widgets/base",
      "_view_module_version": "1.2.0",
      "_view_name": "StyleView",
      "description_width": ""
     }
    },
    "2bb284c069e74c95b7b23f86b7cf7d3e": {
     "model_module": "@jupyter-widgets/controls",
     "model_module_version": "1.5.0",
     "model_name": "HTMLModel",
     "state": {
      "_dom_classes": [],
      "_model_module": "@jupyter-widgets/controls",
      "_model_module_version": "1.5.0",
      "_model_name": "HTMLModel",
      "_view_count": null,
      "_view_module": "@jupyter-widgets/controls",
      "_view_module_version": "1.5.0",
      "_view_name": "HTMLView",
      "description": "",
      "description_tooltip": null,
      "layout": "IPY_MODEL_3f65368e574a4f8d8aa3bd3fc5dd1d4b",
      "placeholder": "​",
      "style": "IPY_MODEL_6396176bdee44c8e9a73dcbec951f5ca",
      "value": ""
     }
    },
    "36c50b9098c1443f8ece84ccb28f2b2e": {
     "model_module": "@jupyter-widgets/base",
     "model_module_version": "1.2.0",
     "model_name": "LayoutModel",
     "state": {
      "_model_module": "@jupyter-widgets/base",
      "_model_module_version": "1.2.0",
      "_model_name": "LayoutModel",
      "_view_count": null,
      "_view_module": "@jupyter-widgets/base",
      "_view_module_version": "1.2.0",
      "_view_name": "LayoutView",
      "align_content": null,
      "align_items": null,
      "align_self": null,
      "border": null,
      "bottom": null,
      "display": null,
      "flex": null,
      "flex_flow": null,
      "grid_area": null,
      "grid_auto_columns": null,
      "grid_auto_flow": null,
      "grid_auto_rows": null,
      "grid_column": null,
      "grid_gap": null,
      "grid_row": null,
      "grid_template_areas": null,
      "grid_template_columns": null,
      "grid_template_rows": null,
      "height": null,
      "justify_content": null,
      "justify_items": null,
      "left": null,
      "margin": null,
      "max_height": null,
      "max_width": null,
      "min_height": null,
      "min_width": null,
      "object_fit": null,
      "object_position": null,
      "order": null,
      "overflow": null,
      "overflow_x": null,
      "overflow_y": null,
      "padding": null,
      "right": null,
      "top": null,
      "visibility": null,
      "width": null
     }
    },
    "3a3c7145c4354b6da66305c1a7815e7a": {
     "model_module": "@jupyter-widgets/controls",
     "model_module_version": "1.5.0",
     "model_name": "ProgressStyleModel",
     "state": {
      "_model_module": "@jupyter-widgets/controls",
      "_model_module_version": "1.5.0",
      "_model_name": "ProgressStyleModel",
      "_view_count": null,
      "_view_module": "@jupyter-widgets/base",
      "_view_module_version": "1.2.0",
      "_view_name": "StyleView",
      "bar_color": null,
      "description_width": ""
     }
    },
    "3b555028dce242a2b608c95a7153d3c4": {
     "model_module": "@jupyter-widgets/base",
     "model_module_version": "1.2.0",
     "model_name": "LayoutModel",
     "state": {
      "_model_module": "@jupyter-widgets/base",
      "_model_module_version": "1.2.0",
      "_model_name": "LayoutModel",
      "_view_count": null,
      "_view_module": "@jupyter-widgets/base",
      "_view_module_version": "1.2.0",
      "_view_name": "LayoutView",
      "align_content": null,
      "align_items": null,
      "align_self": null,
      "border": null,
      "bottom": null,
      "display": null,
      "flex": null,
      "flex_flow": null,
      "grid_area": null,
      "grid_auto_columns": null,
      "grid_auto_flow": null,
      "grid_auto_rows": null,
      "grid_column": null,
      "grid_gap": null,
      "grid_row": null,
      "grid_template_areas": null,
      "grid_template_columns": null,
      "grid_template_rows": null,
      "height": null,
      "justify_content": null,
      "justify_items": null,
      "left": null,
      "margin": null,
      "max_height": null,
      "max_width": null,
      "min_height": null,
      "min_width": null,
      "object_fit": null,
      "object_position": null,
      "order": null,
      "overflow": null,
      "overflow_x": null,
      "overflow_y": null,
      "padding": null,
      "right": null,
      "top": null,
      "visibility": null,
      "width": null
     }
    },
    "3f65368e574a4f8d8aa3bd3fc5dd1d4b": {
     "model_module": "@jupyter-widgets/base",
     "model_module_version": "1.2.0",
     "model_name": "LayoutModel",
     "state": {
      "_model_module": "@jupyter-widgets/base",
      "_model_module_version": "1.2.0",
      "_model_name": "LayoutModel",
      "_view_count": null,
      "_view_module": "@jupyter-widgets/base",
      "_view_module_version": "1.2.0",
      "_view_name": "LayoutView",
      "align_content": null,
      "align_items": null,
      "align_self": null,
      "border": null,
      "bottom": null,
      "display": null,
      "flex": null,
      "flex_flow": null,
      "grid_area": null,
      "grid_auto_columns": null,
      "grid_auto_flow": null,
      "grid_auto_rows": null,
      "grid_column": null,
      "grid_gap": null,
      "grid_row": null,
      "grid_template_areas": null,
      "grid_template_columns": null,
      "grid_template_rows": null,
      "height": null,
      "justify_content": null,
      "justify_items": null,
      "left": null,
      "margin": null,
      "max_height": null,
      "max_width": null,
      "min_height": null,
      "min_width": null,
      "object_fit": null,
      "object_position": null,
      "order": null,
      "overflow": null,
      "overflow_x": null,
      "overflow_y": null,
      "padding": null,
      "right": null,
      "top": null,
      "visibility": null,
      "width": null
     }
    },
    "460f45a4c7b540e69227d263abe5aa81": {
     "model_module": "@jupyter-widgets/controls",
     "model_module_version": "1.5.0",
     "model_name": "HTMLModel",
     "state": {
      "_dom_classes": [],
      "_model_module": "@jupyter-widgets/controls",
      "_model_module_version": "1.5.0",
      "_model_name": "HTMLModel",
      "_view_count": null,
      "_view_module": "@jupyter-widgets/controls",
      "_view_module_version": "1.5.0",
      "_view_name": "HTMLView",
      "description": "",
      "description_tooltip": null,
      "layout": "IPY_MODEL_f3775f0aa1884dc38fae4b63e9acf572",
      "placeholder": "​",
      "style": "IPY_MODEL_1dfb13cf97434826b21f22b79c8d90a5",
      "value": " 29696/? [00:00&lt;00:00, 124555.12it/s]"
     }
    },
    "4b5fe1fb848b453ca311f55a84f6e408": {
     "model_module": "@jupyter-widgets/controls",
     "model_module_version": "1.5.0",
     "model_name": "DescriptionStyleModel",
     "state": {
      "_model_module": "@jupyter-widgets/controls",
      "_model_module_version": "1.5.0",
      "_model_name": "DescriptionStyleModel",
      "_view_count": null,
      "_view_module": "@jupyter-widgets/base",
      "_view_module_version": "1.2.0",
      "_view_name": "StyleView",
      "description_width": ""
     }
    },
    "4dad14099984406d812ee924a0c4312f": {
     "model_module": "@jupyter-widgets/controls",
     "model_module_version": "1.5.0",
     "model_name": "HBoxModel",
     "state": {
      "_dom_classes": [],
      "_model_module": "@jupyter-widgets/controls",
      "_model_module_version": "1.5.0",
      "_model_name": "HBoxModel",
      "_view_count": null,
      "_view_module": "@jupyter-widgets/controls",
      "_view_module_version": "1.5.0",
      "_view_name": "HBoxView",
      "box_style": "",
      "children": [
       "IPY_MODEL_6b7916d9fdb54ff787a517613f865b68",
       "IPY_MODEL_c3e70c23c089498f962cca49e5bce03a",
       "IPY_MODEL_f6224c93d49e48fba732c4e1d06cf1de"
      ],
      "layout": "IPY_MODEL_a19cc2c2abb34f1787de0bc54d40694a"
     }
    },
    "55a7e89d37834be88dddac6a44206c20": {
     "model_module": "@jupyter-widgets/controls",
     "model_module_version": "1.5.0",
     "model_name": "ProgressStyleModel",
     "state": {
      "_model_module": "@jupyter-widgets/controls",
      "_model_module_version": "1.5.0",
      "_model_name": "ProgressStyleModel",
      "_view_count": null,
      "_view_module": "@jupyter-widgets/base",
      "_view_module_version": "1.2.0",
      "_view_name": "StyleView",
      "bar_color": null,
      "description_width": ""
     }
    },
    "5fe5438ad699415ca17b1b79f1fe34ae": {
     "model_module": "@jupyter-widgets/controls",
     "model_module_version": "1.5.0",
     "model_name": "HBoxModel",
     "state": {
      "_dom_classes": [],
      "_model_module": "@jupyter-widgets/controls",
      "_model_module_version": "1.5.0",
      "_model_name": "HBoxModel",
      "_view_count": null,
      "_view_module": "@jupyter-widgets/controls",
      "_view_module_version": "1.5.0",
      "_view_name": "HBoxView",
      "box_style": "",
      "children": [
       "IPY_MODEL_adb9cdb99c754b7593cfe5eacaddb09a",
       "IPY_MODEL_cbad32fc634b4948b66ff71132dc6bc1",
       "IPY_MODEL_460f45a4c7b540e69227d263abe5aa81"
      ],
      "layout": "IPY_MODEL_f4cf3f0d4321428bae97395922ed6e22"
     }
    },
    "6396176bdee44c8e9a73dcbec951f5ca": {
     "model_module": "@jupyter-widgets/controls",
     "model_module_version": "1.5.0",
     "model_name": "DescriptionStyleModel",
     "state": {
      "_model_module": "@jupyter-widgets/controls",
      "_model_module_version": "1.5.0",
      "_model_name": "DescriptionStyleModel",
      "_view_count": null,
      "_view_module": "@jupyter-widgets/base",
      "_view_module_version": "1.2.0",
      "_view_name": "StyleView",
      "description_width": ""
     }
    },
    "6b7916d9fdb54ff787a517613f865b68": {
     "model_module": "@jupyter-widgets/controls",
     "model_module_version": "1.5.0",
     "model_name": "HTMLModel",
     "state": {
      "_dom_classes": [],
      "_model_module": "@jupyter-widgets/controls",
      "_model_module_version": "1.5.0",
      "_model_name": "HTMLModel",
      "_view_count": null,
      "_view_module": "@jupyter-widgets/controls",
      "_view_module_version": "1.5.0",
      "_view_name": "HTMLView",
      "description": "",
      "description_tooltip": null,
      "layout": "IPY_MODEL_abe2c54ee8594a57a4d3d61daa821cd0",
      "placeholder": "​",
      "style": "IPY_MODEL_23ba4818a45b4dc19c0a9a28df23d010",
      "value": ""
     }
    },
    "75ee328deee646c383f08f7ee6665df3": {
     "model_module": "@jupyter-widgets/controls",
     "model_module_version": "1.5.0",
     "model_name": "DescriptionStyleModel",
     "state": {
      "_model_module": "@jupyter-widgets/controls",
      "_model_module_version": "1.5.0",
      "_model_name": "DescriptionStyleModel",
      "_view_count": null,
      "_view_module": "@jupyter-widgets/base",
      "_view_module_version": "1.2.0",
      "_view_name": "StyleView",
      "description_width": ""
     }
    },
    "7f96d9717a56403892368277f1670eb3": {
     "model_module": "@jupyter-widgets/controls",
     "model_module_version": "1.5.0",
     "model_name": "DescriptionStyleModel",
     "state": {
      "_model_module": "@jupyter-widgets/controls",
      "_model_module_version": "1.5.0",
      "_model_name": "DescriptionStyleModel",
      "_view_count": null,
      "_view_module": "@jupyter-widgets/base",
      "_view_module_version": "1.2.0",
      "_view_name": "StyleView",
      "description_width": ""
     }
    },
    "98d91cf1e05f41419047a6e47c2caef5": {
     "model_module": "@jupyter-widgets/controls",
     "model_module_version": "1.5.0",
     "model_name": "HBoxModel",
     "state": {
      "_dom_classes": [],
      "_model_module": "@jupyter-widgets/controls",
      "_model_module_version": "1.5.0",
      "_model_name": "HBoxModel",
      "_view_count": null,
      "_view_module": "@jupyter-widgets/controls",
      "_view_module_version": "1.5.0",
      "_view_name": "HBoxView",
      "box_style": "",
      "children": [
       "IPY_MODEL_aabb82dae6ca4af7873f672ee732196e",
       "IPY_MODEL_df34be55638d400d81196641a4ed5bf7",
       "IPY_MODEL_10c88b02aef248878b347d72510c0609"
      ],
      "layout": "IPY_MODEL_ec32ea3b9a604597a3b21629a8a49406"
     }
    },
    "9ab12aa7c80f458794cafa9a3d562d19": {
     "model_module": "@jupyter-widgets/controls",
     "model_module_version": "1.5.0",
     "model_name": "DescriptionStyleModel",
     "state": {
      "_model_module": "@jupyter-widgets/controls",
      "_model_module_version": "1.5.0",
      "_model_name": "DescriptionStyleModel",
      "_view_count": null,
      "_view_module": "@jupyter-widgets/base",
      "_view_module_version": "1.2.0",
      "_view_name": "StyleView",
      "description_width": ""
     }
    },
    "9fee29b9efc54f859aeec9209523665b": {
     "model_module": "@jupyter-widgets/controls",
     "model_module_version": "1.5.0",
     "model_name": "ProgressStyleModel",
     "state": {
      "_model_module": "@jupyter-widgets/controls",
      "_model_module_version": "1.5.0",
      "_model_name": "ProgressStyleModel",
      "_view_count": null,
      "_view_module": "@jupyter-widgets/base",
      "_view_module_version": "1.2.0",
      "_view_name": "StyleView",
      "bar_color": null,
      "description_width": ""
     }
    },
    "a19cc2c2abb34f1787de0bc54d40694a": {
     "model_module": "@jupyter-widgets/base",
     "model_module_version": "1.2.0",
     "model_name": "LayoutModel",
     "state": {
      "_model_module": "@jupyter-widgets/base",
      "_model_module_version": "1.2.0",
      "_model_name": "LayoutModel",
      "_view_count": null,
      "_view_module": "@jupyter-widgets/base",
      "_view_module_version": "1.2.0",
      "_view_name": "LayoutView",
      "align_content": null,
      "align_items": null,
      "align_self": null,
      "border": null,
      "bottom": null,
      "display": null,
      "flex": null,
      "flex_flow": null,
      "grid_area": null,
      "grid_auto_columns": null,
      "grid_auto_flow": null,
      "grid_auto_rows": null,
      "grid_column": null,
      "grid_gap": null,
      "grid_row": null,
      "grid_template_areas": null,
      "grid_template_columns": null,
      "grid_template_rows": null,
      "height": null,
      "justify_content": null,
      "justify_items": null,
      "left": null,
      "margin": null,
      "max_height": null,
      "max_width": null,
      "min_height": null,
      "min_width": null,
      "object_fit": null,
      "object_position": null,
      "order": null,
      "overflow": null,
      "overflow_x": null,
      "overflow_y": null,
      "padding": null,
      "right": null,
      "top": null,
      "visibility": null,
      "width": null
     }
    },
    "aabb82dae6ca4af7873f672ee732196e": {
     "model_module": "@jupyter-widgets/controls",
     "model_module_version": "1.5.0",
     "model_name": "HTMLModel",
     "state": {
      "_dom_classes": [],
      "_model_module": "@jupyter-widgets/controls",
      "_model_module_version": "1.5.0",
      "_model_name": "HTMLModel",
      "_view_count": null,
      "_view_module": "@jupyter-widgets/controls",
      "_view_module_version": "1.5.0",
      "_view_name": "HTMLView",
      "description": "",
      "description_tooltip": null,
      "layout": "IPY_MODEL_008f8425429e4afb83b68dbe517ad3f6",
      "placeholder": "​",
      "style": "IPY_MODEL_75ee328deee646c383f08f7ee6665df3",
      "value": ""
     }
    },
    "abe2c54ee8594a57a4d3d61daa821cd0": {
     "model_module": "@jupyter-widgets/base",
     "model_module_version": "1.2.0",
     "model_name": "LayoutModel",
     "state": {
      "_model_module": "@jupyter-widgets/base",
      "_model_module_version": "1.2.0",
      "_model_name": "LayoutModel",
      "_view_count": null,
      "_view_module": "@jupyter-widgets/base",
      "_view_module_version": "1.2.0",
      "_view_name": "LayoutView",
      "align_content": null,
      "align_items": null,
      "align_self": null,
      "border": null,
      "bottom": null,
      "display": null,
      "flex": null,
      "flex_flow": null,
      "grid_area": null,
      "grid_auto_columns": null,
      "grid_auto_flow": null,
      "grid_auto_rows": null,
      "grid_column": null,
      "grid_gap": null,
      "grid_row": null,
      "grid_template_areas": null,
      "grid_template_columns": null,
      "grid_template_rows": null,
      "height": null,
      "justify_content": null,
      "justify_items": null,
      "left": null,
      "margin": null,
      "max_height": null,
      "max_width": null,
      "min_height": null,
      "min_width": null,
      "object_fit": null,
      "object_position": null,
      "order": null,
      "overflow": null,
      "overflow_x": null,
      "overflow_y": null,
      "padding": null,
      "right": null,
      "top": null,
      "visibility": null,
      "width": null
     }
    },
    "adb9cdb99c754b7593cfe5eacaddb09a": {
     "model_module": "@jupyter-widgets/controls",
     "model_module_version": "1.5.0",
     "model_name": "HTMLModel",
     "state": {
      "_dom_classes": [],
      "_model_module": "@jupyter-widgets/controls",
      "_model_module_version": "1.5.0",
      "_model_name": "HTMLModel",
      "_view_count": null,
      "_view_module": "@jupyter-widgets/controls",
      "_view_module_version": "1.5.0",
      "_view_name": "HTMLView",
      "description": "",
      "description_tooltip": null,
      "layout": "IPY_MODEL_3b555028dce242a2b608c95a7153d3c4",
      "placeholder": "​",
      "style": "IPY_MODEL_7f96d9717a56403892368277f1670eb3",
      "value": ""
     }
    },
    "bb146fd8af3845048325cd57919b6901": {
     "model_module": "@jupyter-widgets/controls",
     "model_module_version": "1.5.0",
     "model_name": "FloatProgressModel",
     "state": {
      "_dom_classes": [],
      "_model_module": "@jupyter-widgets/controls",
      "_model_module_version": "1.5.0",
      "_model_name": "FloatProgressModel",
      "_view_count": null,
      "_view_module": "@jupyter-widgets/controls",
      "_view_module_version": "1.5.0",
      "_view_name": "ProgressView",
      "bar_style": "success",
      "description": "",
      "description_tooltip": null,
      "layout": "IPY_MODEL_ce7c698379f64f2f8dd2dac2c6398003",
      "max": 26421880,
      "min": 0,
      "orientation": "horizontal",
      "style": "IPY_MODEL_3a3c7145c4354b6da66305c1a7815e7a",
      "value": 26421880
     }
    },
    "bedb8a195dc94bb7bcd5dbfb961df3be": {
     "model_module": "@jupyter-widgets/base",
     "model_module_version": "1.2.0",
     "model_name": "LayoutModel",
     "state": {
      "_model_module": "@jupyter-widgets/base",
      "_model_module_version": "1.2.0",
      "_model_name": "LayoutModel",
      "_view_count": null,
      "_view_module": "@jupyter-widgets/base",
      "_view_module_version": "1.2.0",
      "_view_name": "LayoutView",
      "align_content": null,
      "align_items": null,
      "align_self": null,
      "border": null,
      "bottom": null,
      "display": null,
      "flex": null,
      "flex_flow": null,
      "grid_area": null,
      "grid_auto_columns": null,
      "grid_auto_flow": null,
      "grid_auto_rows": null,
      "grid_column": null,
      "grid_gap": null,
      "grid_row": null,
      "grid_template_areas": null,
      "grid_template_columns": null,
      "grid_template_rows": null,
      "height": null,
      "justify_content": null,
      "justify_items": null,
      "left": null,
      "margin": null,
      "max_height": null,
      "max_width": null,
      "min_height": null,
      "min_width": null,
      "object_fit": null,
      "object_position": null,
      "order": null,
      "overflow": null,
      "overflow_x": null,
      "overflow_y": null,
      "padding": null,
      "right": null,
      "top": null,
      "visibility": null,
      "width": null
     }
    },
    "c3e70c23c089498f962cca49e5bce03a": {
     "model_module": "@jupyter-widgets/controls",
     "model_module_version": "1.5.0",
     "model_name": "FloatProgressModel",
     "state": {
      "_dom_classes": [],
      "_model_module": "@jupyter-widgets/controls",
      "_model_module_version": "1.5.0",
      "_model_name": "FloatProgressModel",
      "_view_count": null,
      "_view_module": "@jupyter-widgets/controls",
      "_view_module_version": "1.5.0",
      "_view_name": "ProgressView",
      "bar_style": "success",
      "description": "",
      "description_tooltip": null,
      "layout": "IPY_MODEL_eb2e6fedd1ce4609bde90566022f2bc4",
      "max": 4422102,
      "min": 0,
      "orientation": "horizontal",
      "style": "IPY_MODEL_55a7e89d37834be88dddac6a44206c20",
      "value": 4422102
     }
    },
    "c4d6fb7198b446588f46c04bb9532840": {
     "model_module": "@jupyter-widgets/controls",
     "model_module_version": "1.5.0",
     "model_name": "HTMLModel",
     "state": {
      "_dom_classes": [],
      "_model_module": "@jupyter-widgets/controls",
      "_model_module_version": "1.5.0",
      "_model_name": "HTMLModel",
      "_view_count": null,
      "_view_module": "@jupyter-widgets/controls",
      "_view_module_version": "1.5.0",
      "_view_name": "HTMLView",
      "description": "",
      "description_tooltip": null,
      "layout": "IPY_MODEL_0caa6ff92e354ccbae11bda92f0a4b7c",
      "placeholder": "​",
      "style": "IPY_MODEL_4b5fe1fb848b453ca311f55a84f6e408",
      "value": " 26422272/? [00:01&lt;00:00, 22259816.59it/s]"
     }
    },
    "cbad32fc634b4948b66ff71132dc6bc1": {
     "model_module": "@jupyter-widgets/controls",
     "model_module_version": "1.5.0",
     "model_name": "FloatProgressModel",
     "state": {
      "_dom_classes": [],
      "_model_module": "@jupyter-widgets/controls",
      "_model_module_version": "1.5.0",
      "_model_name": "FloatProgressModel",
      "_view_count": null,
      "_view_module": "@jupyter-widgets/controls",
      "_view_module_version": "1.5.0",
      "_view_name": "ProgressView",
      "bar_style": "success",
      "description": "",
      "description_tooltip": null,
      "layout": "IPY_MODEL_0a910892231845fab6a511655168b9eb",
      "max": 29515,
      "min": 0,
      "orientation": "horizontal",
      "style": "IPY_MODEL_9fee29b9efc54f859aeec9209523665b",
      "value": 29515
     }
    },
    "ce7c698379f64f2f8dd2dac2c6398003": {
     "model_module": "@jupyter-widgets/base",
     "model_module_version": "1.2.0",
     "model_name": "LayoutModel",
     "state": {
      "_model_module": "@jupyter-widgets/base",
      "_model_module_version": "1.2.0",
      "_model_name": "LayoutModel",
      "_view_count": null,
      "_view_module": "@jupyter-widgets/base",
      "_view_module_version": "1.2.0",
      "_view_name": "LayoutView",
      "align_content": null,
      "align_items": null,
      "align_self": null,
      "border": null,
      "bottom": null,
      "display": null,
      "flex": null,
      "flex_flow": null,
      "grid_area": null,
      "grid_auto_columns": null,
      "grid_auto_flow": null,
      "grid_auto_rows": null,
      "grid_column": null,
      "grid_gap": null,
      "grid_row": null,
      "grid_template_areas": null,
      "grid_template_columns": null,
      "grid_template_rows": null,
      "height": null,
      "justify_content": null,
      "justify_items": null,
      "left": null,
      "margin": null,
      "max_height": null,
      "max_width": null,
      "min_height": null,
      "min_width": null,
      "object_fit": null,
      "object_position": null,
      "order": null,
      "overflow": null,
      "overflow_x": null,
      "overflow_y": null,
      "padding": null,
      "right": null,
      "top": null,
      "visibility": null,
      "width": null
     }
    },
    "defd559128b34e7785b9d1c09a87a326": {
     "model_module": "@jupyter-widgets/controls",
     "model_module_version": "1.5.0",
     "model_name": "ProgressStyleModel",
     "state": {
      "_model_module": "@jupyter-widgets/controls",
      "_model_module_version": "1.5.0",
      "_model_name": "ProgressStyleModel",
      "_view_count": null,
      "_view_module": "@jupyter-widgets/base",
      "_view_module_version": "1.2.0",
      "_view_name": "StyleView",
      "bar_color": null,
      "description_width": ""
     }
    },
    "df34be55638d400d81196641a4ed5bf7": {
     "model_module": "@jupyter-widgets/controls",
     "model_module_version": "1.5.0",
     "model_name": "FloatProgressModel",
     "state": {
      "_dom_classes": [],
      "_model_module": "@jupyter-widgets/controls",
      "_model_module_version": "1.5.0",
      "_model_name": "FloatProgressModel",
      "_view_count": null,
      "_view_module": "@jupyter-widgets/controls",
      "_view_module_version": "1.5.0",
      "_view_name": "ProgressView",
      "bar_style": "success",
      "description": "",
      "description_tooltip": null,
      "layout": "IPY_MODEL_155fa571b90b492597d952d413d994e0",
      "max": 5148,
      "min": 0,
      "orientation": "horizontal",
      "style": "IPY_MODEL_defd559128b34e7785b9d1c09a87a326",
      "value": 5148
     }
    },
    "eb2e6fedd1ce4609bde90566022f2bc4": {
     "model_module": "@jupyter-widgets/base",
     "model_module_version": "1.2.0",
     "model_name": "LayoutModel",
     "state": {
      "_model_module": "@jupyter-widgets/base",
      "_model_module_version": "1.2.0",
      "_model_name": "LayoutModel",
      "_view_count": null,
      "_view_module": "@jupyter-widgets/base",
      "_view_module_version": "1.2.0",
      "_view_name": "LayoutView",
      "align_content": null,
      "align_items": null,
      "align_self": null,
      "border": null,
      "bottom": null,
      "display": null,
      "flex": null,
      "flex_flow": null,
      "grid_area": null,
      "grid_auto_columns": null,
      "grid_auto_flow": null,
      "grid_auto_rows": null,
      "grid_column": null,
      "grid_gap": null,
      "grid_row": null,
      "grid_template_areas": null,
      "grid_template_columns": null,
      "grid_template_rows": null,
      "height": null,
      "justify_content": null,
      "justify_items": null,
      "left": null,
      "margin": null,
      "max_height": null,
      "max_width": null,
      "min_height": null,
      "min_width": null,
      "object_fit": null,
      "object_position": null,
      "order": null,
      "overflow": null,
      "overflow_x": null,
      "overflow_y": null,
      "padding": null,
      "right": null,
      "top": null,
      "visibility": null,
      "width": null
     }
    },
    "ec32ea3b9a604597a3b21629a8a49406": {
     "model_module": "@jupyter-widgets/base",
     "model_module_version": "1.2.0",
     "model_name": "LayoutModel",
     "state": {
      "_model_module": "@jupyter-widgets/base",
      "_model_module_version": "1.2.0",
      "_model_name": "LayoutModel",
      "_view_count": null,
      "_view_module": "@jupyter-widgets/base",
      "_view_module_version": "1.2.0",
      "_view_name": "LayoutView",
      "align_content": null,
      "align_items": null,
      "align_self": null,
      "border": null,
      "bottom": null,
      "display": null,
      "flex": null,
      "flex_flow": null,
      "grid_area": null,
      "grid_auto_columns": null,
      "grid_auto_flow": null,
      "grid_auto_rows": null,
      "grid_column": null,
      "grid_gap": null,
      "grid_row": null,
      "grid_template_areas": null,
      "grid_template_columns": null,
      "grid_template_rows": null,
      "height": null,
      "justify_content": null,
      "justify_items": null,
      "left": null,
      "margin": null,
      "max_height": null,
      "max_width": null,
      "min_height": null,
      "min_width": null,
      "object_fit": null,
      "object_position": null,
      "order": null,
      "overflow": null,
      "overflow_x": null,
      "overflow_y": null,
      "padding": null,
      "right": null,
      "top": null,
      "visibility": null,
      "width": null
     }
    },
    "ed83e4d86c7f444891e41dd45977666a": {
     "model_module": "@jupyter-widgets/controls",
     "model_module_version": "1.5.0",
     "model_name": "DescriptionStyleModel",
     "state": {
      "_model_module": "@jupyter-widgets/controls",
      "_model_module_version": "1.5.0",
      "_model_name": "DescriptionStyleModel",
      "_view_count": null,
      "_view_module": "@jupyter-widgets/base",
      "_view_module_version": "1.2.0",
      "_view_name": "StyleView",
      "description_width": ""
     }
    },
    "f3775f0aa1884dc38fae4b63e9acf572": {
     "model_module": "@jupyter-widgets/base",
     "model_module_version": "1.2.0",
     "model_name": "LayoutModel",
     "state": {
      "_model_module": "@jupyter-widgets/base",
      "_model_module_version": "1.2.0",
      "_model_name": "LayoutModel",
      "_view_count": null,
      "_view_module": "@jupyter-widgets/base",
      "_view_module_version": "1.2.0",
      "_view_name": "LayoutView",
      "align_content": null,
      "align_items": null,
      "align_self": null,
      "border": null,
      "bottom": null,
      "display": null,
      "flex": null,
      "flex_flow": null,
      "grid_area": null,
      "grid_auto_columns": null,
      "grid_auto_flow": null,
      "grid_auto_rows": null,
      "grid_column": null,
      "grid_gap": null,
      "grid_row": null,
      "grid_template_areas": null,
      "grid_template_columns": null,
      "grid_template_rows": null,
      "height": null,
      "justify_content": null,
      "justify_items": null,
      "left": null,
      "margin": null,
      "max_height": null,
      "max_width": null,
      "min_height": null,
      "min_width": null,
      "object_fit": null,
      "object_position": null,
      "order": null,
      "overflow": null,
      "overflow_x": null,
      "overflow_y": null,
      "padding": null,
      "right": null,
      "top": null,
      "visibility": null,
      "width": null
     }
    },
    "f4cf3f0d4321428bae97395922ed6e22": {
     "model_module": "@jupyter-widgets/base",
     "model_module_version": "1.2.0",
     "model_name": "LayoutModel",
     "state": {
      "_model_module": "@jupyter-widgets/base",
      "_model_module_version": "1.2.0",
      "_model_name": "LayoutModel",
      "_view_count": null,
      "_view_module": "@jupyter-widgets/base",
      "_view_module_version": "1.2.0",
      "_view_name": "LayoutView",
      "align_content": null,
      "align_items": null,
      "align_self": null,
      "border": null,
      "bottom": null,
      "display": null,
      "flex": null,
      "flex_flow": null,
      "grid_area": null,
      "grid_auto_columns": null,
      "grid_auto_flow": null,
      "grid_auto_rows": null,
      "grid_column": null,
      "grid_gap": null,
      "grid_row": null,
      "grid_template_areas": null,
      "grid_template_columns": null,
      "grid_template_rows": null,
      "height": null,
      "justify_content": null,
      "justify_items": null,
      "left": null,
      "margin": null,
      "max_height": null,
      "max_width": null,
      "min_height": null,
      "min_width": null,
      "object_fit": null,
      "object_position": null,
      "order": null,
      "overflow": null,
      "overflow_x": null,
      "overflow_y": null,
      "padding": null,
      "right": null,
      "top": null,
      "visibility": null,
      "width": null
     }
    },
    "f6224c93d49e48fba732c4e1d06cf1de": {
     "model_module": "@jupyter-widgets/controls",
     "model_module_version": "1.5.0",
     "model_name": "HTMLModel",
     "state": {
      "_dom_classes": [],
      "_model_module": "@jupyter-widgets/controls",
      "_model_module_version": "1.5.0",
      "_model_name": "HTMLModel",
      "_view_count": null,
      "_view_module": "@jupyter-widgets/controls",
      "_view_module_version": "1.5.0",
      "_view_name": "HTMLView",
      "description": "",
      "description_tooltip": null,
      "layout": "IPY_MODEL_1fc769f342054de5a33c992944fb0734",
      "placeholder": "​",
      "style": "IPY_MODEL_9ab12aa7c80f458794cafa9a3d562d19",
      "value": " 4422656/? [00:00&lt;00:00, 7255852.15it/s]"
     }
    }
   }
  }
 },
 "nbformat": 4,
 "nbformat_minor": 1
}
