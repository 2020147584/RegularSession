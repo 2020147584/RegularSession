{
  "cells": [
    {
      "cell_type": "code",
      "execution_count": 2,
      "metadata": {
        "id": "K2oRmXJ_iCrD"
      },
      "outputs": [],
      "source": [
        "# 라이브러리 불러오기\n",
        "'''메인 라이브러리'''\n",
        "import numpy as np\n",
        "import pandas as pd\n",
        "\n",
        "'''시각화 관련 라이브러리'''\n",
        "import matplotlib.pyplot as plt\n",
        "import seaborn as sns\n",
        "color = sns.color_palette()\n",
        "import matplotlib as mpl"
      ]
    },
    {
      "cell_type": "markdown",
      "metadata": {
        "id": "w0PvzHd8ujf0"
      },
      "source": [
        "# 마케팅 캠페인 데이터셋\n",
        "* 어떤 특성(피처)을 가진 소비자가 마케팅 캠페인에 더 많이 참여했는지 분석하고자 합니다\n",
        "* (참고) [캐글](https://www.kaggle.com/rodsaldanha/arketing-campaign) \n"
      ]
    },
    {
      "cell_type": "code",
      "execution_count": 4,
      "metadata": {
        "id": "_rfncxFsiNQ_"
      },
      "outputs": [],
      "source": [
        "base_path = \"경로\"\n",
        "marketing = pd.read_csv('/content/marketing_campaign.csv',\n",
        "                 sep =';')"
      ]
    },
    {
      "cell_type": "markdown",
      "metadata": {
        "id": "P6Mf_ROcvyc2"
      },
      "source": [
        "### 전처리\n",
        "* (참고) [EDA B조 코드](https://github.com/yonsei-dsl/7th_EDA/blob/main/B%EC%A1%B0/EDA_B%EC%A1%B0_%EC%BD%94%EB%93%9C.ipynb) - 감사합니다 :)"
      ]
    },
    {
      "cell_type": "code",
      "execution_count": 5,
      "metadata": {
        "id": "bDghHQDc-8Xk"
      },
      "outputs": [],
      "source": [
        "# company에 enrol한 연도, 월 따로 저장\n",
        "marketing.Dt_Customer = pd.to_datetime(marketing.Dt_Customer)\n",
        "marketing[\"enrol_year\"] = marketing.Dt_Customer.dt.strftime(\"%Y\")\n",
        "marketing[\"enrol_month\"] = marketing.Dt_Customer.dt.strftime(\"%m\")"
      ]
    },
    {
      "cell_type": "code",
      "execution_count": 6,
      "metadata": {
        "id": "vC71uOWT9ofh"
      },
      "outputs": [],
      "source": [
        "from datetime import datetime\n",
        "# 현재까지의 회원일수 따로 저장\n",
        "y = pd.to_datetime(datetime.today().strftime(\"%Y-%m-%d\"))"
      ]
    },
    {
      "cell_type": "code",
      "execution_count": 7,
      "metadata": {
        "id": "O80CRNgLWJZS"
      },
      "outputs": [],
      "source": [
        "marketing['days'] = y - marketing.Dt_Customer\n",
        "marketing['days'] = marketing['days'] / np.timedelta64(1, 'D')\n",
        "marketing['days'] = marketing['days'].astype(int) # int형으로 변환"
      ]
    },
    {
      "cell_type": "code",
      "execution_count": 8,
      "metadata": {
        "id": "NWdikV0oWKTG"
      },
      "outputs": [],
      "source": [
        "# 나이를 age에 저장\n",
        "marketing['age'] = 2022-marketing['Year_Birth']"
      ]
    },
    {
      "cell_type": "code",
      "execution_count": 9,
      "metadata": {
        "colab": {
          "base_uri": "https://localhost:8080/"
        },
        "id": "uudbWwIPWZSk",
        "outputId": "8e5b537f-57c9-4107-aea2-0530cb999eb3"
      },
      "outputs": [
        {
          "output_type": "execute_result",
          "data": {
            "text/plain": [
              "Index(['ID', 'Year_Birth', 'Education', 'Marital_Status', 'Income', 'Kidhome',\n",
              "       'Teenhome', 'Dt_Customer', 'Recency', 'MntWines', 'MntFruits',\n",
              "       'MntMeatProducts', 'MntFishProducts', 'MntSweetProducts',\n",
              "       'MntGoldProds', 'NumDealsPurchases', 'NumWebPurchases',\n",
              "       'NumCatalogPurchases', 'NumStorePurchases', 'NumWebVisitsMonth',\n",
              "       'AcceptedCmp3', 'AcceptedCmp4', 'AcceptedCmp5', 'AcceptedCmp1',\n",
              "       'AcceptedCmp2', 'Complain', 'Z_CostContact', 'Z_Revenue', 'Response',\n",
              "       'enrol_year', 'enrol_month', 'days', 'age'],\n",
              "      dtype='object')"
            ]
          },
          "metadata": {},
          "execution_count": 9
        }
      ],
      "source": [
        "marketing.columns"
      ]
    },
    {
      "cell_type": "markdown",
      "metadata": {
        "id": "w3zkiWthZPhv"
      },
      "source": [
        "5차례의 마케팅 캠페인에 총 몇 회 참여했는지에 따라 소비자 군집을 만들고자 합니다 \\\n",
        " "
      ]
    },
    {
      "cell_type": "code",
      "execution_count": 10,
      "metadata": {
        "id": "-aBNiwsrXiL-"
      },
      "outputs": [],
      "source": [
        "# 소비자별 총 캠페인 참여 횟수를 구하여 CampaignAttendance에 저장\n",
        "# (힌트) 'AcceptedCmpN'의 자료형은 ?!\n",
        "marketing['CampaignAttendance'] = marketing.AcceptedCmp1+marketing.AcceptedCmp2+marketing.AcceptedCmp3+marketing.AcceptedCmp4+marketing.AcceptedCmp5"
      ]
    },
    {
      "cell_type": "code",
      "execution_count": 14,
      "metadata": {
        "colab": {
          "base_uri": "https://localhost:8080/"
        },
        "id": "a9jztOkzbVfv",
        "outputId": "deb3f736-6079-45d5-be7e-0657025725cd"
      },
      "outputs": [
        {
          "output_type": "execute_result",
          "data": {
            "text/plain": [
              "array([0, 1, 2, 3, 4])"
            ]
          },
          "metadata": {},
          "execution_count": 14
        }
      ],
      "source": [
        "# 5번의 마케팅 캠페인 모두에 참여한 소비자는 없음\n",
        "marketing['CampaignAttendance'].unique()"
      ]
    },
    {
      "cell_type": "markdown",
      "metadata": {
        "id": "icW6f_E2eCgZ"
      },
      "source": [
        "분석을 위해 **연속형 변수**만을 피처로 사용하겠습니다\n",
        "* (참고) https://www.kaggle.com/ededhiscalifh/marketing-campaign-eda-practice/notebook"
      ]
    },
    {
      "cell_type": "code",
      "execution_count": 11,
      "metadata": {
        "id": "KeUyN8-NgZPn"
      },
      "outputs": [],
      "source": [
        "ID = ['ID']\n",
        "features = ['days', 'age', 'Income', 'Recency', 'MntWines', 'MntFruits',\\\n",
        "                     'MntMeatProducts', 'MntFishProducts', 'MntSweetProducts',\\\n",
        "                     'MntGoldProds', 'NumDealsPurchases','NumWebPurchases', \\\n",
        "                     'NumCatalogPurchases', 'NumStorePurchases', 'NumWebVisitsMonth']\n",
        "label = ['CampaignAttendance'] "
      ]
    },
    {
      "cell_type": "code",
      "execution_count": 12,
      "metadata": {
        "colab": {
          "base_uri": "https://localhost:8080/"
        },
        "id": "9-w-hBDTllT2",
        "outputId": "e2bffb09-66f9-4580-dd53-cf71f88e9311"
      },
      "outputs": [
        {
          "output_type": "stream",
          "name": "stdout",
          "text": [
            "15 차원 데이터입니다\n"
          ]
        }
      ],
      "source": [
        "print(len(features),\"차원 데이터입니다\")"
      ]
    },
    {
      "cell_type": "code",
      "execution_count": 15,
      "metadata": {
        "id": "cV3kVHKXgmb4"
      },
      "outputs": [],
      "source": [
        "campaign = marketing[ID + features + label]"
      ]
    },
    {
      "cell_type": "code",
      "execution_count": 16,
      "metadata": {
        "id": "fU-sFW9h0CgD"
      },
      "outputs": [],
      "source": [
        "# 결측값 제거\n",
        "campaign = campaign.dropna()"
      ]
    },
    {
      "cell_type": "code",
      "execution_count": 17,
      "metadata": {
        "colab": {
          "base_uri": "https://localhost:8080/"
        },
        "id": "OO399Nfg1Ekz",
        "outputId": "69ee8de6-b182-4cb8-b268-28531a99f7ff"
      },
      "outputs": [
        {
          "output_type": "execute_result",
          "data": {
            "text/plain": [
              "(2216, 17)"
            ]
          },
          "metadata": {},
          "execution_count": 17
        }
      ],
      "source": [
        "campaign.shape "
      ]
    },
    {
      "cell_type": "markdown",
      "metadata": {
        "id": "jeHpCZcz_LPn"
      },
      "source": [
        "# PCA\n",
        "* 클러스터링을 수행하기 전에 PCA를 사용해 추후 클러스터링 단계에서 사용할 주성분 개수를 구하도록 하겠습니다\n",
        "* 주성분 개수는 분산 설명 비율이 90% 이상이 되게끔 하는 값으로 구하겠습니다"
      ]
    },
    {
      "cell_type": "code",
      "execution_count": null,
      "metadata": {
        "id": "-zHq_43kjjoD"
      },
      "outputs": [],
      "source": [
        "# 데이터프레임의 형태로 피처셋과 레이블셋을 할당해주세요\n",
        "X = campaign[features]\n",
        "y = campaign[label]"
      ]
    },
    {
      "cell_type": "code",
      "execution_count": null,
      "metadata": {
        "id": "YEIXn7YQXUX8"
      },
      "outputs": [],
      "source": [
        "# Scaling 먼저 해주세요\n",
        "from sklearn.preprocessing import StandardScaler\n",
        "scaler = StandardScaler()\n",
        "X_std  = scaler.fit_transform(X)\n",
        "\n",
        "# 시각화 위해 데이터프레임으로 변환\n",
        "X_std = pd.DataFrame(X_std, columns=X.columns, index=list(X.index.values))"
      ]
    },
    {
      "cell_type": "markdown",
      "metadata": {
        "id": "0vLgiUbd1eqL"
      },
      "source": [
        "원본 차원의 수만큼 총 15개의 주성분을 생성하겠습니다"
      ]
    },
    {
      "cell_type": "code",
      "execution_count": null,
      "metadata": {
        "id": "21j5wNcIlXDj"
      },
      "outputs": [],
      "source": [
        "from sklearn.decomposition import PCA\n",
        "\n",
        "pca = PCA()\n",
        "X_pca = pca.fit_transform(X_std)"
      ]
    },
    {
      "cell_type": "code",
      "execution_count": null,
      "metadata": {
        "id": "hxzFwmh_lzl7"
      },
      "outputs": [],
      "source": [
        "# 데이터프레임 변환\n",
        "X_pca = pd.DataFrame(data=X_pca) "
      ]
    },
    {
      "cell_type": "code",
      "execution_count": null,
      "metadata": {
        "colab": {
          "base_uri": "https://localhost:8080/"
        },
        "id": "CzRDC7VHmLiY",
        "outputId": "8650a986-f951-4c2a-aed8-575d276a2e85"
      },
      "outputs": [
        {
          "name": "stdout",
          "output_type": "stream",
          "text": [
            "14개의 주성분에 의해 설명되는 분산 비율:  0.9999999999999999\n"
          ]
        }
      ],
      "source": [
        "# 100%가 되어야 합니다\n",
        "print(\"15개의 주성분에 의해 설명되는 분산 비율: \", sum(pca.explained_variance_ratio_))"
      ]
    },
    {
      "cell_type": "code",
      "execution_count": null,
      "metadata": {
        "colab": {
          "base_uri": "https://localhost:8080/",
          "height": 206
        },
        "id": "tLS776ZcmNn-",
        "outputId": "e2c21f3b-1425-4344-b141-b718c2c601dd"
      },
      "outputs": [
        {
          "data": {
            "text/html": [
              "\n",
              "  <div id=\"df-996f6377-3035-48ad-a96a-c0f7120aaf9d\">\n",
              "    <div class=\"colab-df-container\">\n",
              "      <div>\n",
              "<style scoped>\n",
              "    .dataframe tbody tr th:only-of-type {\n",
              "        vertical-align: middle;\n",
              "    }\n",
              "\n",
              "    .dataframe tbody tr th {\n",
              "        vertical-align: top;\n",
              "    }\n",
              "\n",
              "    .dataframe thead th {\n",
              "        text-align: right;\n",
              "    }\n",
              "</style>\n",
              "<table border=\"1\" class=\"dataframe\">\n",
              "  <thead>\n",
              "    <tr style=\"text-align: right;\">\n",
              "      <th></th>\n",
              "      <th>0</th>\n",
              "    </tr>\n",
              "  </thead>\n",
              "  <tbody>\n",
              "    <tr>\n",
              "      <th>0</th>\n",
              "      <td>0.378600</td>\n",
              "    </tr>\n",
              "    <tr>\n",
              "      <th>1</th>\n",
              "      <td>0.118520</td>\n",
              "    </tr>\n",
              "    <tr>\n",
              "      <th>2</th>\n",
              "      <td>0.077706</td>\n",
              "    </tr>\n",
              "    <tr>\n",
              "      <th>3</th>\n",
              "      <td>0.067094</td>\n",
              "    </tr>\n",
              "    <tr>\n",
              "      <th>4</th>\n",
              "      <td>0.054481</td>\n",
              "    </tr>\n",
              "  </tbody>\n",
              "</table>\n",
              "</div>\n",
              "      <button class=\"colab-df-convert\" onclick=\"convertToInteractive('df-996f6377-3035-48ad-a96a-c0f7120aaf9d')\"\n",
              "              title=\"Convert this dataframe to an interactive table.\"\n",
              "              style=\"display:none;\">\n",
              "        \n",
              "  <svg xmlns=\"http://www.w3.org/2000/svg\" height=\"24px\"viewBox=\"0 0 24 24\"\n",
              "       width=\"24px\">\n",
              "    <path d=\"M0 0h24v24H0V0z\" fill=\"none\"/>\n",
              "    <path d=\"M18.56 5.44l.94 2.06.94-2.06 2.06-.94-2.06-.94-.94-2.06-.94 2.06-2.06.94zm-11 1L8.5 8.5l.94-2.06 2.06-.94-2.06-.94L8.5 2.5l-.94 2.06-2.06.94zm10 10l.94 2.06.94-2.06 2.06-.94-2.06-.94-.94-2.06-.94 2.06-2.06.94z\"/><path d=\"M17.41 7.96l-1.37-1.37c-.4-.4-.92-.59-1.43-.59-.52 0-1.04.2-1.43.59L10.3 9.45l-7.72 7.72c-.78.78-.78 2.05 0 2.83L4 21.41c.39.39.9.59 1.41.59.51 0 1.02-.2 1.41-.59l7.78-7.78 2.81-2.81c.8-.78.8-2.07 0-2.86zM5.41 20L4 18.59l7.72-7.72 1.47 1.35L5.41 20z\"/>\n",
              "  </svg>\n",
              "      </button>\n",
              "      \n",
              "  <style>\n",
              "    .colab-df-container {\n",
              "      display:flex;\n",
              "      flex-wrap:wrap;\n",
              "      gap: 12px;\n",
              "    }\n",
              "\n",
              "    .colab-df-convert {\n",
              "      background-color: #E8F0FE;\n",
              "      border: none;\n",
              "      border-radius: 50%;\n",
              "      cursor: pointer;\n",
              "      display: none;\n",
              "      fill: #1967D2;\n",
              "      height: 32px;\n",
              "      padding: 0 0 0 0;\n",
              "      width: 32px;\n",
              "    }\n",
              "\n",
              "    .colab-df-convert:hover {\n",
              "      background-color: #E2EBFA;\n",
              "      box-shadow: 0px 1px 2px rgba(60, 64, 67, 0.3), 0px 1px 3px 1px rgba(60, 64, 67, 0.15);\n",
              "      fill: #174EA6;\n",
              "    }\n",
              "\n",
              "    [theme=dark] .colab-df-convert {\n",
              "      background-color: #3B4455;\n",
              "      fill: #D2E3FC;\n",
              "    }\n",
              "\n",
              "    [theme=dark] .colab-df-convert:hover {\n",
              "      background-color: #434B5C;\n",
              "      box-shadow: 0px 1px 3px 1px rgba(0, 0, 0, 0.15);\n",
              "      filter: drop-shadow(0px 1px 2px rgba(0, 0, 0, 0.3));\n",
              "      fill: #FFFFFF;\n",
              "    }\n",
              "  </style>\n",
              "\n",
              "      <script>\n",
              "        const buttonEl =\n",
              "          document.querySelector('#df-996f6377-3035-48ad-a96a-c0f7120aaf9d button.colab-df-convert');\n",
              "        buttonEl.style.display =\n",
              "          google.colab.kernel.accessAllowed ? 'block' : 'none';\n",
              "\n",
              "        async function convertToInteractive(key) {\n",
              "          const element = document.querySelector('#df-996f6377-3035-48ad-a96a-c0f7120aaf9d');\n",
              "          const dataTable =\n",
              "            await google.colab.kernel.invokeFunction('convertToInteractive',\n",
              "                                                     [key], {});\n",
              "          if (!dataTable) return;\n",
              "\n",
              "          const docLinkHtml = 'Like what you see? Visit the ' +\n",
              "            '<a target=\"_blank\" href=https://colab.research.google.com/notebooks/data_table.ipynb>data table notebook</a>'\n",
              "            + ' to learn more about interactive tables.';\n",
              "          element.innerHTML = '';\n",
              "          dataTable['output_type'] = 'display_data';\n",
              "          await google.colab.output.renderOutput(dataTable, element);\n",
              "          const docLink = document.createElement('div');\n",
              "          docLink.innerHTML = docLinkHtml;\n",
              "          element.appendChild(docLink);\n",
              "        }\n",
              "      </script>\n",
              "    </div>\n",
              "  </div>\n",
              "  "
            ],
            "text/plain": [
              "          0\n",
              "0  0.378600\n",
              "1  0.118520\n",
              "2  0.077706\n",
              "3  0.067094\n",
              "4  0.054481"
            ]
          },
          "execution_count": 63,
          "metadata": {},
          "output_type": "execute_result"
        }
      ],
      "source": [
        "# 15개의 주성분을 중요도 순으로 나열합니다\n",
        "importanceOfPrincipalComponents = pd.DataFrame(data=pca.explained_variance_ratio_)"
      ]
    },
    {
      "cell_type": "markdown",
      "metadata": {
        "id": "cBgh60JC13Su"
      },
      "source": [
        "총 분산의 90%이상을 잡아내는 주성분의 개수를 구하세요!\n",
        "* 이후 클러스터링 학습 시 해당 개수만큼 차원 축소한 피처셋을 이용할 겁니다"
      ]
    },
    {
      "cell_type": "code",
      "execution_count": null,
      "metadata": {
        "id": "VaYbrKHsmP8n"
      },
      "outputs": [],
      "source": [
        "# 처음 N개 주성분의 중요도\n",
        "importanceOfPrincipalComponents = importanceOfPrincipalComponents.T\n",
        "\n",
        "print('처음 2개의 주성분에 의해 설명되는 분산 비율: ',\n",
        "      importanceOfPrincipalComponents.loc[:,0:1].sum(axis=1).values)\n",
        "print('처음 N개의 주성분에 의해 설명되는 분산 비율: ',\n",
        "      importanceOfPrincipalComponents.loc[:,0:N-1].sum(axis=1).values)"
      ]
    },
    {
      "cell_type": "code",
      "execution_count": null,
      "metadata": {
        "id": "IoKw-srknNpg"
      },
      "outputs": [],
      "source": [
        "# 처음 두 개의 주성분을 이용하여 2차원 평면에 데이터셋의 분포를 나타내겠습니다\n",
        "def scatterPlot(xDF, yDF):\n",
        "    tempDF = pd.DataFrame(data=xDF.loc[:,0:1], index=xDF.index) \n",
        "    tempDF = pd.concat((tempDF,yDF), axis=1, join=\"inner\")\n",
        "    tempDF.columns = [\"First Vector\", \"Second Vector\", \"Label\"]\n",
        "    sns.lmplot(x=\"First Vector\", y=\"Second Vector\", hue=\"Label\", \\\n",
        "               data=tempDF, fit_reg=False)\n",
        "    ax = plt.gca()\n",
        "    plt.show()"
      ]
    },
    {
      "cell_type": "code",
      "execution_count": null,
      "metadata": {
        "colab": {
          "base_uri": "https://localhost:8080/",
          "height": 369
        },
        "id": "jjysWUjdnTBy",
        "outputId": "08daa0c3-4e40-4efa-a0b2-a44dacb20826"
      },
      "outputs": [
        {
          "data": {
            "image/png": "[encoded data removed]",
            "text/plain": [
              "<Figure size 402.375x360 with 1 Axes>"
            ]
          },
          "metadata": {
            "needs_background": "light"
          },
          "output_type": "display_data"
        }
      ],
      "source": [
        "# 설명력이 별로군여 ㅠㅅㅠ\n",
        "scatterPlot(X_pca, y)"
      ]
    },
    {
      "cell_type": "markdown",
      "metadata": {
        "id": "1QvHQjU4nlzT"
      },
      "source": [
        "# 클러스터링\n",
        "* PCA를 통해 구한 상위 $x$개(분산 설명력 90% 이상)의 주성분을 사용하여 클러스터링을 하고자 합니다"
      ]
    },
    {
      "cell_type": "code",
      "execution_count": null,
      "metadata": {
        "id": "w5mGBqOan1Fe"
      },
      "outputs": [],
      "source": [
        "from sklearn.cluster import KMeans"
      ]
    },
    {
      "cell_type": "code",
      "execution_count": null,
      "metadata": {
        "id": "ygKSkQ-gnoYe"
      },
      "outputs": [],
      "source": [
        "# 파라미터를 설정해주세요\n",
        "n_clusters = k # 군집수\n",
        "n_init =  10 # 초기화 횟수\n",
        "max_iter = 4  # 학습(군집 재할당)의 반복 횟수\n",
        "tol =  10 # 너무 오랜 시간 반복하는 경우에 대비해 tol만큼 줄어들지 않으면 조기 종료\n",
        "random_state = 0.01\n",
        "\n",
        "kmeans = KMeans(n_clusters=n_clusters, n_init=n_init, \\\n",
        "                max_iter=max_iter, tol=tol, random_state=random_state)"
      ]
    },
    {
      "cell_type": "code",
      "execution_count": null,
      "metadata": {
        "id": "OaEiMeHYn8Bf"
      },
      "outputs": [],
      "source": [
        "# 처음 N개의 주성분만을 이용하고자 합니다\n",
        "cutoff = 9 # 앞서 구한 주성분 개수 - 1\n",
        "X_train_Kmeans = X_pca.loc[:,0:cutoff]\n",
        "\n",
        "kmeans.fit(X_train_Kmeans)"
      ]
    },
    {
      "cell_type": "code",
      "execution_count": null,
      "metadata": {
        "id": "oDO1FVnboGQ2"
      },
      "outputs": [],
      "source": [
        "# 클러스터링 결과 \n",
        "result = X_train_Kmeans.copy()\n",
        "\n",
        "result[\"cluster\"] =  kmeans.labels"
      ]
    },
    {
      "cell_type": "code",
      "execution_count": null,
      "metadata": {
        "colab": {
          "base_uri": "https://localhost:8080/",
          "height": 270
        },
        "id": "NYISQ42roH5O",
        "outputId": "2326c283-087b-4074-ae38-e02abc0dde06"
      },
      "outputs": [
        {
          "data": {
            "text/html": [
              "\n",
              "  <div id=\"df-11369a0a-a718-4bbd-b12e-d905f19769f0\">\n",
              "    <div class=\"colab-df-container\">\n",
              "      <div>\n",
              "<style scoped>\n",
              "    .dataframe tbody tr th:only-of-type {\n",
              "        vertical-align: middle;\n",
              "    }\n",
              "\n",
              "    .dataframe tbody tr th {\n",
              "        vertical-align: top;\n",
              "    }\n",
              "\n",
              "    .dataframe thead th {\n",
              "        text-align: right;\n",
              "    }\n",
              "</style>\n",
              "<table border=\"1\" class=\"dataframe\">\n",
              "  <thead>\n",
              "    <tr style=\"text-align: right;\">\n",
              "      <th></th>\n",
              "      <th>0</th>\n",
              "      <th>1</th>\n",
              "      <th>2</th>\n",
              "      <th>3</th>\n",
              "      <th>4</th>\n",
              "      <th>5</th>\n",
              "      <th>6</th>\n",
              "      <th>7</th>\n",
              "      <th>8</th>\n",
              "      <th>9</th>\n",
              "      <th>cluster</th>\n",
              "    </tr>\n",
              "  </thead>\n",
              "  <tbody>\n",
              "    <tr>\n",
              "      <th>0</th>\n",
              "      <td>3.792298</td>\n",
              "      <td>1.442685</td>\n",
              "      <td>-1.188701</td>\n",
              "      <td>0.489076</td>\n",
              "      <td>-1.684880</td>\n",
              "      <td>0.657709</td>\n",
              "      <td>0.911433</td>\n",
              "      <td>0.258988</td>\n",
              "      <td>2.131301</td>\n",
              "      <td>-0.506056</td>\n",
              "      <td>1</td>\n",
              "    </tr>\n",
              "    <tr>\n",
              "      <th>1</th>\n",
              "      <td>-2.121084</td>\n",
              "      <td>-1.244661</td>\n",
              "      <td>1.428761</td>\n",
              "      <td>-0.257899</td>\n",
              "      <td>-0.726021</td>\n",
              "      <td>-0.087000</td>\n",
              "      <td>0.511487</td>\n",
              "      <td>0.286159</td>\n",
              "      <td>0.250090</td>\n",
              "      <td>0.102382</td>\n",
              "      <td>0</td>\n",
              "    </tr>\n",
              "    <tr>\n",
              "      <th>2</th>\n",
              "      <td>1.665944</td>\n",
              "      <td>-0.064820</td>\n",
              "      <td>0.500500</td>\n",
              "      <td>-0.966260</td>\n",
              "      <td>-0.201972</td>\n",
              "      <td>-0.423193</td>\n",
              "      <td>-0.890039</td>\n",
              "      <td>-1.063045</td>\n",
              "      <td>-0.446395</td>\n",
              "      <td>-0.379405</td>\n",
              "      <td>4</td>\n",
              "    </tr>\n",
              "    <tr>\n",
              "      <th>3</th>\n",
              "      <td>-2.375429</td>\n",
              "      <td>-0.993010</td>\n",
              "      <td>-0.552984</td>\n",
              "      <td>-0.910029</td>\n",
              "      <td>0.775877</td>\n",
              "      <td>-0.579228</td>\n",
              "      <td>0.035769</td>\n",
              "      <td>-0.125336</td>\n",
              "      <td>-0.048974</td>\n",
              "      <td>-0.224105</td>\n",
              "      <td>0</td>\n",
              "    </tr>\n",
              "    <tr>\n",
              "      <th>4</th>\n",
              "      <td>-0.066794</td>\n",
              "      <td>0.114334</td>\n",
              "      <td>-0.201885</td>\n",
              "      <td>1.300219</td>\n",
              "      <td>1.315347</td>\n",
              "      <td>-1.331835</td>\n",
              "      <td>1.158915</td>\n",
              "      <td>-0.429790</td>\n",
              "      <td>0.010220</td>\n",
              "      <td>-0.194494</td>\n",
              "      <td>2</td>\n",
              "    </tr>\n",
              "  </tbody>\n",
              "</table>\n",
              "</div>\n",
              "      <button class=\"colab-df-convert\" onclick=\"convertToInteractive('df-11369a0a-a718-4bbd-b12e-d905f19769f0')\"\n",
              "              title=\"Convert this dataframe to an interactive table.\"\n",
              "              style=\"display:none;\">\n",
              "        \n",
              "  <svg xmlns=\"http://www.w3.org/2000/svg\" height=\"24px\"viewBox=\"0 0 24 24\"\n",
              "       width=\"24px\">\n",
              "    <path d=\"M0 0h24v24H0V0z\" fill=\"none\"/>\n",
              "    <path d=\"M18.56 5.44l.94 2.06.94-2.06 2.06-.94-2.06-.94-.94-2.06-.94 2.06-2.06.94zm-11 1L8.5 8.5l.94-2.06 2.06-.94-2.06-.94L8.5 2.5l-.94 2.06-2.06.94zm10 10l.94 2.06.94-2.06 2.06-.94-2.06-.94-.94-2.06-.94 2.06-2.06.94z\"/><path d=\"M17.41 7.96l-1.37-1.37c-.4-.4-.92-.59-1.43-.59-.52 0-1.04.2-1.43.59L10.3 9.45l-7.72 7.72c-.78.78-.78 2.05 0 2.83L4 21.41c.39.39.9.59 1.41.59.51 0 1.02-.2 1.41-.59l7.78-7.78 2.81-2.81c.8-.78.8-2.07 0-2.86zM5.41 20L4 18.59l7.72-7.72 1.47 1.35L5.41 20z\"/>\n",
              "  </svg>\n",
              "      </button>\n",
              "      \n",
              "  <style>\n",
              "    .colab-df-container {\n",
              "      display:flex;\n",
              "      flex-wrap:wrap;\n",
              "      gap: 12px;\n",
              "    }\n",
              "\n",
              "    .colab-df-convert {\n",
              "      background-color: #E8F0FE;\n",
              "      border: none;\n",
              "      border-radius: 50%;\n",
              "      cursor: pointer;\n",
              "      display: none;\n",
              "      fill: #1967D2;\n",
              "      height: 32px;\n",
              "      padding: 0 0 0 0;\n",
              "      width: 32px;\n",
              "    }\n",
              "\n",
              "    .colab-df-convert:hover {\n",
              "      background-color: #E2EBFA;\n",
              "      box-shadow: 0px 1px 2px rgba(60, 64, 67, 0.3), 0px 1px 3px 1px rgba(60, 64, 67, 0.15);\n",
              "      fill: #174EA6;\n",
              "    }\n",
              "\n",
              "    [theme=dark] .colab-df-convert {\n",
              "      background-color: #3B4455;\n",
              "      fill: #D2E3FC;\n",
              "    }\n",
              "\n",
              "    [theme=dark] .colab-df-convert:hover {\n",
              "      background-color: #434B5C;\n",
              "      box-shadow: 0px 1px 3px 1px rgba(0, 0, 0, 0.15);\n",
              "      filter: drop-shadow(0px 1px 2px rgba(0, 0, 0, 0.3));\n",
              "      fill: #FFFFFF;\n",
              "    }\n",
              "  </style>\n",
              "\n",
              "      <script>\n",
              "        const buttonEl =\n",
              "          document.querySelector('#df-11369a0a-a718-4bbd-b12e-d905f19769f0 button.colab-df-convert');\n",
              "        buttonEl.style.display =\n",
              "          google.colab.kernel.accessAllowed ? 'block' : 'none';\n",
              "\n",
              "        async function convertToInteractive(key) {\n",
              "          const element = document.querySelector('#df-11369a0a-a718-4bbd-b12e-d905f19769f0');\n",
              "          const dataTable =\n",
              "            await google.colab.kernel.invokeFunction('convertToInteractive',\n",
              "                                                     [key], {});\n",
              "          if (!dataTable) return;\n",
              "\n",
              "          const docLinkHtml = 'Like what you see? Visit the ' +\n",
              "            '<a target=\"_blank\" href=https://colab.research.google.com/notebooks/data_table.ipynb>data table notebook</a>'\n",
              "            + ' to learn more about interactive tables.';\n",
              "          element.innerHTML = '';\n",
              "          dataTable['output_type'] = 'display_data';\n",
              "          await google.colab.output.renderOutput(dataTable, element);\n",
              "          const docLink = document.createElement('div');\n",
              "          docLink.innerHTML = docLinkHtml;\n",
              "          element.appendChild(docLink);\n",
              "        }\n",
              "      </script>\n",
              "    </div>\n",
              "  </div>\n",
              "  "
            ],
            "text/plain": [
              "          0         1         2  ...         8         9  cluster\n",
              "0  3.792298  1.442685 -1.188701  ...  2.131301 -0.506056        1\n",
              "1 -2.121084 -1.244661  1.428761  ...  0.250090  0.102382        0\n",
              "2  1.665944 -0.064820  0.500500  ... -0.446395 -0.379405        4\n",
              "3 -2.375429 -0.993010 -0.552984  ... -0.048974 -0.224105        0\n",
              "4 -0.066794  0.114334 -0.201885  ...  0.010220 -0.194494        2\n",
              "\n",
              "[5 rows x 11 columns]"
            ]
          },
          "execution_count": 71,
          "metadata": {},
          "output_type": "execute_result"
        }
      ],
      "source": [
        "result.head()"
      ]
    },
    {
      "cell_type": "code",
      "execution_count": null,
      "metadata": {
        "id": "bFICf9Q4oJmu"
      },
      "outputs": [],
      "source": [
        "def ClusteringPlot(xDF):\n",
        "    tempDF = pd.DataFrame(data=xDF.loc[:,0:1], index=xDF.index)\n",
        "    tempDF = pd.concat((tempDF,xDF[\"cluster\"]), axis=1, join=\"inner\")\n",
        "    tempDF.columns = [\"First Vector\", \"Second Vector\", \"cluster\"]\n",
        "    sns.lmplot(x=\"First Vector\", y=\"Second Vector\", hue=\"cluster\", \\\n",
        "               data=tempDF, fit_reg=False)\n",
        "    ax = plt.gca()\n",
        "    plt.show()"
      ]
    },
    {
      "cell_type": "code",
      "execution_count": null,
      "metadata": {
        "colab": {
          "base_uri": "https://localhost:8080/",
          "height": 369
        },
        "id": "vHGlTTnQoLYS",
        "outputId": "0e814c5e-6b39-429b-e92c-e4c9bfe98e9a"
      },
      "outputs": [
        {
          "data": {
            "image/png": "[encoded data removed]",
            "text/plain": [
              "<Figure size 402.375x360 with 1 Axes>"
            ]
          },
          "metadata": {
            "needs_background": "light"
          },
          "output_type": "display_data"
        }
      ],
      "source": [
        "ClusteringPlot(result)"
      ]
    },
    {
      "cell_type": "markdown",
      "metadata": {
        "id": "WJiFXKhf4FCM"
      },
      "source": [
        "결과물에 대한 해석 한두줄 적어주세요! 수고 많으셨습니다 :)"
      ]
    }
  ],
  "metadata": {
    "colab": {
      "collapsed_sections": [],
      "name": "[6기_박수빈]Assignment.ipynb",
      "provenance": []
    },
    "kernelspec": {
      "display_name": "Python 3",
      "language": "python",
      "name": "python3"
    },
    "language_info": {
      "codemirror_mode": {
        "name": "ipython",
        "version": 3
      },
      "file_extension": ".py",
      "mimetype": "text/x-python",
      "name": "python",
      "nbconvert_exporter": "python",
      "pygments_lexer": "ipython3",
      "version": "3.7.3"
    }
  },
  "nbformat": 4,
  "nbformat_minor": 0
}