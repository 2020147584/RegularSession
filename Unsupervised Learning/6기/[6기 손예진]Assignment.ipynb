{
  "nbformat": 4,
  "nbformat_minor": 0,
  "metadata": {
    "colab": {
      "name": "Assignment.ipynb",
      "provenance": [],
      "collapsed_sections": []
    },
    "kernelspec": {
      "name": "python3",
      "display_name": "Python 3"
    },
    "language_info": {
      "name": "python"
    }
  },
  "cells": [
    {
      "cell_type": "code",
      "execution_count": 1,
      "metadata": {
        "id": "K2oRmXJ_iCrD"
      },
      "outputs": [],
      "source": [
        "# 라이브러리 불러오기\n",
        "'''메인 라이브러리'''\n",
        "import numpy as np\n",
        "import pandas as pd\n",
        "\n",
        "'''시각화 관련 라이브러리'''\n",
        "import matplotlib.pyplot as plt\n",
        "import seaborn as sns\n",
        "color = sns.color_palette()\n",
        "import matplotlib as mpl"
      ]
    },
    {
      "cell_type": "markdown",
      "source": [
        "# 마케팅 캠페인 데이터셋\n",
        "* 어떤 특성(피처)을 가진 소비자가 마케팅 캠페인에 더 많이 참여했는지 분석하고자 합니다\n",
        "* (참고) [캐글](https://www.kaggle.com/rodsaldanha/arketing-campaign) \n"
      ],
      "metadata": {
        "id": "w0PvzHd8ujf0"
      }
    },
    {
      "cell_type": "code",
      "source": [
        "from google.colab import drive\n",
        "drive.mount('/content/drive')"
      ],
      "metadata": {
        "colab": {
          "base_uri": "https://localhost:8080/"
        },
        "id": "J-uM2Keow3d1",
        "outputId": "f9f7e8aa-6821-4c7b-8ab9-80f7270f4116"
      },
      "execution_count": 3,
      "outputs": [
        {
          "output_type": "stream",
          "name": "stdout",
          "text": [
            "Mounted at /content/drive\n"
          ]
        }
      ]
    },
    {
      "cell_type": "code",
      "source": [
        "base_path = \"/content/drive/MyDrive/2022-1학기 DSL 정규세션/[220215] Unsupervised Learning\"\n",
        "marketing = pd.read_csv(base_path + \"/marketing_campaign.csv\", sep =';')"
      ],
      "metadata": {
        "id": "_rfncxFsiNQ_"
      },
      "execution_count": 7,
      "outputs": []
    },
    {
      "cell_type": "code",
      "source": [
        "marketing.head(3)"
      ],
      "metadata": {
        "colab": {
          "base_uri": "https://localhost:8080/",
          "height": 208
        },
        "id": "tYf7fPFBxL8s",
        "outputId": "f9559443-5b2f-4823-85c3-0ef00980ecc2"
      },
      "execution_count": 9,
      "outputs": [
        {
          "output_type": "execute_result",
          "data": {
            "text/html": [
              "\n",
              "  <div id=\"df-b22ad227-36f1-4716-947f-51b2eb0e0843\">\n",
              "    <div class=\"colab-df-container\">\n",
              "      <div>\n",
              "<style scoped>\n",
              "    .dataframe tbody tr th:only-of-type {\n",
              "        vertical-align: middle;\n",
              "    }\n",
              "\n",
              "    .dataframe tbody tr th {\n",
              "        vertical-align: top;\n",
              "    }\n",
              "\n",
              "    .dataframe thead th {\n",
              "        text-align: right;\n",
              "    }\n",
              "</style>\n",
              "<table border=\"1\" class=\"dataframe\">\n",
              "  <thead>\n",
              "    <tr style=\"text-align: right;\">\n",
              "      <th></th>\n",
              "      <th>ID</th>\n",
              "      <th>Year_Birth</th>\n",
              "      <th>Education</th>\n",
              "      <th>Marital_Status</th>\n",
              "      <th>Income</th>\n",
              "      <th>Kidhome</th>\n",
              "      <th>Teenhome</th>\n",
              "      <th>Dt_Customer</th>\n",
              "      <th>Recency</th>\n",
              "      <th>MntWines</th>\n",
              "      <th>MntFruits</th>\n",
              "      <th>MntMeatProducts</th>\n",
              "      <th>MntFishProducts</th>\n",
              "      <th>MntSweetProducts</th>\n",
              "      <th>MntGoldProds</th>\n",
              "      <th>NumDealsPurchases</th>\n",
              "      <th>NumWebPurchases</th>\n",
              "      <th>NumCatalogPurchases</th>\n",
              "      <th>NumStorePurchases</th>\n",
              "      <th>NumWebVisitsMonth</th>\n",
              "      <th>AcceptedCmp3</th>\n",
              "      <th>AcceptedCmp4</th>\n",
              "      <th>AcceptedCmp5</th>\n",
              "      <th>AcceptedCmp1</th>\n",
              "      <th>AcceptedCmp2</th>\n",
              "      <th>Complain</th>\n",
              "      <th>Z_CostContact</th>\n",
              "      <th>Z_Revenue</th>\n",
              "      <th>Response</th>\n",
              "    </tr>\n",
              "  </thead>\n",
              "  <tbody>\n",
              "    <tr>\n",
              "      <th>0</th>\n",
              "      <td>5524</td>\n",
              "      <td>1957</td>\n",
              "      <td>Graduation</td>\n",
              "      <td>Single</td>\n",
              "      <td>58138.0</td>\n",
              "      <td>0</td>\n",
              "      <td>0</td>\n",
              "      <td>2012-09-04</td>\n",
              "      <td>58</td>\n",
              "      <td>635</td>\n",
              "      <td>88</td>\n",
              "      <td>546</td>\n",
              "      <td>172</td>\n",
              "      <td>88</td>\n",
              "      <td>88</td>\n",
              "      <td>3</td>\n",
              "      <td>8</td>\n",
              "      <td>10</td>\n",
              "      <td>4</td>\n",
              "      <td>7</td>\n",
              "      <td>0</td>\n",
              "      <td>0</td>\n",
              "      <td>0</td>\n",
              "      <td>0</td>\n",
              "      <td>0</td>\n",
              "      <td>0</td>\n",
              "      <td>3</td>\n",
              "      <td>11</td>\n",
              "      <td>1</td>\n",
              "    </tr>\n",
              "    <tr>\n",
              "      <th>1</th>\n",
              "      <td>2174</td>\n",
              "      <td>1954</td>\n",
              "      <td>Graduation</td>\n",
              "      <td>Single</td>\n",
              "      <td>46344.0</td>\n",
              "      <td>1</td>\n",
              "      <td>1</td>\n",
              "      <td>2014-03-08</td>\n",
              "      <td>38</td>\n",
              "      <td>11</td>\n",
              "      <td>1</td>\n",
              "      <td>6</td>\n",
              "      <td>2</td>\n",
              "      <td>1</td>\n",
              "      <td>6</td>\n",
              "      <td>2</td>\n",
              "      <td>1</td>\n",
              "      <td>1</td>\n",
              "      <td>2</td>\n",
              "      <td>5</td>\n",
              "      <td>0</td>\n",
              "      <td>0</td>\n",
              "      <td>0</td>\n",
              "      <td>0</td>\n",
              "      <td>0</td>\n",
              "      <td>0</td>\n",
              "      <td>3</td>\n",
              "      <td>11</td>\n",
              "      <td>0</td>\n",
              "    </tr>\n",
              "    <tr>\n",
              "      <th>2</th>\n",
              "      <td>4141</td>\n",
              "      <td>1965</td>\n",
              "      <td>Graduation</td>\n",
              "      <td>Together</td>\n",
              "      <td>71613.0</td>\n",
              "      <td>0</td>\n",
              "      <td>0</td>\n",
              "      <td>2013-08-21</td>\n",
              "      <td>26</td>\n",
              "      <td>426</td>\n",
              "      <td>49</td>\n",
              "      <td>127</td>\n",
              "      <td>111</td>\n",
              "      <td>21</td>\n",
              "      <td>42</td>\n",
              "      <td>1</td>\n",
              "      <td>8</td>\n",
              "      <td>2</td>\n",
              "      <td>10</td>\n",
              "      <td>4</td>\n",
              "      <td>0</td>\n",
              "      <td>0</td>\n",
              "      <td>0</td>\n",
              "      <td>0</td>\n",
              "      <td>0</td>\n",
              "      <td>0</td>\n",
              "      <td>3</td>\n",
              "      <td>11</td>\n",
              "      <td>0</td>\n",
              "    </tr>\n",
              "  </tbody>\n",
              "</table>\n",
              "</div>\n",
              "      <button class=\"colab-df-convert\" onclick=\"convertToInteractive('df-b22ad227-36f1-4716-947f-51b2eb0e0843')\"\n",
              "              title=\"Convert this dataframe to an interactive table.\"\n",
              "              style=\"display:none;\">\n",
              "        \n",
              "  <svg xmlns=\"http://www.w3.org/2000/svg\" height=\"24px\"viewBox=\"0 0 24 24\"\n",
              "       width=\"24px\">\n",
              "    <path d=\"M0 0h24v24H0V0z\" fill=\"none\"/>\n",
              "    <path d=\"M18.56 5.44l.94 2.06.94-2.06 2.06-.94-2.06-.94-.94-2.06-.94 2.06-2.06.94zm-11 1L8.5 8.5l.94-2.06 2.06-.94-2.06-.94L8.5 2.5l-.94 2.06-2.06.94zm10 10l.94 2.06.94-2.06 2.06-.94-2.06-.94-.94-2.06-.94 2.06-2.06.94z\"/><path d=\"M17.41 7.96l-1.37-1.37c-.4-.4-.92-.59-1.43-.59-.52 0-1.04.2-1.43.59L10.3 9.45l-7.72 7.72c-.78.78-.78 2.05 0 2.83L4 21.41c.39.39.9.59 1.41.59.51 0 1.02-.2 1.41-.59l7.78-7.78 2.81-2.81c.8-.78.8-2.07 0-2.86zM5.41 20L4 18.59l7.72-7.72 1.47 1.35L5.41 20z\"/>\n",
              "  </svg>\n",
              "      </button>\n",
              "      \n",
              "  <style>\n",
              "    .colab-df-container {\n",
              "      display:flex;\n",
              "      flex-wrap:wrap;\n",
              "      gap: 12px;\n",
              "    }\n",
              "\n",
              "    .colab-df-convert {\n",
              "      background-color: #E8F0FE;\n",
              "      border: none;\n",
              "      border-radius: 50%;\n",
              "      cursor: pointer;\n",
              "      display: none;\n",
              "      fill: #1967D2;\n",
              "      height: 32px;\n",
              "      padding: 0 0 0 0;\n",
              "      width: 32px;\n",
              "    }\n",
              "\n",
              "    .colab-df-convert:hover {\n",
              "      background-color: #E2EBFA;\n",
              "      box-shadow: 0px 1px 2px rgba(60, 64, 67, 0.3), 0px 1px 3px 1px rgba(60, 64, 67, 0.15);\n",
              "      fill: #174EA6;\n",
              "    }\n",
              "\n",
              "    [theme=dark] .colab-df-convert {\n",
              "      background-color: #3B4455;\n",
              "      fill: #D2E3FC;\n",
              "    }\n",
              "\n",
              "    [theme=dark] .colab-df-convert:hover {\n",
              "      background-color: #434B5C;\n",
              "      box-shadow: 0px 1px 3px 1px rgba(0, 0, 0, 0.15);\n",
              "      filter: drop-shadow(0px 1px 2px rgba(0, 0, 0, 0.3));\n",
              "      fill: #FFFFFF;\n",
              "    }\n",
              "  </style>\n",
              "\n",
              "      <script>\n",
              "        const buttonEl =\n",
              "          document.querySelector('#df-b22ad227-36f1-4716-947f-51b2eb0e0843 button.colab-df-convert');\n",
              "        buttonEl.style.display =\n",
              "          google.colab.kernel.accessAllowed ? 'block' : 'none';\n",
              "\n",
              "        async function convertToInteractive(key) {\n",
              "          const element = document.querySelector('#df-b22ad227-36f1-4716-947f-51b2eb0e0843');\n",
              "          const dataTable =\n",
              "            await google.colab.kernel.invokeFunction('convertToInteractive',\n",
              "                                                     [key], {});\n",
              "          if (!dataTable) return;\n",
              "\n",
              "          const docLinkHtml = 'Like what you see? Visit the ' +\n",
              "            '<a target=\"_blank\" href=https://colab.research.google.com/notebooks/data_table.ipynb>data table notebook</a>'\n",
              "            + ' to learn more about interactive tables.';\n",
              "          element.innerHTML = '';\n",
              "          dataTable['output_type'] = 'display_data';\n",
              "          await google.colab.output.renderOutput(dataTable, element);\n",
              "          const docLink = document.createElement('div');\n",
              "          docLink.innerHTML = docLinkHtml;\n",
              "          element.appendChild(docLink);\n",
              "        }\n",
              "      </script>\n",
              "    </div>\n",
              "  </div>\n",
              "  "
            ],
            "text/plain": [
              "     ID  Year_Birth   Education  ... Z_CostContact  Z_Revenue  Response\n",
              "0  5524        1957  Graduation  ...             3         11         1\n",
              "1  2174        1954  Graduation  ...             3         11         0\n",
              "2  4141        1965  Graduation  ...             3         11         0\n",
              "\n",
              "[3 rows x 29 columns]"
            ]
          },
          "metadata": {},
          "execution_count": 9
        }
      ]
    },
    {
      "cell_type": "markdown",
      "source": [
        "### 전처리\n",
        "* (참고) [EDA B조 코드](https://github.com/yonsei-dsl/7th_EDA/blob/main/B%EC%A1%B0/EDA_B%EC%A1%B0_%EC%BD%94%EB%93%9C.ipynb) - 감사합니다 :)"
      ],
      "metadata": {
        "id": "P6Mf_ROcvyc2"
      }
    },
    {
      "cell_type": "code",
      "source": [
        "# company에 enrol한 연도, 월 따로 저장\n",
        "marketing.Dt_Customer = pd.to_datetime(marketing.Dt_Customer)\n",
        "marketing[\"enrol_year\"] = marketing.Dt_Customer.dt.strftime(\"%Y\")\n",
        "marketing[\"enrol_month\"] = marketing.Dt_Customer.dt.strftime(\"%m\")"
      ],
      "metadata": {
        "id": "bDghHQDc-8Xk"
      },
      "execution_count": 10,
      "outputs": []
    },
    {
      "cell_type": "code",
      "source": [
        "from datetime import datetime\n",
        "# 현재까지의 회원일수 따로 저장\n",
        "y = pd.to_datetime(datetime.today().strftime(\"%Y-%m-%d\"))"
      ],
      "metadata": {
        "id": "vC71uOWT9ofh"
      },
      "execution_count": 13,
      "outputs": []
    },
    {
      "cell_type": "code",
      "source": [
        "marketing['days'] = y - marketing.Dt_Customer\n",
        "marketing['days'] = marketing['days'] / np.timedelta64(1, 'D')\n",
        "marketing['days'] = marketing['days'].astype(int) # int형으로 변환"
      ],
      "metadata": {
        "id": "O80CRNgLWJZS"
      },
      "execution_count": 18,
      "outputs": []
    },
    {
      "cell_type": "code",
      "source": [
        "# 나이를 age에 저장\n",
        "marketing['age'] = 2022-marketing['Year_Birth']"
      ],
      "metadata": {
        "id": "NWdikV0oWKTG"
      },
      "execution_count": 19,
      "outputs": []
    },
    {
      "cell_type": "code",
      "source": [
        "marketing.columns"
      ],
      "metadata": {
        "colab": {
          "base_uri": "https://localhost:8080/"
        },
        "id": "uudbWwIPWZSk",
        "outputId": "3b5a92bc-04e2-4f60-88d7-28089b840c25"
      },
      "execution_count": 20,
      "outputs": [
        {
          "output_type": "execute_result",
          "data": {
            "text/plain": [
              "Index(['ID', 'Year_Birth', 'Education', 'Marital_Status', 'Income', 'Kidhome',\n",
              "       'Teenhome', 'Dt_Customer', 'Recency', 'MntWines', 'MntFruits',\n",
              "       'MntMeatProducts', 'MntFishProducts', 'MntSweetProducts',\n",
              "       'MntGoldProds', 'NumDealsPurchases', 'NumWebPurchases',\n",
              "       'NumCatalogPurchases', 'NumStorePurchases', 'NumWebVisitsMonth',\n",
              "       'AcceptedCmp3', 'AcceptedCmp4', 'AcceptedCmp5', 'AcceptedCmp1',\n",
              "       'AcceptedCmp2', 'Complain', 'Z_CostContact', 'Z_Revenue', 'Response',\n",
              "       'enrol_year', 'enrol_month', 'days', 'age'],\n",
              "      dtype='object')"
            ]
          },
          "metadata": {},
          "execution_count": 20
        }
      ]
    },
    {
      "cell_type": "markdown",
      "source": [
        "5차례의 마케팅 캠페인에 총 몇 회 참여했는지에 따라 소비자 군집을 만들고자 합니다 \\\n",
        " "
      ],
      "metadata": {
        "id": "w3zkiWthZPhv"
      }
    },
    {
      "cell_type": "code",
      "source": [
        "marketing.info()"
      ],
      "metadata": {
        "colab": {
          "base_uri": "https://localhost:8080/"
        },
        "id": "bbE1dA5m8yFh",
        "outputId": "765de715-45a2-4afc-8d4a-3045f57703b6"
      },
      "execution_count": 24,
      "outputs": [
        {
          "output_type": "stream",
          "name": "stdout",
          "text": [
            "<class 'pandas.core.frame.DataFrame'>\n",
            "RangeIndex: 2240 entries, 0 to 2239\n",
            "Data columns (total 33 columns):\n",
            " #   Column               Non-Null Count  Dtype         \n",
            "---  ------               --------------  -----         \n",
            " 0   ID                   2240 non-null   int64         \n",
            " 1   Year_Birth           2240 non-null   int64         \n",
            " 2   Education            2240 non-null   object        \n",
            " 3   Marital_Status       2240 non-null   object        \n",
            " 4   Income               2216 non-null   float64       \n",
            " 5   Kidhome              2240 non-null   int64         \n",
            " 6   Teenhome             2240 non-null   int64         \n",
            " 7   Dt_Customer          2240 non-null   datetime64[ns]\n",
            " 8   Recency              2240 non-null   int64         \n",
            " 9   MntWines             2240 non-null   int64         \n",
            " 10  MntFruits            2240 non-null   int64         \n",
            " 11  MntMeatProducts      2240 non-null   int64         \n",
            " 12  MntFishProducts      2240 non-null   int64         \n",
            " 13  MntSweetProducts     2240 non-null   int64         \n",
            " 14  MntGoldProds         2240 non-null   int64         \n",
            " 15  NumDealsPurchases    2240 non-null   int64         \n",
            " 16  NumWebPurchases      2240 non-null   int64         \n",
            " 17  NumCatalogPurchases  2240 non-null   int64         \n",
            " 18  NumStorePurchases    2240 non-null   int64         \n",
            " 19  NumWebVisitsMonth    2240 non-null   int64         \n",
            " 20  AcceptedCmp3         2240 non-null   int64         \n",
            " 21  AcceptedCmp4         2240 non-null   int64         \n",
            " 22  AcceptedCmp5         2240 non-null   int64         \n",
            " 23  AcceptedCmp1         2240 non-null   int64         \n",
            " 24  AcceptedCmp2         2240 non-null   int64         \n",
            " 25  Complain             2240 non-null   int64         \n",
            " 26  Z_CostContact        2240 non-null   int64         \n",
            " 27  Z_Revenue            2240 non-null   int64         \n",
            " 28  Response             2240 non-null   int64         \n",
            " 29  enrol_year           2240 non-null   object        \n",
            " 30  enrol_month          2240 non-null   object        \n",
            " 31  days                 2240 non-null   int64         \n",
            " 32  age                  2240 non-null   int64         \n",
            "dtypes: datetime64[ns](1), float64(1), int64(27), object(4)\n",
            "memory usage: 577.6+ KB\n"
          ]
        }
      ]
    },
    {
      "cell_type": "code",
      "source": [
        "# 소비자별 총 캠페인 참여 횟수를 구하여 CampaignAttendance에 저장\n",
        "# (힌트) 'AcceptedCmpN'의 자료형은 ?!\n",
        "marketing['CampaignAttendance'] = marketing['AcceptedCmp1'] +  marketing['AcceptedCmp2'] + marketing['AcceptedCmp3'] +  marketing['AcceptedCmp4'] +  marketing['AcceptedCmp5'] "
      ],
      "metadata": {
        "id": "-aBNiwsrXiL-"
      },
      "execution_count": 28,
      "outputs": []
    },
    {
      "cell_type": "code",
      "source": [
        "# 5번의 마케팅 캠페인 모두에 참여한 소비자는 없음\n",
        "marketing['CampaignAttendance'].unique()"
      ],
      "metadata": {
        "colab": {
          "base_uri": "https://localhost:8080/"
        },
        "id": "a9jztOkzbVfv",
        "outputId": "72bb3157-1408-4d8b-8919-a2216d982897"
      },
      "execution_count": 29,
      "outputs": [
        {
          "output_type": "execute_result",
          "data": {
            "text/plain": [
              "array([0, 1, 2, 3, 4])"
            ]
          },
          "metadata": {},
          "execution_count": 29
        }
      ]
    },
    {
      "cell_type": "markdown",
      "source": [
        "분석을 위해 **연속형 변수**만을 피처로 사용하겠습니다\n",
        "* (참고) https://www.kaggle.com/ededhiscalifh/marketing-campaign-eda-practice/notebook"
      ],
      "metadata": {
        "id": "icW6f_E2eCgZ"
      }
    },
    {
      "cell_type": "code",
      "source": [
        "ID = ['ID']\n",
        "features = ['days', 'age', 'Income', 'Recency', 'MntWines', 'MntFruits',\\\n",
        "                     'MntMeatProducts', 'MntFishProducts', 'MntSweetProducts',\\\n",
        "                     'MntGoldProds', 'NumDealsPurchases','NumWebPurchases', \\\n",
        "                     'NumCatalogPurchases', 'NumStorePurchases', 'NumWebVisitsMonth']\n",
        "label = ['CampaignAttendance'] "
      ],
      "metadata": {
        "id": "KeUyN8-NgZPn"
      },
      "execution_count": 30,
      "outputs": []
    },
    {
      "cell_type": "code",
      "source": [
        "print(len(features),\"차원 데이터입니다\")"
      ],
      "metadata": {
        "colab": {
          "base_uri": "https://localhost:8080/"
        },
        "id": "9-w-hBDTllT2",
        "outputId": "4fd06d66-d6bf-49bd-c174-f028c43b05ce"
      },
      "execution_count": 31,
      "outputs": [
        {
          "output_type": "stream",
          "name": "stdout",
          "text": [
            "15 차원 데이터입니다\n"
          ]
        }
      ]
    },
    {
      "cell_type": "code",
      "source": [
        "campaign = marketing[ID + features + label]"
      ],
      "metadata": {
        "id": "cV3kVHKXgmb4"
      },
      "execution_count": 32,
      "outputs": []
    },
    {
      "cell_type": "code",
      "source": [
        "# 결측값 제거\n",
        "campaign = campaign.dropna(how='any',axis=0) "
      ],
      "metadata": {
        "id": "fU-sFW9h0CgD"
      },
      "execution_count": 33,
      "outputs": []
    },
    {
      "cell_type": "code",
      "source": [
        "campaign.shape "
      ],
      "metadata": {
        "colab": {
          "base_uri": "https://localhost:8080/"
        },
        "id": "OO399Nfg1Ekz",
        "outputId": "d10494de-112b-4ad8-f396-2884fec02195"
      },
      "execution_count": 34,
      "outputs": [
        {
          "output_type": "execute_result",
          "data": {
            "text/plain": [
              "(2216, 17)"
            ]
          },
          "metadata": {},
          "execution_count": 34
        }
      ]
    },
    {
      "cell_type": "code",
      "source": [
        "campaign.head(3)"
      ],
      "metadata": {
        "colab": {
          "base_uri": "https://localhost:8080/",
          "height": 208
        },
        "id": "GUH5Ywv9-1MQ",
        "outputId": "e380ba87-155d-4055-8384-2cd6e00f011d"
      },
      "execution_count": 36,
      "outputs": [
        {
          "output_type": "execute_result",
          "data": {
            "text/html": [
              "\n",
              "  <div id=\"df-7eea3a66-9dba-4042-9dc0-77f6fa50fad7\">\n",
              "    <div class=\"colab-df-container\">\n",
              "      <div>\n",
              "<style scoped>\n",
              "    .dataframe tbody tr th:only-of-type {\n",
              "        vertical-align: middle;\n",
              "    }\n",
              "\n",
              "    .dataframe tbody tr th {\n",
              "        vertical-align: top;\n",
              "    }\n",
              "\n",
              "    .dataframe thead th {\n",
              "        text-align: right;\n",
              "    }\n",
              "</style>\n",
              "<table border=\"1\" class=\"dataframe\">\n",
              "  <thead>\n",
              "    <tr style=\"text-align: right;\">\n",
              "      <th></th>\n",
              "      <th>ID</th>\n",
              "      <th>days</th>\n",
              "      <th>age</th>\n",
              "      <th>Income</th>\n",
              "      <th>Recency</th>\n",
              "      <th>MntWines</th>\n",
              "      <th>MntFruits</th>\n",
              "      <th>MntMeatProducts</th>\n",
              "      <th>MntFishProducts</th>\n",
              "      <th>MntSweetProducts</th>\n",
              "      <th>MntGoldProds</th>\n",
              "      <th>NumDealsPurchases</th>\n",
              "      <th>NumWebPurchases</th>\n",
              "      <th>NumCatalogPurchases</th>\n",
              "      <th>NumStorePurchases</th>\n",
              "      <th>NumWebVisitsMonth</th>\n",
              "      <th>CampaignAttendance</th>\n",
              "    </tr>\n",
              "  </thead>\n",
              "  <tbody>\n",
              "    <tr>\n",
              "      <th>0</th>\n",
              "      <td>5524</td>\n",
              "      <td>3457</td>\n",
              "      <td>65</td>\n",
              "      <td>58138.0</td>\n",
              "      <td>58</td>\n",
              "      <td>635</td>\n",
              "      <td>88</td>\n",
              "      <td>546</td>\n",
              "      <td>172</td>\n",
              "      <td>88</td>\n",
              "      <td>88</td>\n",
              "      <td>3</td>\n",
              "      <td>8</td>\n",
              "      <td>10</td>\n",
              "      <td>4</td>\n",
              "      <td>7</td>\n",
              "      <td>0</td>\n",
              "    </tr>\n",
              "    <tr>\n",
              "      <th>1</th>\n",
              "      <td>2174</td>\n",
              "      <td>2907</td>\n",
              "      <td>68</td>\n",
              "      <td>46344.0</td>\n",
              "      <td>38</td>\n",
              "      <td>11</td>\n",
              "      <td>1</td>\n",
              "      <td>6</td>\n",
              "      <td>2</td>\n",
              "      <td>1</td>\n",
              "      <td>6</td>\n",
              "      <td>2</td>\n",
              "      <td>1</td>\n",
              "      <td>1</td>\n",
              "      <td>2</td>\n",
              "      <td>5</td>\n",
              "      <td>0</td>\n",
              "    </tr>\n",
              "    <tr>\n",
              "      <th>2</th>\n",
              "      <td>4141</td>\n",
              "      <td>3106</td>\n",
              "      <td>57</td>\n",
              "      <td>71613.0</td>\n",
              "      <td>26</td>\n",
              "      <td>426</td>\n",
              "      <td>49</td>\n",
              "      <td>127</td>\n",
              "      <td>111</td>\n",
              "      <td>21</td>\n",
              "      <td>42</td>\n",
              "      <td>1</td>\n",
              "      <td>8</td>\n",
              "      <td>2</td>\n",
              "      <td>10</td>\n",
              "      <td>4</td>\n",
              "      <td>0</td>\n",
              "    </tr>\n",
              "  </tbody>\n",
              "</table>\n",
              "</div>\n",
              "      <button class=\"colab-df-convert\" onclick=\"convertToInteractive('df-7eea3a66-9dba-4042-9dc0-77f6fa50fad7')\"\n",
              "              title=\"Convert this dataframe to an interactive table.\"\n",
              "              style=\"display:none;\">\n",
              "        \n",
              "  <svg xmlns=\"http://www.w3.org/2000/svg\" height=\"24px\"viewBox=\"0 0 24 24\"\n",
              "       width=\"24px\">\n",
              "    <path d=\"M0 0h24v24H0V0z\" fill=\"none\"/>\n",
              "    <path d=\"M18.56 5.44l.94 2.06.94-2.06 2.06-.94-2.06-.94-.94-2.06-.94 2.06-2.06.94zm-11 1L8.5 8.5l.94-2.06 2.06-.94-2.06-.94L8.5 2.5l-.94 2.06-2.06.94zm10 10l.94 2.06.94-2.06 2.06-.94-2.06-.94-.94-2.06-.94 2.06-2.06.94z\"/><path d=\"M17.41 7.96l-1.37-1.37c-.4-.4-.92-.59-1.43-.59-.52 0-1.04.2-1.43.59L10.3 9.45l-7.72 7.72c-.78.78-.78 2.05 0 2.83L4 21.41c.39.39.9.59 1.41.59.51 0 1.02-.2 1.41-.59l7.78-7.78 2.81-2.81c.8-.78.8-2.07 0-2.86zM5.41 20L4 18.59l7.72-7.72 1.47 1.35L5.41 20z\"/>\n",
              "  </svg>\n",
              "      </button>\n",
              "      \n",
              "  <style>\n",
              "    .colab-df-container {\n",
              "      display:flex;\n",
              "      flex-wrap:wrap;\n",
              "      gap: 12px;\n",
              "    }\n",
              "\n",
              "    .colab-df-convert {\n",
              "      background-color: #E8F0FE;\n",
              "      border: none;\n",
              "      border-radius: 50%;\n",
              "      cursor: pointer;\n",
              "      display: none;\n",
              "      fill: #1967D2;\n",
              "      height: 32px;\n",
              "      padding: 0 0 0 0;\n",
              "      width: 32px;\n",
              "    }\n",
              "\n",
              "    .colab-df-convert:hover {\n",
              "      background-color: #E2EBFA;\n",
              "      box-shadow: 0px 1px 2px rgba(60, 64, 67, 0.3), 0px 1px 3px 1px rgba(60, 64, 67, 0.15);\n",
              "      fill: #174EA6;\n",
              "    }\n",
              "\n",
              "    [theme=dark] .colab-df-convert {\n",
              "      background-color: #3B4455;\n",
              "      fill: #D2E3FC;\n",
              "    }\n",
              "\n",
              "    [theme=dark] .colab-df-convert:hover {\n",
              "      background-color: #434B5C;\n",
              "      box-shadow: 0px 1px 3px 1px rgba(0, 0, 0, 0.15);\n",
              "      filter: drop-shadow(0px 1px 2px rgba(0, 0, 0, 0.3));\n",
              "      fill: #FFFFFF;\n",
              "    }\n",
              "  </style>\n",
              "\n",
              "      <script>\n",
              "        const buttonEl =\n",
              "          document.querySelector('#df-7eea3a66-9dba-4042-9dc0-77f6fa50fad7 button.colab-df-convert');\n",
              "        buttonEl.style.display =\n",
              "          google.colab.kernel.accessAllowed ? 'block' : 'none';\n",
              "\n",
              "        async function convertToInteractive(key) {\n",
              "          const element = document.querySelector('#df-7eea3a66-9dba-4042-9dc0-77f6fa50fad7');\n",
              "          const dataTable =\n",
              "            await google.colab.kernel.invokeFunction('convertToInteractive',\n",
              "                                                     [key], {});\n",
              "          if (!dataTable) return;\n",
              "\n",
              "          const docLinkHtml = 'Like what you see? Visit the ' +\n",
              "            '<a target=\"_blank\" href=https://colab.research.google.com/notebooks/data_table.ipynb>data table notebook</a>'\n",
              "            + ' to learn more about interactive tables.';\n",
              "          element.innerHTML = '';\n",
              "          dataTable['output_type'] = 'display_data';\n",
              "          await google.colab.output.renderOutput(dataTable, element);\n",
              "          const docLink = document.createElement('div');\n",
              "          docLink.innerHTML = docLinkHtml;\n",
              "          element.appendChild(docLink);\n",
              "        }\n",
              "      </script>\n",
              "    </div>\n",
              "  </div>\n",
              "  "
            ],
            "text/plain": [
              "     ID  days  age  ...  NumStorePurchases  NumWebVisitsMonth  CampaignAttendance\n",
              "0  5524  3457   65  ...                  4                  7                   0\n",
              "1  2174  2907   68  ...                  2                  5                   0\n",
              "2  4141  3106   57  ...                 10                  4                   0\n",
              "\n",
              "[3 rows x 17 columns]"
            ]
          },
          "metadata": {},
          "execution_count": 36
        }
      ]
    },
    {
      "cell_type": "markdown",
      "source": [
        "# PCA\n",
        "* 클러스터링을 수행하기 전에 PCA를 사용해 추후 클러스터링 단계에서 사용할 주성분 개수를 구하도록 하겠습니다\n",
        "* 주성분 개수는 분산 설명 비율이 90% 이상이 되게끔 하는 값으로 구하겠습니다"
      ],
      "metadata": {
        "id": "jeHpCZcz_LPn"
      }
    },
    {
      "cell_type": "code",
      "source": [
        "# 데이터프레임의 형태로 피처셋과 레이블셋을 할당해주세요\n",
        "X = campaign.loc[:, ~campaign.columns.isin(['CampaignAttendance'])]\n",
        "y =  campaign['CampaignAttendance']"
      ],
      "metadata": {
        "id": "-zHq_43kjjoD"
      },
      "execution_count": 37,
      "outputs": []
    },
    {
      "cell_type": "code",
      "source": [
        "# Scaling 먼저 해주세요\n",
        "from sklearn.preprocessing import StandardScaler\n",
        "\n",
        "# StandardScaler객체 생성\n",
        "scaler = StandardScaler()\n",
        "# StandardScaler 로 데이터 셋 변환. fit( ) 과 transform( ) 호출.  \n",
        "scaler.fit(X)\n",
        "X_std = scaler.transform(X)\n",
        "\n",
        "\n",
        "# 시각화 위해 데이터프레임으로 변환\n",
        "X_std = pd.DataFrame(X_std, columns=X.columns, index=list(X.index.values))\n"
      ],
      "metadata": {
        "id": "770bM2QOAXc9"
      },
      "execution_count": 42,
      "outputs": []
    },
    {
      "cell_type": "code",
      "source": [
        "X_std"
      ],
      "metadata": {
        "colab": {
          "base_uri": "https://localhost:8080/",
          "height": 488
        },
        "id": "WB1M0fCBA8wB",
        "outputId": "a4e2b07d-3362-4be7-b012-68b851486ab2"
      },
      "execution_count": 43,
      "outputs": [
        {
          "output_type": "execute_result",
          "data": {
            "text/html": [
              "\n",
              "  <div id=\"df-5effa6fa-a8a3-4d1c-b7ae-4739023f0fa5\">\n",
              "    <div class=\"colab-df-container\">\n",
              "      <div>\n",
              "<style scoped>\n",
              "    .dataframe tbody tr th:only-of-type {\n",
              "        vertical-align: middle;\n",
              "    }\n",
              "\n",
              "    .dataframe tbody tr th {\n",
              "        vertical-align: top;\n",
              "    }\n",
              "\n",
              "    .dataframe thead th {\n",
              "        text-align: right;\n",
              "    }\n",
              "</style>\n",
              "<table border=\"1\" class=\"dataframe\">\n",
              "  <thead>\n",
              "    <tr style=\"text-align: right;\">\n",
              "      <th></th>\n",
              "      <th>ID</th>\n",
              "      <th>days</th>\n",
              "      <th>age</th>\n",
              "      <th>Income</th>\n",
              "      <th>Recency</th>\n",
              "      <th>MntWines</th>\n",
              "      <th>MntFruits</th>\n",
              "      <th>MntMeatProducts</th>\n",
              "      <th>MntFishProducts</th>\n",
              "      <th>MntSweetProducts</th>\n",
              "      <th>MntGoldProds</th>\n",
              "      <th>NumDealsPurchases</th>\n",
              "      <th>NumWebPurchases</th>\n",
              "      <th>NumCatalogPurchases</th>\n",
              "      <th>NumStorePurchases</th>\n",
              "      <th>NumWebVisitsMonth</th>\n",
              "    </tr>\n",
              "  </thead>\n",
              "  <tbody>\n",
              "    <tr>\n",
              "      <th>0</th>\n",
              "      <td>-0.019809</td>\n",
              "      <td>1.529129</td>\n",
              "      <td>0.986443</td>\n",
              "      <td>0.234063</td>\n",
              "      <td>0.310532</td>\n",
              "      <td>0.978226</td>\n",
              "      <td>1.549429</td>\n",
              "      <td>1.690227</td>\n",
              "      <td>2.454568</td>\n",
              "      <td>1.484827</td>\n",
              "      <td>0.850031</td>\n",
              "      <td>0.351713</td>\n",
              "      <td>1.428553</td>\n",
              "      <td>2.504712</td>\n",
              "      <td>-0.554143</td>\n",
              "      <td>0.693232</td>\n",
              "    </tr>\n",
              "    <tr>\n",
              "      <th>1</th>\n",
              "      <td>-1.051009</td>\n",
              "      <td>-1.188411</td>\n",
              "      <td>1.236801</td>\n",
              "      <td>-0.234559</td>\n",
              "      <td>-0.380509</td>\n",
              "      <td>-0.872024</td>\n",
              "      <td>-0.637328</td>\n",
              "      <td>-0.717986</td>\n",
              "      <td>-0.651038</td>\n",
              "      <td>-0.633880</td>\n",
              "      <td>-0.732867</td>\n",
              "      <td>-0.168231</td>\n",
              "      <td>-1.125881</td>\n",
              "      <td>-0.571082</td>\n",
              "      <td>-1.169518</td>\n",
              "      <td>-0.131574</td>\n",
              "    </tr>\n",
              "    <tr>\n",
              "      <th>2</th>\n",
              "      <td>-0.445526</td>\n",
              "      <td>-0.205155</td>\n",
              "      <td>0.318822</td>\n",
              "      <td>0.769478</td>\n",
              "      <td>-0.795134</td>\n",
              "      <td>0.358511</td>\n",
              "      <td>0.569159</td>\n",
              "      <td>-0.178368</td>\n",
              "      <td>1.340203</td>\n",
              "      <td>-0.146821</td>\n",
              "      <td>-0.037937</td>\n",
              "      <td>-0.688176</td>\n",
              "      <td>1.428553</td>\n",
              "      <td>-0.229327</td>\n",
              "      <td>1.291982</td>\n",
              "      <td>-0.543978</td>\n",
              "    </tr>\n",
              "    <tr>\n",
              "      <th>3</th>\n",
              "      <td>0.182737</td>\n",
              "      <td>-1.059945</td>\n",
              "      <td>-1.266777</td>\n",
              "      <td>-1.017239</td>\n",
              "      <td>-0.795134</td>\n",
              "      <td>-0.872024</td>\n",
              "      <td>-0.561922</td>\n",
              "      <td>-0.655551</td>\n",
              "      <td>-0.504892</td>\n",
              "      <td>-0.585174</td>\n",
              "      <td>-0.752171</td>\n",
              "      <td>-0.168231</td>\n",
              "      <td>-0.760962</td>\n",
              "      <td>-0.912837</td>\n",
              "      <td>-0.554143</td>\n",
              "      <td>0.280829</td>\n",
              "    </tr>\n",
              "    <tr>\n",
              "      <th>4</th>\n",
              "      <td>-0.081373</td>\n",
              "      <td>-0.951244</td>\n",
              "      <td>-1.016420</td>\n",
              "      <td>0.240221</td>\n",
              "      <td>1.554407</td>\n",
              "      <td>-0.391671</td>\n",
              "      <td>0.418348</td>\n",
              "      <td>-0.218505</td>\n",
              "      <td>0.152766</td>\n",
              "      <td>-0.000703</td>\n",
              "      <td>-0.559135</td>\n",
              "      <td>1.391603</td>\n",
              "      <td>0.333796</td>\n",
              "      <td>0.112428</td>\n",
              "      <td>0.061232</td>\n",
              "      <td>-0.131574</td>\n",
              "    </tr>\n",
              "    <tr>\n",
              "      <th>...</th>\n",
              "      <td>...</td>\n",
              "      <td>...</td>\n",
              "      <td>...</td>\n",
              "      <td>...</td>\n",
              "      <td>...</td>\n",
              "      <td>...</td>\n",
              "      <td>...</td>\n",
              "      <td>...</td>\n",
              "      <td>...</td>\n",
              "      <td>...</td>\n",
              "      <td>...</td>\n",
              "      <td>...</td>\n",
              "      <td>...</td>\n",
              "      <td>...</td>\n",
              "      <td>...</td>\n",
              "      <td>...</td>\n",
              "    </tr>\n",
              "    <tr>\n",
              "      <th>2235</th>\n",
              "      <td>1.625801</td>\n",
              "      <td>0.135772</td>\n",
              "      <td>0.151917</td>\n",
              "      <td>0.356642</td>\n",
              "      <td>-0.104093</td>\n",
              "      <td>1.197646</td>\n",
              "      <td>0.418348</td>\n",
              "      <td>0.066913</td>\n",
              "      <td>0.079693</td>\n",
              "      <td>2.215416</td>\n",
              "      <td>3.919308</td>\n",
              "      <td>-0.168231</td>\n",
              "      <td>1.793473</td>\n",
              "      <td>0.112428</td>\n",
              "      <td>-0.554143</td>\n",
              "      <td>-0.131574</td>\n",
              "    </tr>\n",
              "    <tr>\n",
              "      <th>2236</th>\n",
              "      <td>-0.488620</td>\n",
              "      <td>-1.652863</td>\n",
              "      <td>1.904422</td>\n",
              "      <td>0.467539</td>\n",
              "      <td>0.241428</td>\n",
              "      <td>0.299208</td>\n",
              "      <td>-0.662463</td>\n",
              "      <td>-0.610954</td>\n",
              "      <td>-0.687574</td>\n",
              "      <td>-0.658233</td>\n",
              "      <td>-0.694260</td>\n",
              "      <td>2.431492</td>\n",
              "      <td>1.428553</td>\n",
              "      <td>-0.229327</td>\n",
              "      <td>-0.246455</td>\n",
              "      <td>0.693232</td>\n",
              "    </tr>\n",
              "    <tr>\n",
              "      <th>2237</th>\n",
              "      <td>0.517646</td>\n",
              "      <td>-0.980889</td>\n",
              "      <td>-1.016420</td>\n",
              "      <td>0.188091</td>\n",
              "      <td>1.450751</td>\n",
              "      <td>1.787710</td>\n",
              "      <td>0.544024</td>\n",
              "      <td>0.223001</td>\n",
              "      <td>-0.102990</td>\n",
              "      <td>-0.365998</td>\n",
              "      <td>-0.385402</td>\n",
              "      <td>-0.688176</td>\n",
              "      <td>-0.760962</td>\n",
              "      <td>0.112428</td>\n",
              "      <td>2.215044</td>\n",
              "      <td>0.280829</td>\n",
              "    </tr>\n",
              "    <tr>\n",
              "      <th>2238</th>\n",
              "      <td>0.814693</td>\n",
              "      <td>-0.975948</td>\n",
              "      <td>1.069896</td>\n",
              "      <td>0.675388</td>\n",
              "      <td>-1.417072</td>\n",
              "      <td>0.364441</td>\n",
              "      <td>0.091591</td>\n",
              "      <td>0.209622</td>\n",
              "      <td>0.773887</td>\n",
              "      <td>0.072356</td>\n",
              "      <td>0.328832</td>\n",
              "      <td>-0.168231</td>\n",
              "      <td>0.698715</td>\n",
              "      <td>0.795937</td>\n",
              "      <td>1.291982</td>\n",
              "      <td>-0.956381</td>\n",
              "    </tr>\n",
              "    <tr>\n",
              "      <th>2239</th>\n",
              "      <td>1.174843</td>\n",
              "      <td>1.326548</td>\n",
              "      <td>1.236801</td>\n",
              "      <td>0.024705</td>\n",
              "      <td>-0.311405</td>\n",
              "      <td>-0.655568</td>\n",
              "      <td>-0.587058</td>\n",
              "      <td>-0.472705</td>\n",
              "      <td>-0.651038</td>\n",
              "      <td>-0.633880</td>\n",
              "      <td>-0.443313</td>\n",
              "      <td>0.351713</td>\n",
              "      <td>-0.396043</td>\n",
              "      <td>-0.571082</td>\n",
              "      <td>-0.554143</td>\n",
              "      <td>0.693232</td>\n",
              "    </tr>\n",
              "  </tbody>\n",
              "</table>\n",
              "<p>2216 rows × 16 columns</p>\n",
              "</div>\n",
              "      <button class=\"colab-df-convert\" onclick=\"convertToInteractive('df-5effa6fa-a8a3-4d1c-b7ae-4739023f0fa5')\"\n",
              "              title=\"Convert this dataframe to an interactive table.\"\n",
              "              style=\"display:none;\">\n",
              "        \n",
              "  <svg xmlns=\"http://www.w3.org/2000/svg\" height=\"24px\"viewBox=\"0 0 24 24\"\n",
              "       width=\"24px\">\n",
              "    <path d=\"M0 0h24v24H0V0z\" fill=\"none\"/>\n",
              "    <path d=\"M18.56 5.44l.94 2.06.94-2.06 2.06-.94-2.06-.94-.94-2.06-.94 2.06-2.06.94zm-11 1L8.5 8.5l.94-2.06 2.06-.94-2.06-.94L8.5 2.5l-.94 2.06-2.06.94zm10 10l.94 2.06.94-2.06 2.06-.94-2.06-.94-.94-2.06-.94 2.06-2.06.94z\"/><path d=\"M17.41 7.96l-1.37-1.37c-.4-.4-.92-.59-1.43-.59-.52 0-1.04.2-1.43.59L10.3 9.45l-7.72 7.72c-.78.78-.78 2.05 0 2.83L4 21.41c.39.39.9.59 1.41.59.51 0 1.02-.2 1.41-.59l7.78-7.78 2.81-2.81c.8-.78.8-2.07 0-2.86zM5.41 20L4 18.59l7.72-7.72 1.47 1.35L5.41 20z\"/>\n",
              "  </svg>\n",
              "      </button>\n",
              "      \n",
              "  <style>\n",
              "    .colab-df-container {\n",
              "      display:flex;\n",
              "      flex-wrap:wrap;\n",
              "      gap: 12px;\n",
              "    }\n",
              "\n",
              "    .colab-df-convert {\n",
              "      background-color: #E8F0FE;\n",
              "      border: none;\n",
              "      border-radius: 50%;\n",
              "      cursor: pointer;\n",
              "      display: none;\n",
              "      fill: #1967D2;\n",
              "      height: 32px;\n",
              "      padding: 0 0 0 0;\n",
              "      width: 32px;\n",
              "    }\n",
              "\n",
              "    .colab-df-convert:hover {\n",
              "      background-color: #E2EBFA;\n",
              "      box-shadow: 0px 1px 2px rgba(60, 64, 67, 0.3), 0px 1px 3px 1px rgba(60, 64, 67, 0.15);\n",
              "      fill: #174EA6;\n",
              "    }\n",
              "\n",
              "    [theme=dark] .colab-df-convert {\n",
              "      background-color: #3B4455;\n",
              "      fill: #D2E3FC;\n",
              "    }\n",
              "\n",
              "    [theme=dark] .colab-df-convert:hover {\n",
              "      background-color: #434B5C;\n",
              "      box-shadow: 0px 1px 3px 1px rgba(0, 0, 0, 0.15);\n",
              "      filter: drop-shadow(0px 1px 2px rgba(0, 0, 0, 0.3));\n",
              "      fill: #FFFFFF;\n",
              "    }\n",
              "  </style>\n",
              "\n",
              "      <script>\n",
              "        const buttonEl =\n",
              "          document.querySelector('#df-5effa6fa-a8a3-4d1c-b7ae-4739023f0fa5 button.colab-df-convert');\n",
              "        buttonEl.style.display =\n",
              "          google.colab.kernel.accessAllowed ? 'block' : 'none';\n",
              "\n",
              "        async function convertToInteractive(key) {\n",
              "          const element = document.querySelector('#df-5effa6fa-a8a3-4d1c-b7ae-4739023f0fa5');\n",
              "          const dataTable =\n",
              "            await google.colab.kernel.invokeFunction('convertToInteractive',\n",
              "                                                     [key], {});\n",
              "          if (!dataTable) return;\n",
              "\n",
              "          const docLinkHtml = 'Like what you see? Visit the ' +\n",
              "            '<a target=\"_blank\" href=https://colab.research.google.com/notebooks/data_table.ipynb>data table notebook</a>'\n",
              "            + ' to learn more about interactive tables.';\n",
              "          element.innerHTML = '';\n",
              "          dataTable['output_type'] = 'display_data';\n",
              "          await google.colab.output.renderOutput(dataTable, element);\n",
              "          const docLink = document.createElement('div');\n",
              "          docLink.innerHTML = docLinkHtml;\n",
              "          element.appendChild(docLink);\n",
              "        }\n",
              "      </script>\n",
              "    </div>\n",
              "  </div>\n",
              "  "
            ],
            "text/plain": [
              "            ID      days  ...  NumStorePurchases  NumWebVisitsMonth\n",
              "0    -0.019809  1.529129  ...          -0.554143           0.693232\n",
              "1    -1.051009 -1.188411  ...          -1.169518          -0.131574\n",
              "2    -0.445526 -0.205155  ...           1.291982          -0.543978\n",
              "3     0.182737 -1.059945  ...          -0.554143           0.280829\n",
              "4    -0.081373 -0.951244  ...           0.061232          -0.131574\n",
              "...        ...       ...  ...                ...                ...\n",
              "2235  1.625801  0.135772  ...          -0.554143          -0.131574\n",
              "2236 -0.488620 -1.652863  ...          -0.246455           0.693232\n",
              "2237  0.517646 -0.980889  ...           2.215044           0.280829\n",
              "2238  0.814693 -0.975948  ...           1.291982          -0.956381\n",
              "2239  1.174843  1.326548  ...          -0.554143           0.693232\n",
              "\n",
              "[2216 rows x 16 columns]"
            ]
          },
          "metadata": {},
          "execution_count": 43
        }
      ]
    },
    {
      "cell_type": "markdown",
      "source": [
        "원본 차원의 수만큼 총 15개의 주성분을 생성하겠습니다"
      ],
      "metadata": {
        "id": "0vLgiUbd1eqL"
      }
    },
    {
      "cell_type": "code",
      "source": [
        "from sklearn.decomposition import PCA\n",
        "\n",
        "pca =  PCA(n_components=15)\n",
        "pca.fit(X_std) # PCA에는 scaling한 데이터를 넣어주어야 합니다\n",
        "X_pca = pca.transform(X_std)"
      ],
      "metadata": {
        "id": "21j5wNcIlXDj"
      },
      "execution_count": 44,
      "outputs": []
    },
    {
      "cell_type": "code",
      "source": [
        "X_pca.shape"
      ],
      "metadata": {
        "colab": {
          "base_uri": "https://localhost:8080/"
        },
        "id": "VzkGK-QMGp_0",
        "outputId": "91b12159-0e58-40ef-ed5d-01913aea158b"
      },
      "execution_count": 62,
      "outputs": [
        {
          "output_type": "execute_result",
          "data": {
            "text/plain": [
              "(2216, 15)"
            ]
          },
          "metadata": {},
          "execution_count": 62
        }
      ]
    },
    {
      "cell_type": "code",
      "source": [
        "# 데이터프레임 변환\n",
        "X_pca = pd.DataFrame(data=X_pca) "
      ],
      "metadata": {
        "id": "hxzFwmh_lzl7"
      },
      "execution_count": 45,
      "outputs": []
    },
    {
      "cell_type": "code",
      "source": [
        "# 100%가 되어야 합니다\n",
        "print(\"15개의 주성분에 의해 설명되는 분산 비율: \", sum(pca.explained_variance_ratio_))"
      ],
      "metadata": {
        "colab": {
          "base_uri": "https://localhost:8080/"
        },
        "id": "CzRDC7VHmLiY",
        "outputId": "2ba3f309-6cf2-4d8a-9f91-079f64358cd1"
      },
      "execution_count": 46,
      "outputs": [
        {
          "output_type": "stream",
          "name": "stdout",
          "text": [
            "15개의 주성분에 의해 설명되는 분산 비율:  0.9865634280023452\n"
          ]
        }
      ]
    },
    {
      "cell_type": "code",
      "source": [
        "# 15개의 주성분을 중요도 순으로 나열합니다\n",
        "importanceOfPrincipalComponents = pd.DataFrame(data=pca.explained_variance_ratio_)"
      ],
      "metadata": {
        "id": "tLS776ZcmNn-"
      },
      "execution_count": 47,
      "outputs": []
    },
    {
      "cell_type": "markdown",
      "source": [
        "총 분산의 90%이상을 잡아내는 주성분의 개수를 구하세요!\n",
        "* 이후 클러스터링 학습 시 해당 개수만큼 차원 축소한 피처셋을 이용할 겁니다"
      ],
      "metadata": {
        "id": "cBgh60JC13Su"
      }
    },
    {
      "cell_type": "code",
      "source": [
        "# 처음 N개 주성분의 중요도\n",
        "importanceOfPrincipalComponents = importanceOfPrincipalComponents.T\n",
        "\n",
        "print('처음 2개의 주성분에 의해 설명되는 분산 비율: ',\n",
        "      importanceOfPrincipalComponents.loc[:,0:1].sum(axis=1).values)\n",
        "print('처음 3개의 주성분에 의해 설명되는 분산 비율: ',\n",
        "      importanceOfPrincipalComponents.loc[:,0:2].sum(axis=1).values)\n",
        "print('처음 10개의 주성분에 의해 설명되는 분산 비율: ',\n",
        "      importanceOfPrincipalComponents.loc[:,0:9].sum(axis=1).values)\n",
        "print('처음 12개의 주성분에 의해 설명되는 분산 비율: ',\n",
        "      importanceOfPrincipalComponents.loc[:,0:11].sum(axis=1).values)\n",
        "print('처음 13개의 주성분에 의해 설명되는 분산 비율: ',\n",
        "      importanceOfPrincipalComponents.loc[:,0:12].sum(axis=1).values)\n",
        "print('처음 14개의 주성분에 의해 설명되는 분산 비율: ',\n",
        "      importanceOfPrincipalComponents.loc[:,0:13].sum(axis=1).values)"
      ],
      "metadata": {
        "id": "VaYbrKHsmP8n",
        "colab": {
          "base_uri": "https://localhost:8080/"
        },
        "outputId": "f1e6a843-40d7-44a8-975b-e2602566f3a4"
      },
      "execution_count": 52,
      "outputs": [
        {
          "output_type": "stream",
          "name": "stdout",
          "text": [
            "처음 2개의 주성분에 의해 설명되는 분산 비율:  [0.46618847]\n",
            "처음 3개의 주성분에 의해 설명되는 분산 비율:  [0.53903776]\n",
            "처음 10개의 주성분에 의해 설명되는 분산 비율:  [0.87437521]\n",
            "처음 12개의 주성분에 의해 설명되는 분산 비율:  [0.92728357]\n",
            "처음 13개의 주성분에 의해 설명되는 분산 비율:  [0.95147919]\n",
            "처음 14개의 주성분에 의해 설명되는 분산 비율:  [0.97107798]\n"
          ]
        }
      ]
    },
    {
      "cell_type": "code",
      "source": [
        "# 처음 두 개의 주성분을 이용하여 2차원 평면에 데이터셋의 분포를 나타내겠습니다\n",
        "def scatterPlot(xDF, yDF):\n",
        "    tempDF = pd.DataFrame(data=xDF.loc[:,0:1], index=xDF.index) \n",
        "    tempDF = pd.concat((tempDF,yDF), axis=1, join=\"inner\")\n",
        "    tempDF.columns = [\"First Vector\", \"Second Vector\", \"Label\"]\n",
        "    sns.lmplot(x=\"First Vector\", y=\"Second Vector\", hue=\"Label\", \\\n",
        "               data=tempDF, fit_reg=False)\n",
        "    ax = plt.gca()\n",
        "    plt.show()"
      ],
      "metadata": {
        "id": "IoKw-srknNpg"
      },
      "execution_count": 53,
      "outputs": []
    },
    {
      "cell_type": "code",
      "source": [
        "# 설명력이 별로군여 ㅠㅅㅠ\n",
        "scatterPlot(X_pca, y)"
      ],
      "metadata": {
        "colab": {
          "base_uri": "https://localhost:8080/",
          "height": 369
        },
        "id": "jjysWUjdnTBy",
        "outputId": "0f77c85e-92e0-47b0-bb3c-a8184aec84fe"
      },
      "execution_count": 54,
      "outputs": [
        {
          "output_type": "display_data",
          "data": {
            "image/png": "[encoded data removed]",
            "text/plain": [
              "<Figure size 402.375x360 with 1 Axes>"
            ]
          },
          "metadata": {
            "needs_background": "light"
          }
        }
      ]
    },
    {
      "cell_type": "markdown",
      "source": [
        "# 클러스터링\n",
        "* PCA를 통해 구한 상위 $x$개(분산 설명력 90% 이상)의 주성분을 사용하여 클러스터링을 하고자 합니다"
      ],
      "metadata": {
        "id": "1QvHQjU4nlzT"
      }
    },
    {
      "cell_type": "code",
      "source": [
        "from sklearn.cluster import KMeans"
      ],
      "metadata": {
        "id": "w5mGBqOan1Fe"
      },
      "execution_count": 55,
      "outputs": []
    },
    {
      "cell_type": "code",
      "source": [
        "# 파라미터를 설정해주세요\n",
        "n_clusters = 5 # 군집수\n",
        "n_init = 4 # 초기화 횟수\n",
        "max_iter = 300  # 학습(군집 재할당)의 반복 횟수\n",
        "tol = 0.001 # 너무 오랜 시간 반복하는 경우에 대비해 tol만큼 줄어들지 않으면 조기 종료\n",
        "random_state = 42\n",
        "\n",
        "kmeans = KMeans(n_clusters=n_clusters, n_init=n_init, \\\n",
        "      max_iter=max_iter, tol=tol, random_state=random_state)"
      ],
      "metadata": {
        "id": "ygKSkQ-gnoYe"
      },
      "execution_count": 56,
      "outputs": []
    },
    {
      "cell_type": "code",
      "source": [
        "N=10"
      ],
      "metadata": {
        "id": "l3lKDaeJFUOA"
      },
      "execution_count": 57,
      "outputs": []
    },
    {
      "cell_type": "code",
      "source": [
        "# 처음 N개의 주성분만을 이용하고자 합니다\n",
        "cutoff = N-1 # 앞서 구한 주성분 개수 - 1\n",
        "X_train_Kmeans = X_pca.loc[:,0:cutoff]\n",
        "print(X_train_Kmeans)"
      ],
      "metadata": {
        "colab": {
          "base_uri": "https://localhost:8080/"
        },
        "id": "HiHxTpglFdBB",
        "outputId": "bb62ced5-0ca4-42d3-d682-d64857cf1b4b"
      },
      "execution_count": 59,
      "outputs": [
        {
          "output_type": "stream",
          "name": "stdout",
          "text": [
            "             0         1         2  ...         7         8         9\n",
            "0     3.792432  1.441846 -1.188708  ...  0.902760  0.257939  2.130698\n",
            "1    -2.116525 -1.188087  1.428016  ...  0.463269  0.289036  0.246980\n",
            "2     1.667846 -0.044313  0.500361  ... -0.913294 -1.059667 -0.448627\n",
            "3    -2.376262 -1.001722 -0.552789  ...  0.041859 -0.125810 -0.049045\n",
            "4    -0.066335  0.124804 -0.202264  ...  1.176385 -0.433120  0.011208\n",
            "...        ...       ...       ...  ...       ...       ...       ...\n",
            "2211  2.627261  1.143630 -0.701835  ... -1.832286  1.289507  1.045767\n",
            "2212 -0.789130  1.770798  2.991630  ...  1.160588 -0.470277  0.945593\n",
            "2213  1.031464 -0.597690  0.110505  ... -0.854696 -0.871251 -1.051934\n",
            "2214  1.882094 -0.471917  1.509447  ... -0.063488 -0.014604 -0.321838\n",
            "2215 -1.562218  0.924936  0.557358  ...  0.314076  0.096718 -0.260834\n",
            "\n",
            "[2216 rows x 10 columns]\n"
          ]
        }
      ]
    },
    {
      "cell_type": "code",
      "source": [
        " kmeans.fit(X_train_Kmeans)"
      ],
      "metadata": {
        "id": "OaEiMeHYn8Bf",
        "colab": {
          "base_uri": "https://localhost:8080/"
        },
        "outputId": "d96d28c7-776e-49cb-8ea2-3532b72208cf"
      },
      "execution_count": 63,
      "outputs": [
        {
          "output_type": "execute_result",
          "data": {
            "text/plain": [
              "KMeans(n_clusters=5, n_init=4, random_state=42, tol=0.001)"
            ]
          },
          "metadata": {},
          "execution_count": 63
        }
      ]
    },
    {
      "cell_type": "code",
      "source": [
        "kmeans.labels_"
      ],
      "metadata": {
        "colab": {
          "base_uri": "https://localhost:8080/"
        },
        "id": "in1cD4QxHX2d",
        "outputId": "c4639630-ff5b-467b-e281-a155bc525e69"
      },
      "execution_count": 64,
      "outputs": [
        {
          "output_type": "execute_result",
          "data": {
            "text/plain": [
              "array([3, 4, 0, ..., 0, 0, 1], dtype=int32)"
            ]
          },
          "metadata": {},
          "execution_count": 64
        }
      ]
    },
    {
      "cell_type": "code",
      "source": [
        "# 클러스터링 결과 \n",
        "result = X_train_Kmeans.copy()\n",
        "\n",
        "result[\"cluster\"] =  kmeans.labels_"
      ],
      "metadata": {
        "id": "oDO1FVnboGQ2"
      },
      "execution_count": 65,
      "outputs": []
    },
    {
      "cell_type": "code",
      "source": [
        "result.head()"
      ],
      "metadata": {
        "colab": {
          "base_uri": "https://localhost:8080/",
          "height": 206
        },
        "id": "NYISQ42roH5O",
        "outputId": "d3710222-e573-4717-8183-e9485ac78252"
      },
      "execution_count": 66,
      "outputs": [
        {
          "output_type": "execute_result",
          "data": {
            "text/html": [
              "\n",
              "  <div id=\"df-85b593d5-4604-4cc4-ade5-0fea61d2ed04\">\n",
              "    <div class=\"colab-df-container\">\n",
              "      <div>\n",
              "<style scoped>\n",
              "    .dataframe tbody tr th:only-of-type {\n",
              "        vertical-align: middle;\n",
              "    }\n",
              "\n",
              "    .dataframe tbody tr th {\n",
              "        vertical-align: top;\n",
              "    }\n",
              "\n",
              "    .dataframe thead th {\n",
              "        text-align: right;\n",
              "    }\n",
              "</style>\n",
              "<table border=\"1\" class=\"dataframe\">\n",
              "  <thead>\n",
              "    <tr style=\"text-align: right;\">\n",
              "      <th></th>\n",
              "      <th>0</th>\n",
              "      <th>1</th>\n",
              "      <th>2</th>\n",
              "      <th>3</th>\n",
              "      <th>4</th>\n",
              "      <th>5</th>\n",
              "      <th>6</th>\n",
              "      <th>7</th>\n",
              "      <th>8</th>\n",
              "      <th>9</th>\n",
              "      <th>cluster</th>\n",
              "    </tr>\n",
              "  </thead>\n",
              "  <tbody>\n",
              "    <tr>\n",
              "      <th>0</th>\n",
              "      <td>3.792432</td>\n",
              "      <td>1.441846</td>\n",
              "      <td>-1.188708</td>\n",
              "      <td>-0.267356</td>\n",
              "      <td>-0.450181</td>\n",
              "      <td>-1.670218</td>\n",
              "      <td>0.680131</td>\n",
              "      <td>0.902760</td>\n",
              "      <td>0.257939</td>\n",
              "      <td>2.130698</td>\n",
              "      <td>3</td>\n",
              "    </tr>\n",
              "    <tr>\n",
              "      <th>1</th>\n",
              "      <td>-2.116525</td>\n",
              "      <td>-1.188087</td>\n",
              "      <td>1.428016</td>\n",
              "      <td>-0.585560</td>\n",
              "      <td>0.974661</td>\n",
              "      <td>-0.775770</td>\n",
              "      <td>0.039491</td>\n",
              "      <td>0.463269</td>\n",
              "      <td>0.289036</td>\n",
              "      <td>0.246980</td>\n",
              "      <td>4</td>\n",
              "    </tr>\n",
              "    <tr>\n",
              "      <th>2</th>\n",
              "      <td>1.667846</td>\n",
              "      <td>-0.044313</td>\n",
              "      <td>0.500361</td>\n",
              "      <td>0.385875</td>\n",
              "      <td>0.997256</td>\n",
              "      <td>-0.233787</td>\n",
              "      <td>-0.368134</td>\n",
              "      <td>-0.913294</td>\n",
              "      <td>-1.059667</td>\n",
              "      <td>-0.448627</td>\n",
              "      <td>0</td>\n",
              "    </tr>\n",
              "    <tr>\n",
              "      <th>3</th>\n",
              "      <td>-2.376262</td>\n",
              "      <td>-1.001722</td>\n",
              "      <td>-0.552789</td>\n",
              "      <td>0.678006</td>\n",
              "      <td>0.629780</td>\n",
              "      <td>0.761089</td>\n",
              "      <td>-0.580799</td>\n",
              "      <td>0.041859</td>\n",
              "      <td>-0.125810</td>\n",
              "      <td>-0.049045</td>\n",
              "      <td>4</td>\n",
              "    </tr>\n",
              "    <tr>\n",
              "      <th>4</th>\n",
              "      <td>-0.066335</td>\n",
              "      <td>0.124804</td>\n",
              "      <td>-0.202264</td>\n",
              "      <td>-1.118983</td>\n",
              "      <td>-0.653129</td>\n",
              "      <td>1.295920</td>\n",
              "      <td>-1.341627</td>\n",
              "      <td>1.176385</td>\n",
              "      <td>-0.433120</td>\n",
              "      <td>0.011208</td>\n",
              "      <td>2</td>\n",
              "    </tr>\n",
              "  </tbody>\n",
              "</table>\n",
              "</div>\n",
              "      <button class=\"colab-df-convert\" onclick=\"convertToInteractive('df-85b593d5-4604-4cc4-ade5-0fea61d2ed04')\"\n",
              "              title=\"Convert this dataframe to an interactive table.\"\n",
              "              style=\"display:none;\">\n",
              "        \n",
              "  <svg xmlns=\"http://www.w3.org/2000/svg\" height=\"24px\"viewBox=\"0 0 24 24\"\n",
              "       width=\"24px\">\n",
              "    <path d=\"M0 0h24v24H0V0z\" fill=\"none\"/>\n",
              "    <path d=\"M18.56 5.44l.94 2.06.94-2.06 2.06-.94-2.06-.94-.94-2.06-.94 2.06-2.06.94zm-11 1L8.5 8.5l.94-2.06 2.06-.94-2.06-.94L8.5 2.5l-.94 2.06-2.06.94zm10 10l.94 2.06.94-2.06 2.06-.94-2.06-.94-.94-2.06-.94 2.06-2.06.94z\"/><path d=\"M17.41 7.96l-1.37-1.37c-.4-.4-.92-.59-1.43-.59-.52 0-1.04.2-1.43.59L10.3 9.45l-7.72 7.72c-.78.78-.78 2.05 0 2.83L4 21.41c.39.39.9.59 1.41.59.51 0 1.02-.2 1.41-.59l7.78-7.78 2.81-2.81c.8-.78.8-2.07 0-2.86zM5.41 20L4 18.59l7.72-7.72 1.47 1.35L5.41 20z\"/>\n",
              "  </svg>\n",
              "      </button>\n",
              "      \n",
              "  <style>\n",
              "    .colab-df-container {\n",
              "      display:flex;\n",
              "      flex-wrap:wrap;\n",
              "      gap: 12px;\n",
              "    }\n",
              "\n",
              "    .colab-df-convert {\n",
              "      background-color: #E8F0FE;\n",
              "      border: none;\n",
              "      border-radius: 50%;\n",
              "      cursor: pointer;\n",
              "      display: none;\n",
              "      fill: #1967D2;\n",
              "      height: 32px;\n",
              "      padding: 0 0 0 0;\n",
              "      width: 32px;\n",
              "    }\n",
              "\n",
              "    .colab-df-convert:hover {\n",
              "      background-color: #E2EBFA;\n",
              "      box-shadow: 0px 1px 2px rgba(60, 64, 67, 0.3), 0px 1px 3px 1px rgba(60, 64, 67, 0.15);\n",
              "      fill: #174EA6;\n",
              "    }\n",
              "\n",
              "    [theme=dark] .colab-df-convert {\n",
              "      background-color: #3B4455;\n",
              "      fill: #D2E3FC;\n",
              "    }\n",
              "\n",
              "    [theme=dark] .colab-df-convert:hover {\n",
              "      background-color: #434B5C;\n",
              "      box-shadow: 0px 1px 3px 1px rgba(0, 0, 0, 0.15);\n",
              "      filter: drop-shadow(0px 1px 2px rgba(0, 0, 0, 0.3));\n",
              "      fill: #FFFFFF;\n",
              "    }\n",
              "  </style>\n",
              "\n",
              "      <script>\n",
              "        const buttonEl =\n",
              "          document.querySelector('#df-85b593d5-4604-4cc4-ade5-0fea61d2ed04 button.colab-df-convert');\n",
              "        buttonEl.style.display =\n",
              "          google.colab.kernel.accessAllowed ? 'block' : 'none';\n",
              "\n",
              "        async function convertToInteractive(key) {\n",
              "          const element = document.querySelector('#df-85b593d5-4604-4cc4-ade5-0fea61d2ed04');\n",
              "          const dataTable =\n",
              "            await google.colab.kernel.invokeFunction('convertToInteractive',\n",
              "                                                     [key], {});\n",
              "          if (!dataTable) return;\n",
              "\n",
              "          const docLinkHtml = 'Like what you see? Visit the ' +\n",
              "            '<a target=\"_blank\" href=https://colab.research.google.com/notebooks/data_table.ipynb>data table notebook</a>'\n",
              "            + ' to learn more about interactive tables.';\n",
              "          element.innerHTML = '';\n",
              "          dataTable['output_type'] = 'display_data';\n",
              "          await google.colab.output.renderOutput(dataTable, element);\n",
              "          const docLink = document.createElement('div');\n",
              "          docLink.innerHTML = docLinkHtml;\n",
              "          element.appendChild(docLink);\n",
              "        }\n",
              "      </script>\n",
              "    </div>\n",
              "  </div>\n",
              "  "
            ],
            "text/plain": [
              "          0         1         2  ...         8         9  cluster\n",
              "0  3.792432  1.441846 -1.188708  ...  0.257939  2.130698        3\n",
              "1 -2.116525 -1.188087  1.428016  ...  0.289036  0.246980        4\n",
              "2  1.667846 -0.044313  0.500361  ... -1.059667 -0.448627        0\n",
              "3 -2.376262 -1.001722 -0.552789  ... -0.125810 -0.049045        4\n",
              "4 -0.066335  0.124804 -0.202264  ... -0.433120  0.011208        2\n",
              "\n",
              "[5 rows x 11 columns]"
            ]
          },
          "metadata": {},
          "execution_count": 66
        }
      ]
    },
    {
      "cell_type": "code",
      "source": [
        "def ClusteringPlot(xDF):\n",
        "    tempDF = pd.DataFrame(data=xDF.loc[:,0:1], index=xDF.index)\n",
        "    tempDF = pd.concat((tempDF,xDF[\"cluster\"]), axis=1, join=\"inner\")\n",
        "    tempDF.columns = [\"First Vector\", \"Second Vector\", \"cluster\"]\n",
        "    sns.lmplot(x=\"First Vector\", y=\"Second Vector\", hue=\"cluster\", \\\n",
        "               data=tempDF, fit_reg=False)\n",
        "    ax = plt.gca()\n",
        "    plt.show()"
      ],
      "metadata": {
        "id": "bFICf9Q4oJmu"
      },
      "execution_count": 68,
      "outputs": []
    },
    {
      "cell_type": "code",
      "source": [
        "ClusteringPlot(result)"
      ],
      "metadata": {
        "colab": {
          "base_uri": "https://localhost:8080/",
          "height": 369
        },
        "id": "vHGlTTnQoLYS",
        "outputId": "cabf7d52-1a31-42f5-bca2-23d7a70a8ecc"
      },
      "execution_count": 69,
      "outputs": [
        {
          "output_type": "display_data",
          "data": {
            "image/png": "[encoded data removed]",
            "text/plain": [
              "<Figure size 402.375x360 with 1 Axes>"
            ]
          },
          "metadata": {
            "needs_background": "light"
          }
        }
      ]
    },
    {
      "cell_type": "markdown",
      "source": [
        "결과물에 대한 해석 한두줄 \n",
        "\n",
        "실제 값에 애초에 패턴이 없으므로 k means를 해도 결과는 같다. "
      ],
      "metadata": {
        "id": "WJiFXKhf4FCM"
      }
    }
  ]
}