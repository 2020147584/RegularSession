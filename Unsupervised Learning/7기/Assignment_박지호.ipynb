{
  "nbformat": 4,
  "nbformat_minor": 0,
  "metadata": {
    "colab": {
      "name": "Assignment.ipynb",
      "provenance": [],
      "collapsed_sections": []
    },
    "kernelspec": {
      "name": "python3",
      "display_name": "Python 3"
    },
    "language_info": {
      "name": "python"
    }
  },
  "cells": [
    {
      "cell_type": "code",
      "execution_count": 154,
      "metadata": {
        "id": "K2oRmXJ_iCrD"
      },
      "outputs": [],
      "source": [
        "# 라이브러리 불러오기\n",
        "'''메인 라이브러리'''\n",
        "import numpy as np\n",
        "import pandas as pd\n",
        "\n",
        "'''시각화 관련 라이브러리'''\n",
        "import matplotlib.pyplot as plt\n",
        "import seaborn as sns\n",
        "color = sns.color_palette()\n",
        "import matplotlib as mpl"
      ]
    },
    {
      "cell_type": "code",
      "source": [
        "from google.colab import drive\n",
        "drive.mount('/content/drive')"
      ],
      "metadata": {
        "colab": {
          "base_uri": "https://localhost:8080/"
        },
        "id": "uMOnhSg5Pp2j",
        "outputId": "bf709659-e39a-4517-d922-dcfde559570d"
      },
      "execution_count": 155,
      "outputs": [
        {
          "output_type": "stream",
          "name": "stdout",
          "text": [
            "Drive already mounted at /content/drive; to attempt to forcibly remount, call drive.mount(\"/content/drive\", force_remount=True).\n"
          ]
        }
      ]
    },
    {
      "cell_type": "markdown",
      "source": [
        "# 마케팅 캠페인 데이터셋\n",
        "* 어떤 특성(피처)을 가진 소비자가 마케팅 캠페인에 더 많이 참여했는지 분석하고자 합니다\n",
        "* (참고) [캐글](https://www.kaggle.com/rodsaldanha/arketing-campaign) \n"
      ],
      "metadata": {
        "id": "w0PvzHd8ujf0"
      }
    },
    {
      "cell_type": "code",
      "source": [
        "base_path = \"/content/drive/MyDrive/DataScienceLab/정규 세션/220215_정규세션_Unsupervised Learning/220215 Unsupervised Learning\"\n",
        "marketing = pd.read_csv(base_path + \"/marketing_campaign.csv\", \\\n",
        "                 sep =';')"
      ],
      "metadata": {
        "id": "_rfncxFsiNQ_"
      },
      "execution_count": 156,
      "outputs": []
    },
    {
      "cell_type": "markdown",
      "source": [
        "### 전처리\n",
        "* (참고) [EDA B조 코드](https://github.com/yonsei-dsl/7th_EDA/blob/main/B%EC%A1%B0/EDA_B%EC%A1%B0_%EC%BD%94%EB%93%9C.ipynb) - 감사합니다 :)"
      ],
      "metadata": {
        "id": "P6Mf_ROcvyc2"
      }
    },
    {
      "cell_type": "code",
      "source": [
        "# company에 enrol한 연도, 월 따로 저장\n",
        "marketing.Dt_Customer = pd.to_datetime(marketing.Dt_Customer)\n",
        "marketing[\"enrol_year\"] = marketing.Dt_Customer.dt.strftime(\"%Y\")\n",
        "marketing[\"enrol_month\"] = marketing.Dt_Customer.dt.strftime(\"%m\")"
      ],
      "metadata": {
        "id": "bDghHQDc-8Xk"
      },
      "execution_count": 157,
      "outputs": []
    },
    {
      "cell_type": "code",
      "source": [
        "from datetime import datetime\n",
        "# 현재까지의 회원일수 따로 저장\n",
        "y = pd.to_datetime(datetime.today().strftime(\"%Y-%m-%d\"))"
      ],
      "metadata": {
        "id": "vC71uOWT9ofh"
      },
      "execution_count": 158,
      "outputs": []
    },
    {
      "cell_type": "code",
      "source": [
        "marketing['days'] = y - marketing.Dt_Customer\n",
        "marketing['days'] = marketing['days'] / np.timedelta64(1, 'D')\n",
        "marketing['days'] = marketing['days'].astype(int) # int형으로 변환"
      ],
      "metadata": {
        "id": "O80CRNgLWJZS"
      },
      "execution_count": 159,
      "outputs": []
    },
    {
      "cell_type": "code",
      "source": [
        "# 나이를 age에 저장\n",
        "marketing['age'] = 2022-marketing['Year_Birth']"
      ],
      "metadata": {
        "id": "NWdikV0oWKTG"
      },
      "execution_count": 160,
      "outputs": []
    },
    {
      "cell_type": "code",
      "source": [
        "marketing.columns"
      ],
      "metadata": {
        "colab": {
          "base_uri": "https://localhost:8080/"
        },
        "id": "uudbWwIPWZSk",
        "outputId": "d572cfe7-c30b-40d3-929e-a6be09877399"
      },
      "execution_count": 161,
      "outputs": [
        {
          "output_type": "execute_result",
          "data": {
            "text/plain": [
              "Index(['ID', 'Year_Birth', 'Education', 'Marital_Status', 'Income', 'Kidhome',\n",
              "       'Teenhome', 'Dt_Customer', 'Recency', 'MntWines', 'MntFruits',\n",
              "       'MntMeatProducts', 'MntFishProducts', 'MntSweetProducts',\n",
              "       'MntGoldProds', 'NumDealsPurchases', 'NumWebPurchases',\n",
              "       'NumCatalogPurchases', 'NumStorePurchases', 'NumWebVisitsMonth',\n",
              "       'AcceptedCmp3', 'AcceptedCmp4', 'AcceptedCmp5', 'AcceptedCmp1',\n",
              "       'AcceptedCmp2', 'Complain', 'Z_CostContact', 'Z_Revenue', 'Response',\n",
              "       'enrol_year', 'enrol_month', 'days', 'age'],\n",
              "      dtype='object')"
            ]
          },
          "metadata": {},
          "execution_count": 161
        }
      ]
    },
    {
      "cell_type": "markdown",
      "source": [
        "5차례의 마케팅 캠페인에 총 몇 회 참여했는지에 따라 소비자 군집을 만들고자 합니다 \\\n",
        " "
      ],
      "metadata": {
        "id": "w3zkiWthZPhv"
      }
    },
    {
      "cell_type": "code",
      "source": [
        "marketing['AcceptedCmp1'].dtype"
      ],
      "metadata": {
        "colab": {
          "base_uri": "https://localhost:8080/"
        },
        "id": "lBcVyIsrQiyC",
        "outputId": "54c867d5-ddb8-4029-a87a-08d661aef575"
      },
      "execution_count": 162,
      "outputs": [
        {
          "output_type": "execute_result",
          "data": {
            "text/plain": [
              "dtype('int64')"
            ]
          },
          "metadata": {},
          "execution_count": 162
        }
      ]
    },
    {
      "cell_type": "code",
      "source": [
        "# 소비자별 총 캠페인 참여 횟수를 구하여 CampaignAttendance에 저장\n",
        "# (힌트) 'AcceptedCmpN'의 자료형은 ?!\n",
        "marketing['CampaignAttendance'] = marketing['AcceptedCmp1'] + marketing['AcceptedCmp2']+ marketing['AcceptedCmp3'] + marketing['AcceptedCmp4']"
      ],
      "metadata": {
        "id": "-aBNiwsrXiL-"
      },
      "execution_count": 163,
      "outputs": []
    },
    {
      "cell_type": "code",
      "source": [
        "# 5번의 마케팅 캠페인 모두에 참여한 소비자는 없음\n",
        "marketing['CampaignAttendance'].unique()"
      ],
      "metadata": {
        "colab": {
          "base_uri": "https://localhost:8080/"
        },
        "id": "a9jztOkzbVfv",
        "outputId": "5c5254cc-cfee-42d7-8616-ee1fceab0c5d"
      },
      "execution_count": 164,
      "outputs": [
        {
          "output_type": "execute_result",
          "data": {
            "text/plain": [
              "array([0, 1, 2, 3])"
            ]
          },
          "metadata": {},
          "execution_count": 164
        }
      ]
    },
    {
      "cell_type": "markdown",
      "source": [
        "분석을 위해 **연속형 변수**만을 피처로 사용하겠습니다\n",
        "* (참고) https://www.kaggle.com/ededhiscalifh/marketing-campaign-eda-practice/notebook"
      ],
      "metadata": {
        "id": "icW6f_E2eCgZ"
      }
    },
    {
      "cell_type": "code",
      "source": [
        "ID = ['ID']\n",
        "features = ['days', 'age', 'Income', 'Recency', 'MntWines', 'MntFruits',\\\n",
        "                     'MntMeatProducts', 'MntFishProducts', 'MntSweetProducts',\\\n",
        "                     'MntGoldProds', 'NumDealsPurchases','NumWebPurchases', \\\n",
        "                     'NumCatalogPurchases', 'NumStorePurchases', 'NumWebVisitsMonth']\n",
        "label = ['CampaignAttendance'] "
      ],
      "metadata": {
        "id": "KeUyN8-NgZPn"
      },
      "execution_count": 165,
      "outputs": []
    },
    {
      "cell_type": "code",
      "source": [
        "print(len(features),\"차원 데이터입니다\")"
      ],
      "metadata": {
        "colab": {
          "base_uri": "https://localhost:8080/"
        },
        "id": "9-w-hBDTllT2",
        "outputId": "684bb90f-3027-4d0a-a224-911467ed9ad6"
      },
      "execution_count": 166,
      "outputs": [
        {
          "output_type": "stream",
          "name": "stdout",
          "text": [
            "15 차원 데이터입니다\n"
          ]
        }
      ]
    },
    {
      "cell_type": "code",
      "source": [
        "campaign = marketing[ID + features + label]"
      ],
      "metadata": {
        "id": "cV3kVHKXgmb4"
      },
      "execution_count": 167,
      "outputs": []
    },
    {
      "cell_type": "code",
      "source": [
        "# 결측값 제거\n",
        "campaign = campaign.dropna(axis = 1)"
      ],
      "metadata": {
        "id": "fU-sFW9h0CgD"
      },
      "execution_count": 168,
      "outputs": []
    },
    {
      "cell_type": "code",
      "source": [
        "campaign.shape "
      ],
      "metadata": {
        "colab": {
          "base_uri": "https://localhost:8080/"
        },
        "id": "OO399Nfg1Ekz",
        "outputId": "6462be77-6d1b-4676-dc93-7d292214e543"
      },
      "execution_count": 169,
      "outputs": [
        {
          "output_type": "execute_result",
          "data": {
            "text/plain": [
              "(2240, 16)"
            ]
          },
          "metadata": {},
          "execution_count": 169
        }
      ]
    },
    {
      "cell_type": "markdown",
      "source": [
        "# PCA\n",
        "* 클러스터링을 수행하기 전에 PCA를 사용해 추후 클러스터링 단계에서 사용할 주성분 개수를 구하도록 하겠습니다\n",
        "* 주성분 개수는 분산 설명 비율이 90% 이상이 되게끔 하는 값으로 구하겠습니다"
      ],
      "metadata": {
        "id": "jeHpCZcz_LPn"
      }
    },
    {
      "cell_type": "code",
      "source": [
        "# 데이터프레임의 형태로 피처셋과 레이블셋을 할당해주세요\n",
        "X = campaign.drop(['CampaignAttendance'],axis=1)\n",
        "y = campaign['CampaignAttendance']"
      ],
      "metadata": {
        "id": "-zHq_43kjjoD"
      },
      "execution_count": 170,
      "outputs": []
    },
    {
      "cell_type": "code",
      "source": [
        "# Scaling 먼저 해주세요\n",
        "from sklearn.preprocessing import StandardScaler\n",
        "scaler = StandardScaler()\n",
        "X_std  = scaler.fit_transform(X)\n",
        "\n",
        "# 시각화 위해 데이터프레임으로 변환\n",
        "X_std = pd.DataFrame(X_std, columns=X.columns, index=list(X.index.values))"
      ],
      "metadata": {
        "id": "YEIXn7YQXUX8"
      },
      "execution_count": 171,
      "outputs": []
    },
    {
      "cell_type": "markdown",
      "source": [
        "원본 차원의 수만큼 총 15개의 주성분을 생성하겠습니다"
      ],
      "metadata": {
        "id": "0vLgiUbd1eqL"
      }
    },
    {
      "cell_type": "code",
      "source": [
        "from sklearn.decomposition import PCA\n",
        "\n",
        "pca = PCA(n_components= 15)\n",
        "X_pca = pca.fit_transform(X_std) # PCA에는 scaling한 데이터를 넣어주어야 합니다"
      ],
      "metadata": {
        "id": "21j5wNcIlXDj"
      },
      "execution_count": 172,
      "outputs": []
    },
    {
      "cell_type": "code",
      "source": [
        "# 데이터프레임 변환\n",
        "X_pca = pd.DataFrame(data=X_pca) "
      ],
      "metadata": {
        "id": "hxzFwmh_lzl7"
      },
      "execution_count": 173,
      "outputs": []
    },
    {
      "cell_type": "code",
      "source": [
        "# 100%가 되어야 합니다\n",
        "print(\"15개의 주성분에 의해 설명되는 분산 비율: \", sum(pca.explained_variance_ratio_))"
      ],
      "metadata": {
        "colab": {
          "base_uri": "https://localhost:8080/"
        },
        "id": "CzRDC7VHmLiY",
        "outputId": "adb45201-7a0c-4643-a77c-3f705612ceee"
      },
      "execution_count": 174,
      "outputs": [
        {
          "output_type": "stream",
          "name": "stdout",
          "text": [
            "15개의 주성분에 의해 설명되는 분산 비율:  1.0000000000000002\n"
          ]
        }
      ]
    },
    {
      "cell_type": "code",
      "source": [
        "# 15개의 주성분을 중요도 순으로 나열합니다\n",
        "importanceOfPrincipalComponents = pd.DataFrame(data=pca.explained_variance_ratio_)"
      ],
      "metadata": {
        "id": "tLS776ZcmNn-"
      },
      "execution_count": 175,
      "outputs": []
    },
    {
      "cell_type": "code",
      "source": [
        "importanceOfPrincipalComponents"
      ],
      "metadata": {
        "colab": {
          "base_uri": "https://localhost:8080/",
          "height": 520
        },
        "id": "6nn1F7eATllQ",
        "outputId": "0b6dc9cc-93a3-4b2c-dd03-be41fdd13207"
      },
      "execution_count": 176,
      "outputs": [
        {
          "output_type": "execute_result",
          "data": {
            "text/html": [
              "\n",
              "  <div id=\"df-0b71c90a-8619-45fd-a37f-4461c5c03f7f\">\n",
              "    <div class=\"colab-df-container\">\n",
              "      <div>\n",
              "<style scoped>\n",
              "    .dataframe tbody tr th:only-of-type {\n",
              "        vertical-align: middle;\n",
              "    }\n",
              "\n",
              "    .dataframe tbody tr th {\n",
              "        vertical-align: top;\n",
              "    }\n",
              "\n",
              "    .dataframe thead th {\n",
              "        text-align: right;\n",
              "    }\n",
              "</style>\n",
              "<table border=\"1\" class=\"dataframe\">\n",
              "  <thead>\n",
              "    <tr style=\"text-align: right;\">\n",
              "      <th></th>\n",
              "      <th>0</th>\n",
              "    </tr>\n",
              "  </thead>\n",
              "  <tbody>\n",
              "    <tr>\n",
              "      <th>0</th>\n",
              "      <td>0.342704</td>\n",
              "    </tr>\n",
              "    <tr>\n",
              "      <th>1</th>\n",
              "      <td>0.117683</td>\n",
              "    </tr>\n",
              "    <tr>\n",
              "      <th>2</th>\n",
              "      <td>0.074594</td>\n",
              "    </tr>\n",
              "    <tr>\n",
              "      <th>3</th>\n",
              "      <td>0.069788</td>\n",
              "    </tr>\n",
              "    <tr>\n",
              "      <th>4</th>\n",
              "      <td>0.064132</td>\n",
              "    </tr>\n",
              "    <tr>\n",
              "      <th>5</th>\n",
              "      <td>0.052742</td>\n",
              "    </tr>\n",
              "    <tr>\n",
              "      <th>6</th>\n",
              "      <td>0.050852</td>\n",
              "    </tr>\n",
              "    <tr>\n",
              "      <th>7</th>\n",
              "      <td>0.044552</td>\n",
              "    </tr>\n",
              "    <tr>\n",
              "      <th>8</th>\n",
              "      <td>0.041797</td>\n",
              "    </tr>\n",
              "    <tr>\n",
              "      <th>9</th>\n",
              "      <td>0.032084</td>\n",
              "    </tr>\n",
              "    <tr>\n",
              "      <th>10</th>\n",
              "      <td>0.029081</td>\n",
              "    </tr>\n",
              "    <tr>\n",
              "      <th>11</th>\n",
              "      <td>0.026279</td>\n",
              "    </tr>\n",
              "    <tr>\n",
              "      <th>12</th>\n",
              "      <td>0.021771</td>\n",
              "    </tr>\n",
              "    <tr>\n",
              "      <th>13</th>\n",
              "      <td>0.017004</td>\n",
              "    </tr>\n",
              "    <tr>\n",
              "      <th>14</th>\n",
              "      <td>0.014935</td>\n",
              "    </tr>\n",
              "  </tbody>\n",
              "</table>\n",
              "</div>\n",
              "      <button class=\"colab-df-convert\" onclick=\"convertToInteractive('df-0b71c90a-8619-45fd-a37f-4461c5c03f7f')\"\n",
              "              title=\"Convert this dataframe to an interactive table.\"\n",
              "              style=\"display:none;\">\n",
              "        \n",
              "  <svg xmlns=\"http://www.w3.org/2000/svg\" height=\"24px\"viewBox=\"0 0 24 24\"\n",
              "       width=\"24px\">\n",
              "    <path d=\"M0 0h24v24H0V0z\" fill=\"none\"/>\n",
              "    <path d=\"M18.56 5.44l.94 2.06.94-2.06 2.06-.94-2.06-.94-.94-2.06-.94 2.06-2.06.94zm-11 1L8.5 8.5l.94-2.06 2.06-.94-2.06-.94L8.5 2.5l-.94 2.06-2.06.94zm10 10l.94 2.06.94-2.06 2.06-.94-2.06-.94-.94-2.06-.94 2.06-2.06.94z\"/><path d=\"M17.41 7.96l-1.37-1.37c-.4-.4-.92-.59-1.43-.59-.52 0-1.04.2-1.43.59L10.3 9.45l-7.72 7.72c-.78.78-.78 2.05 0 2.83L4 21.41c.39.39.9.59 1.41.59.51 0 1.02-.2 1.41-.59l7.78-7.78 2.81-2.81c.8-.78.8-2.07 0-2.86zM5.41 20L4 18.59l7.72-7.72 1.47 1.35L5.41 20z\"/>\n",
              "  </svg>\n",
              "      </button>\n",
              "      \n",
              "  <style>\n",
              "    .colab-df-container {\n",
              "      display:flex;\n",
              "      flex-wrap:wrap;\n",
              "      gap: 12px;\n",
              "    }\n",
              "\n",
              "    .colab-df-convert {\n",
              "      background-color: #E8F0FE;\n",
              "      border: none;\n",
              "      border-radius: 50%;\n",
              "      cursor: pointer;\n",
              "      display: none;\n",
              "      fill: #1967D2;\n",
              "      height: 32px;\n",
              "      padding: 0 0 0 0;\n",
              "      width: 32px;\n",
              "    }\n",
              "\n",
              "    .colab-df-convert:hover {\n",
              "      background-color: #E2EBFA;\n",
              "      box-shadow: 0px 1px 2px rgba(60, 64, 67, 0.3), 0px 1px 3px 1px rgba(60, 64, 67, 0.15);\n",
              "      fill: #174EA6;\n",
              "    }\n",
              "\n",
              "    [theme=dark] .colab-df-convert {\n",
              "      background-color: #3B4455;\n",
              "      fill: #D2E3FC;\n",
              "    }\n",
              "\n",
              "    [theme=dark] .colab-df-convert:hover {\n",
              "      background-color: #434B5C;\n",
              "      box-shadow: 0px 1px 3px 1px rgba(0, 0, 0, 0.15);\n",
              "      filter: drop-shadow(0px 1px 2px rgba(0, 0, 0, 0.3));\n",
              "      fill: #FFFFFF;\n",
              "    }\n",
              "  </style>\n",
              "\n",
              "      <script>\n",
              "        const buttonEl =\n",
              "          document.querySelector('#df-0b71c90a-8619-45fd-a37f-4461c5c03f7f button.colab-df-convert');\n",
              "        buttonEl.style.display =\n",
              "          google.colab.kernel.accessAllowed ? 'block' : 'none';\n",
              "\n",
              "        async function convertToInteractive(key) {\n",
              "          const element = document.querySelector('#df-0b71c90a-8619-45fd-a37f-4461c5c03f7f');\n",
              "          const dataTable =\n",
              "            await google.colab.kernel.invokeFunction('convertToInteractive',\n",
              "                                                     [key], {});\n",
              "          if (!dataTable) return;\n",
              "\n",
              "          const docLinkHtml = 'Like what you see? Visit the ' +\n",
              "            '<a target=\"_blank\" href=https://colab.research.google.com/notebooks/data_table.ipynb>data table notebook</a>'\n",
              "            + ' to learn more about interactive tables.';\n",
              "          element.innerHTML = '';\n",
              "          dataTable['output_type'] = 'display_data';\n",
              "          await google.colab.output.renderOutput(dataTable, element);\n",
              "          const docLink = document.createElement('div');\n",
              "          docLink.innerHTML = docLinkHtml;\n",
              "          element.appendChild(docLink);\n",
              "        }\n",
              "      </script>\n",
              "    </div>\n",
              "  </div>\n",
              "  "
            ],
            "text/plain": [
              "           0\n",
              "0   0.342704\n",
              "1   0.117683\n",
              "2   0.074594\n",
              "3   0.069788\n",
              "4   0.064132\n",
              "5   0.052742\n",
              "6   0.050852\n",
              "7   0.044552\n",
              "8   0.041797\n",
              "9   0.032084\n",
              "10  0.029081\n",
              "11  0.026279\n",
              "12  0.021771\n",
              "13  0.017004\n",
              "14  0.014935"
            ]
          },
          "metadata": {},
          "execution_count": 176
        }
      ]
    },
    {
      "cell_type": "markdown",
      "source": [
        "총 분산의 90%이상을 잡아내는 주성분의 개수를 구하세요!\n",
        "* 이후 클러스터링 학습 시 해당 개수만큼 차원 축소한 피처셋을 이용할 겁니다"
      ],
      "metadata": {
        "id": "cBgh60JC13Su"
      }
    },
    {
      "cell_type": "code",
      "source": [
        "# 처음 N개 주성분의 중요도\n",
        "importanceOfPrincipalComponents = importanceOfPrincipalComponents.T\n",
        "\n",
        "print('처음 2개의 주성분에 의해 설명되는 분산 비율: ',\n",
        "      importanceOfPrincipalComponents.loc[:,0:1].sum(axis=1).values)\n",
        "print('처음 11개의 주성분에 의해 설명되는 분산 비율: ',\n",
        "      importanceOfPrincipalComponents.loc[:,0:11-1].sum(axis=1).values)"
      ],
      "metadata": {
        "id": "VaYbrKHsmP8n",
        "colab": {
          "base_uri": "https://localhost:8080/"
        },
        "outputId": "d0e0bc60-430e-44b1-9216-b07d96554f25"
      },
      "execution_count": 177,
      "outputs": [
        {
          "output_type": "stream",
          "name": "stdout",
          "text": [
            "처음 2개의 주성분에 의해 설명되는 분산 비율:  [0.46038643]\n",
            "처음 11개의 주성분에 의해 설명되는 분산 비율:  [0.92001057]\n"
          ]
        }
      ]
    },
    {
      "cell_type": "code",
      "source": [
        "# 처음 두 개의 주성분을 이용하여 2차원 평면에 데이터셋의 분포를 나타내겠습니다\n",
        "def scatterPlot(xDF, yDF):\n",
        "    tempDF = pd.DataFrame(data=xDF.loc[:,0:1], index=xDF.index) \n",
        "    tempDF = pd.concat((tempDF,yDF), axis=1, join=\"inner\")\n",
        "    tempDF.columns = [\"First Vector\", \"Second Vector\", \"Label\"]\n",
        "    sns.lmplot(x=\"First Vector\", y=\"Second Vector\", hue=\"Label\", \\\n",
        "               data=tempDF, fit_reg=False)\n",
        "    ax = plt.gca()\n",
        "    plt.show()"
      ],
      "metadata": {
        "id": "IoKw-srknNpg"
      },
      "execution_count": 178,
      "outputs": []
    },
    {
      "cell_type": "code",
      "source": [
        "# 설명력이 별로군여 ㅠㅅㅠ\n",
        "scatterPlot(X_pca, y)"
      ],
      "metadata": {
        "colab": {
          "base_uri": "https://localhost:8080/",
          "height": 369
        },
        "id": "jjysWUjdnTBy",
        "outputId": "d4758286-af42-40b7-d6a9-601f43641ba4"
      },
      "execution_count": 179,
      "outputs": [
        {
          "output_type": "display_data",
          "data": {
            "image/png": "[encoded data removed]",
            "text/plain": [
              "<Figure size 402.375x360 with 1 Axes>"
            ]
          },
          "metadata": {
            "needs_background": "light"
          }
        }
      ]
    },
    {
      "cell_type": "markdown",
      "source": [
        "# 클러스터링\n",
        "* PCA를 통해 구한 상위 $x$개(분산 설명력 90% 이상)의 주성분을 사용하여 클러스터링을 하고자 합니다"
      ],
      "metadata": {
        "id": "1QvHQjU4nlzT"
      }
    },
    {
      "cell_type": "code",
      "source": [
        "from sklearn.cluster import KMeans"
      ],
      "metadata": {
        "id": "w5mGBqOan1Fe"
      },
      "execution_count": 180,
      "outputs": []
    },
    {
      "cell_type": "code",
      "source": [
        "# 파라미터를 설정해주세요\n",
        "n_clusters = 5 # 군집수\n",
        "n_init =  10 # 초기화 횟수\n",
        "max_iter = 300 # 학습(군집 재할당)의 반복 횟수\n",
        "tol = 0.0001 # 너무 오랜 시간 반복하는 경우에 대비해 tol만큼 줄어들지 않으면 조기 종료\n",
        "random_state = 42\n",
        "\n",
        "kmeans = KMeans(n_clusters=n_clusters, n_init=n_init, \\\n",
        "                max_iter=max_iter, tol=tol, random_state=random_state)"
      ],
      "metadata": {
        "id": "ygKSkQ-gnoYe"
      },
      "execution_count": 181,
      "outputs": []
    },
    {
      "cell_type": "code",
      "source": [
        "# 처음 N개의 주성분만을 이용하고자 합니다\n",
        "cutoff = 11-1 # 앞서 구한 주성분 개수 - 1\n",
        "X_train_Kmeans = X_pca.loc[:,0:cutoff]\n",
        "\n",
        "kmeans = kmeans.fit(X_train_Kmeans)"
      ],
      "metadata": {
        "id": "OaEiMeHYn8Bf"
      },
      "execution_count": 182,
      "outputs": []
    },
    {
      "cell_type": "code",
      "source": [
        "# 클러스터링 결과 \n",
        "result = X_train_Kmeans.copy()\n",
        "\n",
        "result[\"cluster\"] = kmeans.labels_"
      ],
      "metadata": {
        "id": "oDO1FVnboGQ2"
      },
      "execution_count": 183,
      "outputs": []
    },
    {
      "cell_type": "code",
      "source": [
        "result.head()"
      ],
      "metadata": {
        "colab": {
          "base_uri": "https://localhost:8080/",
          "height": 206
        },
        "id": "NYISQ42roH5O",
        "outputId": "0997181a-7055-4658-da54-6fb9e031035d"
      },
      "execution_count": 184,
      "outputs": [
        {
          "output_type": "execute_result",
          "data": {
            "text/html": [
              "\n",
              "  <div id=\"df-e4e42a7d-58f7-48a4-a276-8a1b6d2cfe55\">\n",
              "    <div class=\"colab-df-container\">\n",
              "      <div>\n",
              "<style scoped>\n",
              "    .dataframe tbody tr th:only-of-type {\n",
              "        vertical-align: middle;\n",
              "    }\n",
              "\n",
              "    .dataframe tbody tr th {\n",
              "        vertical-align: top;\n",
              "    }\n",
              "\n",
              "    .dataframe thead th {\n",
              "        text-align: right;\n",
              "    }\n",
              "</style>\n",
              "<table border=\"1\" class=\"dataframe\">\n",
              "  <thead>\n",
              "    <tr style=\"text-align: right;\">\n",
              "      <th></th>\n",
              "      <th>0</th>\n",
              "      <th>1</th>\n",
              "      <th>2</th>\n",
              "      <th>3</th>\n",
              "      <th>4</th>\n",
              "      <th>5</th>\n",
              "      <th>6</th>\n",
              "      <th>7</th>\n",
              "      <th>8</th>\n",
              "      <th>9</th>\n",
              "      <th>10</th>\n",
              "      <th>cluster</th>\n",
              "    </tr>\n",
              "  </thead>\n",
              "  <tbody>\n",
              "    <tr>\n",
              "      <th>0</th>\n",
              "      <td>3.946161</td>\n",
              "      <td>1.313536</td>\n",
              "      <td>-0.800072</td>\n",
              "      <td>-0.302974</td>\n",
              "      <td>-0.507099</td>\n",
              "      <td>1.748397</td>\n",
              "      <td>-0.297277</td>\n",
              "      <td>0.848888</td>\n",
              "      <td>0.271697</td>\n",
              "      <td>1.993428</td>\n",
              "      <td>-0.759284</td>\n",
              "      <td>4</td>\n",
              "    </tr>\n",
              "    <tr>\n",
              "      <th>1</th>\n",
              "      <td>-2.164041</td>\n",
              "      <td>-1.121219</td>\n",
              "      <td>1.456980</td>\n",
              "      <td>-0.414214</td>\n",
              "      <td>1.001470</td>\n",
              "      <td>0.716261</td>\n",
              "      <td>0.115831</td>\n",
              "      <td>0.461678</td>\n",
              "      <td>0.282148</td>\n",
              "      <td>0.265095</td>\n",
              "      <td>-0.032778</td>\n",
              "      <td>3</td>\n",
              "    </tr>\n",
              "    <tr>\n",
              "      <th>2</th>\n",
              "      <td>1.499518</td>\n",
              "      <td>-0.039942</td>\n",
              "      <td>0.433815</td>\n",
              "      <td>0.437840</td>\n",
              "      <td>1.023670</td>\n",
              "      <td>0.110708</td>\n",
              "      <td>0.450927</td>\n",
              "      <td>-0.852268</td>\n",
              "      <td>-1.025823</td>\n",
              "      <td>-0.577843</td>\n",
              "      <td>-0.446708</td>\n",
              "      <td>2</td>\n",
              "    </tr>\n",
              "    <tr>\n",
              "      <th>3</th>\n",
              "      <td>-2.162584</td>\n",
              "      <td>-1.000732</td>\n",
              "      <td>-0.625819</td>\n",
              "      <td>0.626017</td>\n",
              "      <td>0.642093</td>\n",
              "      <td>-0.916393</td>\n",
              "      <td>0.273647</td>\n",
              "      <td>0.101249</td>\n",
              "      <td>-0.125069</td>\n",
              "      <td>-0.086132</td>\n",
              "      <td>-0.030562</td>\n",
              "      <td>3</td>\n",
              "    </tr>\n",
              "    <tr>\n",
              "      <th>4</th>\n",
              "      <td>-0.141103</td>\n",
              "      <td>0.128840</td>\n",
              "      <td>-0.204976</td>\n",
              "      <td>-1.161901</td>\n",
              "      <td>-0.624739</td>\n",
              "      <td>-1.523069</td>\n",
              "      <td>0.904218</td>\n",
              "      <td>1.267200</td>\n",
              "      <td>-0.465436</td>\n",
              "      <td>-0.001952</td>\n",
              "      <td>-0.327661</td>\n",
              "      <td>0</td>\n",
              "    </tr>\n",
              "  </tbody>\n",
              "</table>\n",
              "</div>\n",
              "      <button class=\"colab-df-convert\" onclick=\"convertToInteractive('df-e4e42a7d-58f7-48a4-a276-8a1b6d2cfe55')\"\n",
              "              title=\"Convert this dataframe to an interactive table.\"\n",
              "              style=\"display:none;\">\n",
              "        \n",
              "  <svg xmlns=\"http://www.w3.org/2000/svg\" height=\"24px\"viewBox=\"0 0 24 24\"\n",
              "       width=\"24px\">\n",
              "    <path d=\"M0 0h24v24H0V0z\" fill=\"none\"/>\n",
              "    <path d=\"M18.56 5.44l.94 2.06.94-2.06 2.06-.94-2.06-.94-.94-2.06-.94 2.06-2.06.94zm-11 1L8.5 8.5l.94-2.06 2.06-.94-2.06-.94L8.5 2.5l-.94 2.06-2.06.94zm10 10l.94 2.06.94-2.06 2.06-.94-2.06-.94-.94-2.06-.94 2.06-2.06.94z\"/><path d=\"M17.41 7.96l-1.37-1.37c-.4-.4-.92-.59-1.43-.59-.52 0-1.04.2-1.43.59L10.3 9.45l-7.72 7.72c-.78.78-.78 2.05 0 2.83L4 21.41c.39.39.9.59 1.41.59.51 0 1.02-.2 1.41-.59l7.78-7.78 2.81-2.81c.8-.78.8-2.07 0-2.86zM5.41 20L4 18.59l7.72-7.72 1.47 1.35L5.41 20z\"/>\n",
              "  </svg>\n",
              "      </button>\n",
              "      \n",
              "  <style>\n",
              "    .colab-df-container {\n",
              "      display:flex;\n",
              "      flex-wrap:wrap;\n",
              "      gap: 12px;\n",
              "    }\n",
              "\n",
              "    .colab-df-convert {\n",
              "      background-color: #E8F0FE;\n",
              "      border: none;\n",
              "      border-radius: 50%;\n",
              "      cursor: pointer;\n",
              "      display: none;\n",
              "      fill: #1967D2;\n",
              "      height: 32px;\n",
              "      padding: 0 0 0 0;\n",
              "      width: 32px;\n",
              "    }\n",
              "\n",
              "    .colab-df-convert:hover {\n",
              "      background-color: #E2EBFA;\n",
              "      box-shadow: 0px 1px 2px rgba(60, 64, 67, 0.3), 0px 1px 3px 1px rgba(60, 64, 67, 0.15);\n",
              "      fill: #174EA6;\n",
              "    }\n",
              "\n",
              "    [theme=dark] .colab-df-convert {\n",
              "      background-color: #3B4455;\n",
              "      fill: #D2E3FC;\n",
              "    }\n",
              "\n",
              "    [theme=dark] .colab-df-convert:hover {\n",
              "      background-color: #434B5C;\n",
              "      box-shadow: 0px 1px 3px 1px rgba(0, 0, 0, 0.15);\n",
              "      filter: drop-shadow(0px 1px 2px rgba(0, 0, 0, 0.3));\n",
              "      fill: #FFFFFF;\n",
              "    }\n",
              "  </style>\n",
              "\n",
              "      <script>\n",
              "        const buttonEl =\n",
              "          document.querySelector('#df-e4e42a7d-58f7-48a4-a276-8a1b6d2cfe55 button.colab-df-convert');\n",
              "        buttonEl.style.display =\n",
              "          google.colab.kernel.accessAllowed ? 'block' : 'none';\n",
              "\n",
              "        async function convertToInteractive(key) {\n",
              "          const element = document.querySelector('#df-e4e42a7d-58f7-48a4-a276-8a1b6d2cfe55');\n",
              "          const dataTable =\n",
              "            await google.colab.kernel.invokeFunction('convertToInteractive',\n",
              "                                                     [key], {});\n",
              "          if (!dataTable) return;\n",
              "\n",
              "          const docLinkHtml = 'Like what you see? Visit the ' +\n",
              "            '<a target=\"_blank\" href=https://colab.research.google.com/notebooks/data_table.ipynb>data table notebook</a>'\n",
              "            + ' to learn more about interactive tables.';\n",
              "          element.innerHTML = '';\n",
              "          dataTable['output_type'] = 'display_data';\n",
              "          await google.colab.output.renderOutput(dataTable, element);\n",
              "          const docLink = document.createElement('div');\n",
              "          docLink.innerHTML = docLinkHtml;\n",
              "          element.appendChild(docLink);\n",
              "        }\n",
              "      </script>\n",
              "    </div>\n",
              "  </div>\n",
              "  "
            ],
            "text/plain": [
              "          0         1         2  ...         9        10  cluster\n",
              "0  3.946161  1.313536 -0.800072  ...  1.993428 -0.759284        4\n",
              "1 -2.164041 -1.121219  1.456980  ...  0.265095 -0.032778        3\n",
              "2  1.499518 -0.039942  0.433815  ... -0.577843 -0.446708        2\n",
              "3 -2.162584 -1.000732 -0.625819  ... -0.086132 -0.030562        3\n",
              "4 -0.141103  0.128840 -0.204976  ... -0.001952 -0.327661        0\n",
              "\n",
              "[5 rows x 12 columns]"
            ]
          },
          "metadata": {},
          "execution_count": 184
        }
      ]
    },
    {
      "cell_type": "code",
      "source": [
        "def ClusteringPlot(xDF):\n",
        "    tempDF = pd.DataFrame(data=xDF.loc[:,0:1], index=xDF.index)\n",
        "    tempDF = pd.concat((tempDF,xDF[\"cluster\"]), axis=1, join=\"inner\")\n",
        "    tempDF.columns = [\"First Vector\", \"Second Vector\", \"cluster\"]\n",
        "    sns.lmplot(x=\"First Vector\", y=\"Second Vector\", hue=\"cluster\", \\\n",
        "               data=tempDF, fit_reg=False)\n",
        "    ax = plt.gca()\n",
        "    plt.show()"
      ],
      "metadata": {
        "id": "bFICf9Q4oJmu"
      },
      "execution_count": 185,
      "outputs": []
    },
    {
      "cell_type": "code",
      "source": [
        "ClusteringPlot(result)"
      ],
      "metadata": {
        "colab": {
          "base_uri": "https://localhost:8080/",
          "height": 369
        },
        "id": "vHGlTTnQoLYS",
        "outputId": "f8b042e2-dcc4-4288-85c2-6276273c74ed"
      },
      "execution_count": 187,
      "outputs": [
        {
          "output_type": "display_data",
          "data": {
            "image/png": "[encoded data removed]",
            "text/plain": [
              "<Figure size 402.375x360 with 1 Axes>"
            ]
          },
          "metadata": {
            "needs_background": "light"
          }
        }
      ]
    },
    {
      "cell_type": "code",
      "source": [
        ""
      ],
      "metadata": {
        "id": "KBBfxQSPa1Dd"
      },
      "execution_count": null,
      "outputs": []
    }
  ]
}