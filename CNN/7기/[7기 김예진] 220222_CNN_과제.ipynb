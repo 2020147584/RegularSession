{
 "cells": [
  {
   "cell_type": "markdown",
   "id": "5c549bcc",
   "metadata": {
    "id": "5c549bcc"
   },
   "source": [
    "### 데이터 불러오기"
   ]
  },
  {
   "cell_type": "code",
   "execution_count": 1,
   "id": "20d101d0",
   "metadata": {
    "ExecuteTime": {
     "end_time": "2022-02-22T07:01:07.679489Z",
     "start_time": "2022-02-22T07:01:05.730698Z"
    },
    "id": "20d101d0"
   },
   "outputs": [
    {
     "name": "stderr",
     "output_type": "stream",
     "text": [
      "C:\\Users\\ay011\\anaconda3\\envs\\dsl\\lib\\site-packages\\torchvision\\io\\image.py:11: UserWarning: Failed to load image Python extension: [WinError 126] 지정된 모듈을 찾을 수 없습니다\n",
      "  warn(f\"Failed to load image Python extension: {e}\")\n"
     ]
    }
   ],
   "source": [
    "import torch\n",
    "import torchvision\n",
    "import torchvision.transforms as transforms"
   ]
  },
  {
   "cell_type": "code",
   "execution_count": 2,
   "id": "17355858",
   "metadata": {},
   "outputs": [
    {
     "data": {
      "text/plain": [
       "'cuda:0'"
      ]
     },
     "execution_count": 2,
     "metadata": {},
     "output_type": "execute_result"
    }
   ],
   "source": [
    "device = 'cuda:0' if torch.cuda.is_available() else 'cpu'\n",
    "device"
   ]
  },
  {
   "cell_type": "code",
   "execution_count": 3,
   "id": "62dbb2f1",
   "metadata": {
    "ExecuteTime": {
     "end_time": "2022-02-22T07:07:57.744568Z",
     "start_time": "2022-02-22T07:07:57.083336Z"
    },
    "colab": {
     "base_uri": "https://localhost:8080/"
    },
    "id": "62dbb2f1",
    "outputId": "e1c7254b-59eb-4999-a6c7-bc081833318b"
   },
   "outputs": [],
   "source": [
    "transform = transforms.Compose(\n",
    "    [transforms.ToTensor(),\n",
    "     transforms.Normalize((0.5, 0.5, 0.5), (0.5, 0.5, 0.5))])\n",
    "\n",
    "batch_size = 512\n",
    "\n",
    "trainset = torchvision.datasets.CIFAR10(root='./data', train=True,\n",
    "                                        download=False, transform=transform)\n",
    "\n",
    "testset = torchvision.datasets.CIFAR10(root='./data', train=False,\n",
    "                                       download=False, transform=transform)"
   ]
  },
  {
   "cell_type": "code",
   "execution_count": 4,
   "id": "eb71d508",
   "metadata": {},
   "outputs": [],
   "source": [
    "trainloader = torch.utils.data.DataLoader(trainset, batch_size=batch_size,\n",
    "                                          shuffle=True, num_workers=2)\n",
    "testloader = torch.utils.data.DataLoader(testset, batch_size=batch_size,\n",
    "                                         shuffle=False, num_workers=2)\n",
    "\n",
    "classes = ('plane', 'car', 'bird', 'cat',\n",
    "           'deer', 'dog', 'frog', 'horse', 'ship', 'truck')"
   ]
  },
  {
   "cell_type": "markdown",
   "id": "YQTUDNzNVU-v",
   "metadata": {
    "id": "YQTUDNzNVU-v"
   },
   "source": [
    "### 데이터 일부 확인"
   ]
  },
  {
   "cell_type": "code",
   "execution_count": 5,
   "id": "88fbcc79",
   "metadata": {
    "colab": {
     "base_uri": "https://localhost:8080/",
     "height": 156
    },
    "id": "88fbcc79",
    "outputId": "7bb67ddd-bec3-4088-8578-675acc9a0fc9"
   },
   "outputs": [
    {
     "data": {
      "image/png": "[encoded data removed]",
      "text/plain": [
       "<Figure size 432x288 with 1 Axes>"
      ]
     },
     "metadata": {
      "needs_background": "light"
     },
     "output_type": "display_data"
    },
    {
     "name": "stdout",
     "output_type": "stream",
     "text": [
      "deer  frog  frog  dog   plane truck frog  cat   plane deer  ship  bird  deer  dog   frog  horse truck cat   bird  truck plane frog  horse cat   truck cat   ship  horse ship  plane bird  car   deer  frog  cat   frog  frog  dog   truck dog   dog   cat   ship  frog  frog  bird  deer  horse dog   cat   cat   deer  deer  dog   frog  ship  cat   frog  bird  frog  car   deer  horse truck car   car   horse plane bird  frog  bird  frog  deer  dog   plane ship  car   plane frog  horse horse plane plane cat   bird  plane dog   ship  car   dog   ship  plane deer  cat   horse deer  deer  horse cat   cat   horse dog   deer  ship  car   frog  car   bird  ship  dog   frog  cat   frog  car   frog  dog   car   dog   frog  truck bird  cat   bird  deer  horse ship  truck cat   deer  cat   deer  cat   plane plane bird  dog   dog   horse dog   ship  dog   bird  horse bird  truck bird  car   bird  ship  ship  horse bird  deer  car   horse horse truck frog  ship  dog   deer  ship  cat   deer  dog   dog   frog  deer  plane bird  horse plane bird  bird  car   horse cat   car   cat   car   car   horse cat   deer  car   bird  ship  frog  dog   horse car   car   frog  bird  bird  frog  car   dog   deer  deer  deer  ship  car   plane dog   ship  car   deer  truck bird  horse deer  deer  bird  dog   plane bird  car   dog   dog   truck deer  bird  plane dog   truck bird  dog   ship  cat   dog   bird  truck deer  truck cat   horse frog  frog  truck bird  plane car   dog   frog  deer  horse bird  horse car   cat   car   frog  cat   dog   bird  car   dog   bird  bird  ship  frog  truck bird  truck deer  plane frog  plane plane dog   frog  truck frog  cat   cat   deer  frog  horse cat   ship  horse bird  horse bird  cat   horse truck bird  horse ship  cat   bird  car   ship  deer  dog   truck horse ship  car   dog   truck cat   cat   car   ship  car   bird  bird  dog   deer  deer  dog   cat   ship  horse car   dog   dog   truck ship  car   dog   plane ship  cat   car   plane truck horse car   plane truck cat   bird  bird  dog   car   deer  horse bird  car   deer  ship  dog   truck car   ship  bird  truck cat   car   horse plane dog   plane ship  car   deer  ship  cat   car   deer  deer  deer  car   dog   dog   deer  bird  horse truck car   deer  ship  car   car   deer  plane plane cat   deer  bird  bird  dog   horse horse cat   cat   bird  truck frog  plane car   deer  car   deer  plane deer  frog  bird  plane deer  deer  cat   dog   cat   dog   ship  car   bird  plane horse deer  ship  cat   truck plane frog  car   horse truck deer  plane frog  plane bird  truck cat   truck plane deer  frog  frog  bird  deer  bird  bird  frog  bird  deer  truck bird  cat   horse car   car   horse cat   truck ship  frog  frog  dog   plane truck deer  frog  dog   car   car   deer  plane car   truck deer  truck plane plane horse car   bird  cat   truck dog   car   ship  truck truck deer  bird  bird  truck truck frog  ship  car   frog  truck ship  dog   truck frog  bird  car   frog  deer  horse car   horse dog   horse car   ship  horse car   dog   truck cat   horse ship \n"
     ]
    }
   ],
   "source": [
    "import matplotlib.pyplot as plt\n",
    "import numpy as np\n",
    "\n",
    "# 이미지를 보여주기 위한 함수\n",
    "\n",
    "def imshow(img):\n",
    "    img = img / 2 + 0.5     # unnormalize\n",
    "    npimg = img.numpy()\n",
    "    plt.imshow(np.transpose(npimg, (1, 2, 0)))\n",
    "    plt.show()\n",
    "\n",
    "\n",
    "# 학습용 이미지를 무작위로 가져오기\n",
    "dataiter = iter(trainloader)\n",
    "images, labels = dataiter.next()\n",
    "\n",
    "# 이미지 보여주기\n",
    "imshow(torchvision.utils.make_grid(images))\n",
    "# 정답(label) 출력\n",
    "print(' '.join(f'{classes[labels[j]]:5s}' for j in range(batch_size)))"
   ]
  },
  {
   "cell_type": "markdown",
   "id": "z1nHmbItUeuj",
   "metadata": {
    "id": "z1nHmbItUeuj"
   },
   "source": [
    "## 모델 정의\n",
    "이후부터 과제 진행하시면 됩니다! 위는 수정 XX\n",
    "\n",
    "'#####으로 표시된 부분에 작성하세요!"
   ]
  },
  {
   "cell_type": "code",
   "execution_count": 6,
   "id": "U1einm98UZyY",
   "metadata": {
    "id": "U1einm98UZyY"
   },
   "outputs": [],
   "source": [
    "import torch.nn as nn"
   ]
  },
  {
   "cell_type": "code",
   "execution_count": 7,
   "id": "GDMWeqWKUkoZ",
   "metadata": {
    "id": "GDMWeqWKUkoZ"
   },
   "outputs": [],
   "source": [
    "# conv. layer, relu,  pooling layer, fc layer를 모두 1층 이상 사용하는 모델 Net()을 만들어주세요\n",
    "\n",
    "class Net(nn.Module):\n",
    "    def __init__(self):\n",
    "        super(Net, self).__init__()\n",
    "        self.layer1 = nn.Sequential(\n",
    "            nn.Conv2d(in_channels=3,out_channels=32,kernel_size=3, padding=1),  # (32, 32, 32)\n",
    "            nn.ReLU()\n",
    "        )\n",
    "                \n",
    "        self.layer2 = nn.Sequential(\n",
    "            nn.Conv2d(in_channels=32,out_channels=64,kernel_size=3, padding=1), # (64, 32, 32)\n",
    "            nn.MaxPool2d(kernel_size=2,stride=2),                               #  (64, 16, 16)\n",
    "            nn.ReLU()\n",
    "        )\n",
    "        \n",
    "        self.layer3 = nn.Sequential(\n",
    "            nn.Conv2d(in_channels=64,out_channels=128,kernel_size=3, padding=1), # (128, 16, 16)\n",
    "            nn.ReLU()\n",
    "        )\n",
    "        \n",
    "        self.layer4 = nn.Sequential(\n",
    "            nn.Conv2d(in_channels=128,out_channels=256,kernel_size=3, padding=1), # (256, 16, 16)\n",
    "            nn.MaxPool2d(kernel_size=2,stride=2),                               #  (256, 8, 8)\n",
    "            nn.ReLU()\n",
    "        )\n",
    "        \n",
    "        self.fc1 = nn.Sequential(\n",
    "            nn.Linear(256*8*8, 1024),\n",
    "            nn.ReLU(),\n",
    "            nn.Linear(1024, 10)\n",
    "        )\n",
    "        \n",
    "        \n",
    "\n",
    "\n",
    "    def forward(self, x):\n",
    "        out = self.layer1(x)\n",
    "        out = self.layer2(out)\n",
    "        out = self.layer3(out)\n",
    "        out = self.layer4(out)\n",
    "        out = out.view(out.size(0),-1) \n",
    "        out = self.fc1(out)        \n",
    "        return out\n",
    "\n",
    "net = Net().to(device)"
   ]
  },
  {
   "cell_type": "markdown",
   "id": "IvnxCSuqUyRZ",
   "metadata": {
    "id": "IvnxCSuqUyRZ"
   },
   "source": [
    "## 손실함수, optimizer 정의\n",
    "필요한 모듈을 import하고 손실함수는 CrossEntropyLoss, optimizer는 SGD를 사용해주세요.\n",
    "\n",
    "optimizer의 하이퍼파라미터는 lr=0.001, momentum=0.9로 통일합니다.\n",
    "\n",
    "작성한 모델이 무거워 실행 시간이 오래 걸린다면 GPU를 활용하세요."
   ]
  },
  {
   "cell_type": "code",
   "execution_count": 8,
   "id": "ohxKWWZEU1gB",
   "metadata": {
    "id": "ohxKWWZEU1gB"
   },
   "outputs": [],
   "source": [
    "import torch.optim as optim\n",
    "\n",
    "criterion = nn.CrossEntropyLoss().to(device)\n",
    "optimizer = optim.SGD(net.parameters(), lr=1e-3, momentum=0.9)"
   ]
  },
  {
   "cell_type": "markdown",
   "id": "JJ-I8388WeNP",
   "metadata": {
    "id": "JJ-I8388WeNP"
   },
   "source": [
    "## 모델 구조 확인\n",
    "필요한 모듈을 import하여 모델의 구조를 확인하세요."
   ]
  },
  {
   "cell_type": "code",
   "execution_count": 9,
   "id": "cNgilC3VWdXP",
   "metadata": {
    "id": "cNgilC3VWdXP"
   },
   "outputs": [
    {
     "name": "stdout",
     "output_type": "stream",
     "text": [
      "----------------------------------------------------------------\n",
      "        Layer (type)               Output Shape         Param #\n",
      "================================================================\n",
      "            Conv2d-1          [256, 32, 32, 32]             896\n",
      "              ReLU-2          [256, 32, 32, 32]               0\n",
      "            Conv2d-3          [256, 64, 32, 32]          18,496\n",
      "         MaxPool2d-4          [256, 64, 16, 16]               0\n",
      "              ReLU-5          [256, 64, 16, 16]               0\n",
      "            Conv2d-6         [256, 128, 16, 16]          73,856\n",
      "              ReLU-7         [256, 128, 16, 16]               0\n",
      "            Conv2d-8         [256, 256, 16, 16]         295,168\n",
      "         MaxPool2d-9           [256, 256, 8, 8]               0\n",
      "             ReLU-10           [256, 256, 8, 8]               0\n",
      "           Linear-11                [256, 1024]      16,778,240\n",
      "             ReLU-12                [256, 1024]               0\n",
      "           Linear-13                  [256, 10]          10,250\n",
      "================================================================\n",
      "Total params: 17,176,906\n",
      "Trainable params: 17,176,906\n",
      "Non-trainable params: 0\n",
      "----------------------------------------------------------------\n",
      "Input size (MB): 3.00\n",
      "Forward/backward pass size (MB): 644.02\n",
      "Params size (MB): 65.52\n",
      "Estimated Total Size (MB): 712.54\n",
      "----------------------------------------------------------------\n"
     ]
    }
   ],
   "source": [
    "from torchsummary import summary\n",
    "summary(net,(3,32,32), batch_size=256) \n"
   ]
  },
  {
   "cell_type": "markdown",
   "id": "1J8ealKkXOEM",
   "metadata": {
    "id": "1J8ealKkXOEM"
   },
   "source": [
    "## Train"
   ]
  },
  {
   "cell_type": "code",
   "execution_count": 10,
   "id": "4d3f441d",
   "metadata": {},
   "outputs": [],
   "source": [
    "from tqdm import tqdm"
   ]
  },
  {
   "cell_type": "code",
   "execution_count": 12,
   "id": "nKM5C9MMXRHY",
   "metadata": {
    "id": "nKM5C9MMXRHY",
    "scrolled": true
   },
   "outputs": [
    {
     "name": "stderr",
     "output_type": "stream",
     "text": [
      "  4%|███▎                                                                               | 1/25 [00:16<06:34, 16.43s/it]"
     ]
    },
    {
     "name": "stdout",
     "output_type": "stream",
     "text": [
      "Epoch : 1 loss: 2.2973\n"
     ]
    },
    {
     "name": "stderr",
     "output_type": "stream",
     "text": [
      "\r",
      "  8%|██████▋                                                                            | 2/25 [00:32<06:17, 16.42s/it]"
     ]
    },
    {
     "name": "stdout",
     "output_type": "stream",
     "text": [
      "Epoch : 2 loss: 2.2919\n"
     ]
    },
    {
     "name": "stderr",
     "output_type": "stream",
     "text": [
      "\r",
      " 12%|█████████▉                                                                         | 3/25 [00:49<06:00, 16.41s/it]"
     ]
    },
    {
     "name": "stdout",
     "output_type": "stream",
     "text": [
      "Epoch : 3 loss: 2.2786\n"
     ]
    },
    {
     "name": "stderr",
     "output_type": "stream",
     "text": [
      "\r",
      " 16%|█████████████▎                                                                     | 4/25 [01:05<05:45, 16.45s/it]"
     ]
    },
    {
     "name": "stdout",
     "output_type": "stream",
     "text": [
      "Epoch : 4 loss: 2.2331\n"
     ]
    },
    {
     "name": "stderr",
     "output_type": "stream",
     "text": [
      "\r",
      " 20%|████████████████▌                                                                  | 5/25 [01:22<05:30, 16.52s/it]"
     ]
    },
    {
     "name": "stdout",
     "output_type": "stream",
     "text": [
      "Epoch : 5 loss: 2.1184\n"
     ]
    },
    {
     "name": "stderr",
     "output_type": "stream",
     "text": [
      "\r",
      " 24%|███████████████████▉                                                               | 6/25 [01:39<05:14, 16.57s/it]"
     ]
    },
    {
     "name": "stdout",
     "output_type": "stream",
     "text": [
      "Epoch : 6 loss: 2.0321\n"
     ]
    },
    {
     "name": "stderr",
     "output_type": "stream",
     "text": [
      "\r",
      " 28%|███████████████████████▏                                                           | 7/25 [01:55<04:57, 16.52s/it]"
     ]
    },
    {
     "name": "stdout",
     "output_type": "stream",
     "text": [
      "Epoch : 7 loss: 1.9664\n"
     ]
    },
    {
     "name": "stderr",
     "output_type": "stream",
     "text": [
      "\r",
      " 32%|██████████████████████████▌                                                        | 8/25 [02:11<04:40, 16.49s/it]"
     ]
    },
    {
     "name": "stdout",
     "output_type": "stream",
     "text": [
      "Epoch : 8 loss: 1.8931\n"
     ]
    },
    {
     "name": "stderr",
     "output_type": "stream",
     "text": [
      "\r",
      " 36%|█████████████████████████████▉                                                     | 9/25 [02:28<04:23, 16.47s/it]"
     ]
    },
    {
     "name": "stdout",
     "output_type": "stream",
     "text": [
      "Epoch : 9 loss: 1.8212\n"
     ]
    },
    {
     "name": "stderr",
     "output_type": "stream",
     "text": [
      "\r",
      " 40%|████████████████████████████████▊                                                 | 10/25 [02:44<04:06, 16.47s/it]"
     ]
    },
    {
     "name": "stdout",
     "output_type": "stream",
     "text": [
      "Epoch : 10 loss: 1.7628\n"
     ]
    },
    {
     "name": "stderr",
     "output_type": "stream",
     "text": [
      "\r",
      " 44%|████████████████████████████████████                                              | 11/25 [03:01<03:50, 16.47s/it]"
     ]
    },
    {
     "name": "stdout",
     "output_type": "stream",
     "text": [
      "Epoch : 11 loss: 1.7157\n"
     ]
    },
    {
     "name": "stderr",
     "output_type": "stream",
     "text": [
      "\r",
      " 48%|███████████████████████████████████████▎                                          | 12/25 [03:17<03:34, 16.52s/it]"
     ]
    },
    {
     "name": "stdout",
     "output_type": "stream",
     "text": [
      "Epoch : 12 loss: 1.6719\n"
     ]
    },
    {
     "name": "stderr",
     "output_type": "stream",
     "text": [
      "\r",
      " 52%|██████████████████████████████████████████▋                                       | 13/25 [03:35<03:20, 16.70s/it]"
     ]
    },
    {
     "name": "stdout",
     "output_type": "stream",
     "text": [
      "Epoch : 13 loss: 1.6319\n"
     ]
    },
    {
     "name": "stderr",
     "output_type": "stream",
     "text": [
      "\r",
      " 56%|█████████████████████████████████████████████▉                                    | 14/25 [03:51<03:03, 16.72s/it]"
     ]
    },
    {
     "name": "stdout",
     "output_type": "stream",
     "text": [
      "Epoch : 14 loss: 1.5929\n"
     ]
    },
    {
     "name": "stderr",
     "output_type": "stream",
     "text": [
      "\r",
      " 60%|█████████████████████████████████████████████████▏                                | 15/25 [04:08<02:47, 16.74s/it]"
     ]
    },
    {
     "name": "stdout",
     "output_type": "stream",
     "text": [
      "Epoch : 15 loss: 1.5582\n"
     ]
    },
    {
     "name": "stderr",
     "output_type": "stream",
     "text": [
      "\r",
      " 64%|████████████████████████████████████████████████████▍                             | 16/25 [04:25<02:30, 16.73s/it]"
     ]
    },
    {
     "name": "stdout",
     "output_type": "stream",
     "text": [
      "Epoch : 16 loss: 1.5245\n"
     ]
    },
    {
     "name": "stderr",
     "output_type": "stream",
     "text": [
      "\r",
      " 68%|███████████████████████████████████████████████████████▊                          | 17/25 [04:42<02:13, 16.73s/it]"
     ]
    },
    {
     "name": "stdout",
     "output_type": "stream",
     "text": [
      "Epoch : 17 loss: 1.4933\n"
     ]
    },
    {
     "name": "stderr",
     "output_type": "stream",
     "text": [
      "\r",
      " 72%|███████████████████████████████████████████████████████████                       | 18/25 [04:58<01:57, 16.77s/it]"
     ]
    },
    {
     "name": "stdout",
     "output_type": "stream",
     "text": [
      "Epoch : 18 loss: 1.4649\n"
     ]
    },
    {
     "name": "stderr",
     "output_type": "stream",
     "text": [
      "\r",
      " 76%|██████████████████████████████████████████████████████████████▎                   | 19/25 [05:15<01:40, 16.81s/it]"
     ]
    },
    {
     "name": "stdout",
     "output_type": "stream",
     "text": [
      "Epoch : 19 loss: 1.4407\n"
     ]
    },
    {
     "name": "stderr",
     "output_type": "stream",
     "text": [
      "\r",
      " 80%|█████████████████████████████████████████████████████████████████▌                | 20/25 [05:32<01:24, 16.81s/it]"
     ]
    },
    {
     "name": "stdout",
     "output_type": "stream",
     "text": [
      "Epoch : 20 loss: 1.4166\n"
     ]
    },
    {
     "name": "stderr",
     "output_type": "stream",
     "text": [
      "\r",
      " 84%|████████████████████████████████████████████████████████████████████▉             | 21/25 [05:49<01:07, 16.81s/it]"
     ]
    },
    {
     "name": "stdout",
     "output_type": "stream",
     "text": [
      "Epoch : 21 loss: 1.3957\n"
     ]
    },
    {
     "name": "stderr",
     "output_type": "stream",
     "text": [
      "\r",
      " 88%|████████████████████████████████████████████████████████████████████████▏         | 22/25 [06:05<00:50, 16.72s/it]"
     ]
    },
    {
     "name": "stdout",
     "output_type": "stream",
     "text": [
      "Epoch : 22 loss: 1.3767\n"
     ]
    },
    {
     "name": "stderr",
     "output_type": "stream",
     "text": [
      "\r",
      " 92%|███████████████████████████████████████████████████████████████████████████▍      | 23/25 [06:22<00:33, 16.66s/it]"
     ]
    },
    {
     "name": "stdout",
     "output_type": "stream",
     "text": [
      "Epoch : 23 loss: 1.3555\n"
     ]
    },
    {
     "name": "stderr",
     "output_type": "stream",
     "text": [
      "\r",
      " 96%|██████████████████████████████████████████████████████████████████████████████▋   | 24/25 [06:38<00:16, 16.61s/it]"
     ]
    },
    {
     "name": "stdout",
     "output_type": "stream",
     "text": [
      "Epoch : 24 loss: 1.3392\n"
     ]
    },
    {
     "name": "stderr",
     "output_type": "stream",
     "text": [
      "100%|██████████████████████████████████████████████████████████████████████████████████| 25/25 [06:55<00:00, 16.62s/it]"
     ]
    },
    {
     "name": "stdout",
     "output_type": "stream",
     "text": [
      "Epoch : 25 loss: 1.3221\n",
      "Finished Training\n"
     ]
    },
    {
     "name": "stderr",
     "output_type": "stream",
     "text": [
      "\n"
     ]
    }
   ],
   "source": [
    "# 모델을 학습\n",
    "net.train()\n",
    "for epoch in tqdm(range(25)):\n",
    "\n",
    "    running_loss = 0.0\n",
    "    \n",
    "    for i, data in enumerate(trainloader, 0):\n",
    "        # [inputs, labels]의 목록인 data로부터 입력을 받은 후;\n",
    "        inputs = data[0].to(device)\n",
    "        labels = data[1].to(device)        \n",
    "        \n",
    "        ##### 아래 작성 #####\n",
    "        optimizer.zero_grad()\n",
    "        output = net.forward(inputs)\n",
    "        loss = criterion(output, labels)\n",
    "        loss.backward()\n",
    "        optimizer.step()\n",
    "        \n",
    "        \n",
    "        \n",
    "        running_loss += loss.item()\n",
    "\n",
    "\n",
    "    print(f'Epoch : {epoch + 1} loss: {running_loss / (i+1):.4f}')\n",
    "\n",
    "print('Finished Training')"
   ]
  },
  {
   "cell_type": "markdown",
   "id": "pO7foeVZYQGc",
   "metadata": {
    "id": "pO7foeVZYQGc"
   },
   "source": [
    "## Test"
   ]
  },
  {
   "cell_type": "code",
   "execution_count": 13,
   "id": "UXkcLnHiXXik",
   "metadata": {
    "id": "UXkcLnHiXXik"
   },
   "outputs": [],
   "source": [
    "dataiter = iter(testloader)\n",
    "images, labels = dataiter.next()"
   ]
  },
  {
   "cell_type": "code",
   "execution_count": 14,
   "id": "SUquYa8eYd3t",
   "metadata": {
    "id": "SUquYa8eYd3t"
   },
   "outputs": [
    {
     "name": "stdout",
     "output_type": "stream",
     "text": [
      "Accuracy of the network on the 10000 test images: 51 %\n"
     ]
    }
   ],
   "source": [
    "## 아래 코드 그대로 실행\n",
    "correct = 0\n",
    "total = 0\n",
    "# 학습 중이 아니므로, 출력에 대한 변화도를 계산할 필요가 없습니다\n",
    "net.eval()\n",
    "with torch.no_grad():\n",
    "    for data in testloader:\n",
    "        images = data[0].to(device)\n",
    "        labels = data[1].to(device)\n",
    "        # 신경망에 이미지를 통과시켜 출력을 계산합니다\n",
    "        outputs = net(images)\n",
    "        # 가장 높은 값(energy)를 갖는 분류(class)를 정답으로 선택하겠습니다\n",
    "        _, predicted = torch.max(outputs.data, 1)\n",
    "        total += labels.size(0)\n",
    "        correct += (predicted == labels).sum().item()\n",
    "\n",
    "print(f'Accuracy of the network on the 10000 test images: {100 * correct // total} %')"
   ]
  },
  {
   "cell_type": "markdown",
   "id": "GA5RjBm-YzCE",
   "metadata": {
    "id": "GA5RjBm-YzCE"
   },
   "source": [
    "## 클래스별 accuracy 비교"
   ]
  },
  {
   "cell_type": "code",
   "execution_count": 15,
   "id": "zAoJae7eY1WU",
   "metadata": {
    "id": "zAoJae7eY1WU"
   },
   "outputs": [
    {
     "name": "stdout",
     "output_type": "stream",
     "text": [
      "Accuracy for class: plane is 63.1 %\n",
      "Accuracy for class: car   is 82.0 %\n",
      "Accuracy for class: bird  is 44.4 %\n",
      "Accuracy for class: cat   is 35.3 %\n",
      "Accuracy for class: deer  is 26.2 %\n",
      "Accuracy for class: dog   is 37.6 %\n",
      "Accuracy for class: frog  is 71.1 %\n",
      "Accuracy for class: horse is 52.5 %\n",
      "Accuracy for class: ship  is 64.6 %\n",
      "Accuracy for class: truck is 39.7 %\n"
     ]
    }
   ],
   "source": [
    "## 아래 코드 그대로 실행\n",
    "\n",
    "# 각 분류(class)에 대한 예측값 계산을 위해 준비\n",
    "correct_pred = {classname: 0 for classname in classes}\n",
    "total_pred = {classname: 0 for classname in classes}\n",
    "\n",
    "# 변화도는 여전히 필요하지 않습니다\n",
    "with torch.no_grad():\n",
    "    for data in testloader:\n",
    "        images = data[0].to(device)\n",
    "        labels = data[1].to(device)\n",
    "        outputs = net(images)\n",
    "        _, predictions = torch.max(outputs, 1)\n",
    "        # 각 분류별로 올바른 예측 수를 모읍니다\n",
    "        for label, prediction in zip(labels, predictions):\n",
    "            if label == prediction:\n",
    "                correct_pred[classes[label]] += 1\n",
    "            total_pred[classes[label]] += 1\n",
    "\n",
    "\n",
    "# 각 분류별 정확도(accuracy)를 출력합니다\n",
    "for classname, correct_count in correct_pred.items():\n",
    "    accuracy = 100 * float(correct_count) / total_pred[classname]\n",
    "    print(f'Accuracy for class: {classname:5s} is {accuracy:.1f} %')"
   ]
  }
 ],
 "metadata": {
  "colab": {
   "collapsed_sections": [],
   "name": "220222 CNN 과제.ipynb",
   "provenance": []
  },
  "hide_input": false,
  "kernelspec": {
   "display_name": "dsl",
   "language": "python",
   "name": "dsl"
  },
  "language_info": {
   "codemirror_mode": {
    "name": "ipython",
    "version": 3
   },
   "file_extension": ".py",
   "mimetype": "text/x-python",
   "name": "python",
   "nbconvert_exporter": "python",
   "pygments_lexer": "ipython3",
   "version": "3.7.11"
  },
  "toc": {
   "base_numbering": 1,
   "nav_menu": {},
   "number_sections": true,
   "sideBar": true,
   "skip_h1_title": false,
   "title_cell": "Table of Contents",
   "title_sidebar": "Contents",
   "toc_cell": false,
   "toc_position": {},
   "toc_section_display": true,
   "toc_window_display": false
  },
  "varInspector": {
   "cols": {
    "lenName": 16,
    "lenType": 16,
    "lenVar": 40
   },
   "kernels_config": {
    "python": {
     "delete_cmd_postfix": "",
     "delete_cmd_prefix": "del ",
     "library": "var_list.py",
     "varRefreshCmd": "print(var_dic_list())"
    },
    "r": {
     "delete_cmd_postfix": ") ",
     "delete_cmd_prefix": "rm(",
     "library": "var_list.r",
     "varRefreshCmd": "cat(var_dic_list()) "
    }
   },
   "types_to_exclude": [
    "module",
    "function",
    "builtin_function_or_method",
    "instance",
    "_Feature"
   ],
   "window_display": false
  }
 },
 "nbformat": 4,
 "nbformat_minor": 5
}
